{
 "cells": [
  {
   "cell_type": "code",
   "execution_count": 1,
   "id": "bd9372fc-6bc4-4fd2-989c-840720224d5f",
   "metadata": {},
   "outputs": [
    {
     "name": "stdout",
     "output_type": "stream",
     "text": [
      "Requirement already satisfied: seaborn in c:\\users\\testimoni\\anaconda3\\lib\\site-packages (0.11.2)\n",
      "Requirement already satisfied: matplotlib>=2.2 in c:\\users\\testimoni\\anaconda3\\lib\\site-packages (from seaborn) (3.5.2)\n",
      "Requirement already satisfied: pandas>=0.23 in c:\\users\\testimoni\\anaconda3\\lib\\site-packages (from seaborn) (1.4.4)\n",
      "Requirement already satisfied: numpy>=1.15 in c:\\users\\testimoni\\anaconda3\\lib\\site-packages (from seaborn) (1.21.5)\n",
      "Requirement already satisfied: scipy>=1.0 in c:\\users\\testimoni\\anaconda3\\lib\\site-packages (from seaborn) (1.9.1)\n",
      "Requirement already satisfied: fonttools>=4.22.0 in c:\\users\\testimoni\\anaconda3\\lib\\site-packages (from matplotlib>=2.2->seaborn) (4.25.0)\n",
      "Requirement already satisfied: packaging>=20.0 in c:\\users\\testimoni\\anaconda3\\lib\\site-packages (from matplotlib>=2.2->seaborn) (21.3)\n",
      "Requirement already satisfied: pyparsing>=2.2.1 in c:\\users\\testimoni\\anaconda3\\lib\\site-packages (from matplotlib>=2.2->seaborn) (3.0.9)\n",
      "Requirement already satisfied: cycler>=0.10 in c:\\users\\testimoni\\anaconda3\\lib\\site-packages (from matplotlib>=2.2->seaborn) (0.11.0)\n",
      "Requirement already satisfied: pillow>=6.2.0 in c:\\users\\testimoni\\anaconda3\\lib\\site-packages (from matplotlib>=2.2->seaborn) (9.2.0)\n",
      "Requirement already satisfied: kiwisolver>=1.0.1 in c:\\users\\testimoni\\anaconda3\\lib\\site-packages (from matplotlib>=2.2->seaborn) (1.4.2)\n",
      "Requirement already satisfied: python-dateutil>=2.7 in c:\\users\\testimoni\\anaconda3\\lib\\site-packages (from matplotlib>=2.2->seaborn) (2.8.2)\n",
      "Requirement already satisfied: pytz>=2020.1 in c:\\users\\testimoni\\anaconda3\\lib\\site-packages (from pandas>=0.23->seaborn) (2022.1)\n",
      "Requirement already satisfied: six>=1.5 in c:\\users\\testimoni\\anaconda3\\lib\\site-packages (from python-dateutil>=2.7->matplotlib>=2.2->seaborn) (1.16.0)\n"
     ]
    }
   ],
   "source": [
    "!pip install seaborn --user"
   ]
  },
  {
   "cell_type": "code",
   "execution_count": 2,
   "id": "a496ca13-220b-4c79-af5f-ead7e730d3cf",
   "metadata": {},
   "outputs": [],
   "source": [
    "import pandas as pd\n",
    "import numpy as np\n",
    "import seaborn as sns\n",
    "from matplotlib import pyplot as plt"
   ]
  },
  {
   "cell_type": "code",
   "execution_count": 8,
   "id": "b26201b1-8b9f-421e-b921-2fc66015f9f6",
   "metadata": {},
   "outputs": [],
   "source": []
  },
  {
   "cell_type": "code",
   "execution_count": 3,
   "id": "b9b9b42e-9c57-40ae-9ad6-319d8a5ccceb",
   "metadata": {},
   "outputs": [],
   "source": [
    "# Set visualization theme\n",
    "sns.set()"
   ]
  },
  {
   "cell_type": "code",
   "execution_count": 5,
   "id": "5a83f14d-a501-4463-ab38-66c2f99a0160",
   "metadata": {},
   "outputs": [],
   "source": [
    "data_set = pd.read_csv(\"Data/Jewelry_Dataset.csv\")\n",
    "# df = pd.read_csv(r\"C:\\Users\\TestimOni\\OneDrive - Ulster University\\Desktop\\OptimumJewelryPricing\\Data\\Jewelry_Dataset.csv\")"
   ]
  },
  {
   "cell_type": "code",
   "execution_count": 6,
   "id": "3443dca2-9918-47e0-8c01-24d07653f595",
   "metadata": {},
   "outputs": [
    {
     "data": {
      "text/html": [
       "<div>\n",
       "<style scoped>\n",
       "    .dataframe tbody tr th:only-of-type {\n",
       "        vertical-align: middle;\n",
       "    }\n",
       "\n",
       "    .dataframe tbody tr th {\n",
       "        vertical-align: top;\n",
       "    }\n",
       "\n",
       "    .dataframe thead th {\n",
       "        text-align: right;\n",
       "    }\n",
       "</style>\n",
       "<table border=\"1\" class=\"dataframe\">\n",
       "  <thead>\n",
       "    <tr style=\"text-align: right;\">\n",
       "      <th></th>\n",
       "      <th>2018-12-01 11:40:29 UTC</th>\n",
       "      <th>1924719191579951782</th>\n",
       "      <th>1842195256808833386</th>\n",
       "      <th>1</th>\n",
       "      <th>1806829201890738522</th>\n",
       "      <th>jewelry.earring</th>\n",
       "      <th>0</th>\n",
       "      <th>561.51</th>\n",
       "      <th>1515915625207851155</th>\n",
       "      <th>Unnamed: 9</th>\n",
       "      <th>red</th>\n",
       "      <th>gold</th>\n",
       "      <th>diamond</th>\n",
       "    </tr>\n",
       "  </thead>\n",
       "  <tbody>\n",
       "    <tr>\n",
       "      <th>0</th>\n",
       "      <td>2018-12-01 17:38:31 UTC</td>\n",
       "      <td>1924899396621697920</td>\n",
       "      <td>1806829193678291446</td>\n",
       "      <td>1</td>\n",
       "      <td>1.806829e+18</td>\n",
       "      <td>NaN</td>\n",
       "      <td>NaN</td>\n",
       "      <td>212.14</td>\n",
       "      <td>1.515916e+18</td>\n",
       "      <td>NaN</td>\n",
       "      <td>yellow</td>\n",
       "      <td>gold</td>\n",
       "      <td>NaN</td>\n",
       "    </tr>\n",
       "    <tr>\n",
       "      <th>1</th>\n",
       "      <td>2018-12-02 13:53:42 UTC</td>\n",
       "      <td>1925511016616034733</td>\n",
       "      <td>1842214461889315556</td>\n",
       "      <td>1</td>\n",
       "      <td>1.806829e+18</td>\n",
       "      <td>jewelry.pendant</td>\n",
       "      <td>1.0</td>\n",
       "      <td>54.66</td>\n",
       "      <td>1.515916e+18</td>\n",
       "      <td>f</td>\n",
       "      <td>white</td>\n",
       "      <td>gold</td>\n",
       "      <td>sapphire</td>\n",
       "    </tr>\n",
       "    <tr>\n",
       "      <th>2</th>\n",
       "      <td>2018-12-02 17:44:02 UTC</td>\n",
       "      <td>1925626951238681511</td>\n",
       "      <td>1835566849434059453</td>\n",
       "      <td>1</td>\n",
       "      <td>1.806829e+18</td>\n",
       "      <td>jewelry.pendant</td>\n",
       "      <td>0.0</td>\n",
       "      <td>88.90</td>\n",
       "      <td>1.515916e+18</td>\n",
       "      <td>f</td>\n",
       "      <td>red</td>\n",
       "      <td>gold</td>\n",
       "      <td>diamond</td>\n",
       "    </tr>\n",
       "    <tr>\n",
       "      <th>3</th>\n",
       "      <td>2018-12-02 21:30:19 UTC</td>\n",
       "      <td>1925740842841014667</td>\n",
       "      <td>1873936840742928865</td>\n",
       "      <td>1</td>\n",
       "      <td>1.806829e+18</td>\n",
       "      <td>jewelry.necklace</td>\n",
       "      <td>0.0</td>\n",
       "      <td>417.67</td>\n",
       "      <td>1.515916e+18</td>\n",
       "      <td>NaN</td>\n",
       "      <td>red</td>\n",
       "      <td>gold</td>\n",
       "      <td>amethyst</td>\n",
       "    </tr>\n",
       "    <tr>\n",
       "      <th>4</th>\n",
       "      <td>2018-12-02 22:09:34 UTC</td>\n",
       "      <td>1925760595336888995</td>\n",
       "      <td>1835566854827934449</td>\n",
       "      <td>1</td>\n",
       "      <td>1.806829e+18</td>\n",
       "      <td>jewelry.earring</td>\n",
       "      <td>1.0</td>\n",
       "      <td>102.27</td>\n",
       "      <td>1.515916e+18</td>\n",
       "      <td>NaN</td>\n",
       "      <td>red</td>\n",
       "      <td>gold</td>\n",
       "      <td>NaN</td>\n",
       "    </tr>\n",
       "  </tbody>\n",
       "</table>\n",
       "</div>"
      ],
      "text/plain": [
       "   2018-12-01 11:40:29 UTC  1924719191579951782  1842195256808833386  1  \\\n",
       "0  2018-12-01 17:38:31 UTC  1924899396621697920  1806829193678291446  1   \n",
       "1  2018-12-02 13:53:42 UTC  1925511016616034733  1842214461889315556  1   \n",
       "2  2018-12-02 17:44:02 UTC  1925626951238681511  1835566849434059453  1   \n",
       "3  2018-12-02 21:30:19 UTC  1925740842841014667  1873936840742928865  1   \n",
       "4  2018-12-02 22:09:34 UTC  1925760595336888995  1835566854827934449  1   \n",
       "\n",
       "   1806829201890738522   jewelry.earring    0  561.51  1515915625207851155  \\\n",
       "0         1.806829e+18               NaN  NaN  212.14         1.515916e+18   \n",
       "1         1.806829e+18   jewelry.pendant  1.0   54.66         1.515916e+18   \n",
       "2         1.806829e+18   jewelry.pendant  0.0   88.90         1.515916e+18   \n",
       "3         1.806829e+18  jewelry.necklace  0.0  417.67         1.515916e+18   \n",
       "4         1.806829e+18   jewelry.earring  1.0  102.27         1.515916e+18   \n",
       "\n",
       "  Unnamed: 9     red  gold   diamond  \n",
       "0        NaN  yellow  gold       NaN  \n",
       "1          f   white  gold  sapphire  \n",
       "2          f     red  gold   diamond  \n",
       "3        NaN     red  gold  amethyst  \n",
       "4        NaN     red  gold       NaN  "
      ]
     },
     "execution_count": 6,
     "metadata": {},
     "output_type": "execute_result"
    }
   ],
   "source": [
    "data_set.head()"
   ]
  },
  {
   "cell_type": "code",
   "execution_count": 10,
   "id": "db6527b5-e13d-4b5a-83ec-d5427793dcb1",
   "metadata": {},
   "outputs": [
    {
     "data": {
      "text/plain": [
       "pandas.core.frame.DataFrame"
      ]
     },
     "execution_count": 10,
     "metadata": {},
     "output_type": "execute_result"
    }
   ],
   "source": [
    "type(data_set)"
   ]
  },
  {
   "cell_type": "code",
   "execution_count": 11,
   "id": "c073c837-c629-49cb-9263-19e848a51102",
   "metadata": {},
   "outputs": [
    {
     "data": {
      "text/plain": [
       "(95910, 13)"
      ]
     },
     "execution_count": 11,
     "metadata": {},
     "output_type": "execute_result"
    }
   ],
   "source": [
    "data_set.shape"
   ]
  },
  {
   "cell_type": "code",
   "execution_count": 12,
   "id": "75982e32-d312-4d14-8d9e-de854c59ae37",
   "metadata": {},
   "outputs": [],
   "source": [
    "# Set the columns for the data (df) for better readability using the provided dictionary\n",
    "data_set.columns = [\n",
    "    \"Order_DateTime\",\n",
    "    \"Order_ID\",\n",
    "    \"Product_ID\",\n",
    "    \"SKU_Quantity\",\n",
    "    \"Category_ID\",\n",
    "    \"Category_Alias\",\n",
    "    \"Brand_ID\",\n",
    "    \"Price_in_USD\",\n",
    "    \"User_ID\",\n",
    "    \"Product_Gender\",\n",
    "    \"Main_Color\",\n",
    "    \"Main_Metal\",\n",
    "    \"Main_Gem\"]"
   ]
  },
  {
   "cell_type": "code",
   "execution_count": 13,
   "id": "eb87a18c-0a11-43bd-a0ca-812e7dc31ca9",
   "metadata": {},
   "outputs": [
    {
     "data": {
      "text/html": [
       "<div>\n",
       "<style scoped>\n",
       "    .dataframe tbody tr th:only-of-type {\n",
       "        vertical-align: middle;\n",
       "    }\n",
       "\n",
       "    .dataframe tbody tr th {\n",
       "        vertical-align: top;\n",
       "    }\n",
       "\n",
       "    .dataframe thead th {\n",
       "        text-align: right;\n",
       "    }\n",
       "</style>\n",
       "<table border=\"1\" class=\"dataframe\">\n",
       "  <thead>\n",
       "    <tr style=\"text-align: right;\">\n",
       "      <th></th>\n",
       "      <th>Order_DateTime</th>\n",
       "      <th>Order_ID</th>\n",
       "      <th>Product_ID</th>\n",
       "      <th>SKU_Quantity</th>\n",
       "      <th>Category_ID</th>\n",
       "      <th>Category_Alias</th>\n",
       "      <th>Brand_ID</th>\n",
       "      <th>Price_in_USD</th>\n",
       "      <th>User_ID</th>\n",
       "      <th>Product_Gender</th>\n",
       "      <th>Main_Color</th>\n",
       "      <th>Main_Metal</th>\n",
       "      <th>Main_Gem</th>\n",
       "    </tr>\n",
       "  </thead>\n",
       "  <tbody>\n",
       "    <tr>\n",
       "      <th>0</th>\n",
       "      <td>2018-12-01 17:38:31 UTC</td>\n",
       "      <td>1924899396621697920</td>\n",
       "      <td>1806829193678291446</td>\n",
       "      <td>1</td>\n",
       "      <td>1.806829e+18</td>\n",
       "      <td>NaN</td>\n",
       "      <td>NaN</td>\n",
       "      <td>212.14</td>\n",
       "      <td>1.515916e+18</td>\n",
       "      <td>NaN</td>\n",
       "      <td>yellow</td>\n",
       "      <td>gold</td>\n",
       "      <td>NaN</td>\n",
       "    </tr>\n",
       "    <tr>\n",
       "      <th>1</th>\n",
       "      <td>2018-12-02 13:53:42 UTC</td>\n",
       "      <td>1925511016616034733</td>\n",
       "      <td>1842214461889315556</td>\n",
       "      <td>1</td>\n",
       "      <td>1.806829e+18</td>\n",
       "      <td>jewelry.pendant</td>\n",
       "      <td>1.0</td>\n",
       "      <td>54.66</td>\n",
       "      <td>1.515916e+18</td>\n",
       "      <td>f</td>\n",
       "      <td>white</td>\n",
       "      <td>gold</td>\n",
       "      <td>sapphire</td>\n",
       "    </tr>\n",
       "    <tr>\n",
       "      <th>2</th>\n",
       "      <td>2018-12-02 17:44:02 UTC</td>\n",
       "      <td>1925626951238681511</td>\n",
       "      <td>1835566849434059453</td>\n",
       "      <td>1</td>\n",
       "      <td>1.806829e+18</td>\n",
       "      <td>jewelry.pendant</td>\n",
       "      <td>0.0</td>\n",
       "      <td>88.90</td>\n",
       "      <td>1.515916e+18</td>\n",
       "      <td>f</td>\n",
       "      <td>red</td>\n",
       "      <td>gold</td>\n",
       "      <td>diamond</td>\n",
       "    </tr>\n",
       "    <tr>\n",
       "      <th>3</th>\n",
       "      <td>2018-12-02 21:30:19 UTC</td>\n",
       "      <td>1925740842841014667</td>\n",
       "      <td>1873936840742928865</td>\n",
       "      <td>1</td>\n",
       "      <td>1.806829e+18</td>\n",
       "      <td>jewelry.necklace</td>\n",
       "      <td>0.0</td>\n",
       "      <td>417.67</td>\n",
       "      <td>1.515916e+18</td>\n",
       "      <td>NaN</td>\n",
       "      <td>red</td>\n",
       "      <td>gold</td>\n",
       "      <td>amethyst</td>\n",
       "    </tr>\n",
       "    <tr>\n",
       "      <th>4</th>\n",
       "      <td>2018-12-02 22:09:34 UTC</td>\n",
       "      <td>1925760595336888995</td>\n",
       "      <td>1835566854827934449</td>\n",
       "      <td>1</td>\n",
       "      <td>1.806829e+18</td>\n",
       "      <td>jewelry.earring</td>\n",
       "      <td>1.0</td>\n",
       "      <td>102.27</td>\n",
       "      <td>1.515916e+18</td>\n",
       "      <td>NaN</td>\n",
       "      <td>red</td>\n",
       "      <td>gold</td>\n",
       "      <td>NaN</td>\n",
       "    </tr>\n",
       "  </tbody>\n",
       "</table>\n",
       "</div>"
      ],
      "text/plain": [
       "            Order_DateTime             Order_ID           Product_ID  \\\n",
       "0  2018-12-01 17:38:31 UTC  1924899396621697920  1806829193678291446   \n",
       "1  2018-12-02 13:53:42 UTC  1925511016616034733  1842214461889315556   \n",
       "2  2018-12-02 17:44:02 UTC  1925626951238681511  1835566849434059453   \n",
       "3  2018-12-02 21:30:19 UTC  1925740842841014667  1873936840742928865   \n",
       "4  2018-12-02 22:09:34 UTC  1925760595336888995  1835566854827934449   \n",
       "\n",
       "   SKU_Quantity   Category_ID    Category_Alias  Brand_ID  Price_in_USD  \\\n",
       "0             1  1.806829e+18               NaN       NaN        212.14   \n",
       "1             1  1.806829e+18   jewelry.pendant       1.0         54.66   \n",
       "2             1  1.806829e+18   jewelry.pendant       0.0         88.90   \n",
       "3             1  1.806829e+18  jewelry.necklace       0.0        417.67   \n",
       "4             1  1.806829e+18   jewelry.earring       1.0        102.27   \n",
       "\n",
       "        User_ID Product_Gender Main_Color Main_Metal  Main_Gem  \n",
       "0  1.515916e+18            NaN     yellow       gold       NaN  \n",
       "1  1.515916e+18              f      white       gold  sapphire  \n",
       "2  1.515916e+18              f        red       gold   diamond  \n",
       "3  1.515916e+18            NaN        red       gold  amethyst  \n",
       "4  1.515916e+18            NaN        red       gold       NaN  "
      ]
     },
     "execution_count": 13,
     "metadata": {},
     "output_type": "execute_result"
    }
   ],
   "source": [
    "data_set.head()"
   ]
  },
  {
   "cell_type": "code",
   "execution_count": 14,
   "id": "9fd1e2e2-4c0d-486e-9d47-95fb911afeb8",
   "metadata": {},
   "outputs": [
    {
     "data": {
      "text/plain": [
       "(95910, 13)"
      ]
     },
     "execution_count": 14,
     "metadata": {},
     "output_type": "execute_result"
    }
   ],
   "source": [
    "data_set.shape"
   ]
  },
  {
   "cell_type": "code",
   "execution_count": 15,
   "id": "fe18e3e1-1b2c-4990-a0e2-cc4cdff20235",
   "metadata": {},
   "outputs": [
    {
     "data": {
      "text/plain": [
       "Order_DateTime        0\n",
       "Order_ID              0\n",
       "Product_ID            0\n",
       "SKU_Quantity          0\n",
       "Category_ID        5352\n",
       "Category_Alias     9933\n",
       "Brand_ID           4785\n",
       "Price_in_USD       5352\n",
       "User_ID            5352\n",
       "Product_Gender    48167\n",
       "Main_Color         7660\n",
       "Main_Metal         5462\n",
       "Main_Gem          34058\n",
       "dtype: int64"
      ]
     },
     "execution_count": 15,
     "metadata": {},
     "output_type": "execute_result"
    }
   ],
   "source": [
    "# check for and count missing values\n",
    "data_set.isnull().sum()"
   ]
  },
  {
   "cell_type": "code",
   "execution_count": 16,
   "id": "a99afc6f-865d-49fa-a234-a334915e849f",
   "metadata": {},
   "outputs": [
    {
     "data": {
      "text/plain": [
       "Order_DateTime    74504\n",
       "Order_ID          74759\n",
       "Product_ID         9613\n",
       "SKU_Quantity          1\n",
       "Category_ID          25\n",
       "Category_Alias      218\n",
       "Brand_ID           2537\n",
       "Price_in_USD       3166\n",
       "User_ID           31079\n",
       "Product_Gender        2\n",
       "Main_Color            5\n",
       "Main_Metal            3\n",
       "Main_Gem             30\n",
       "dtype: int64"
      ]
     },
     "execution_count": 16,
     "metadata": {},
     "output_type": "execute_result"
    }
   ],
   "source": [
    "# When exploring the data, it is good to check its FEATURE CARDINALITY\n",
    "data_set.nunique()"
   ]
  },
  {
   "cell_type": "code",
   "execution_count": 17,
   "id": "abf0e84d-44da-45a5-b044-b956ff2dab11",
   "metadata": {},
   "outputs": [
    {
     "data": {
      "text/html": [
       "<div>\n",
       "<style scoped>\n",
       "    .dataframe tbody tr th:only-of-type {\n",
       "        vertical-align: middle;\n",
       "    }\n",
       "\n",
       "    .dataframe tbody tr th {\n",
       "        vertical-align: top;\n",
       "    }\n",
       "\n",
       "    .dataframe thead th {\n",
       "        text-align: right;\n",
       "    }\n",
       "</style>\n",
       "<table border=\"1\" class=\"dataframe\">\n",
       "  <thead>\n",
       "    <tr style=\"text-align: right;\">\n",
       "      <th></th>\n",
       "      <th>Order_ID</th>\n",
       "      <th>Product_ID</th>\n",
       "      <th>SKU_Quantity</th>\n",
       "      <th>Category_ID</th>\n",
       "      <th>Brand_ID</th>\n",
       "      <th>Price_in_USD</th>\n",
       "      <th>User_ID</th>\n",
       "    </tr>\n",
       "  </thead>\n",
       "  <tbody>\n",
       "    <tr>\n",
       "      <th>count</th>\n",
       "      <td>9.591000e+04</td>\n",
       "      <td>9.591000e+04</td>\n",
       "      <td>95910.0</td>\n",
       "      <td>9.055800e+04</td>\n",
       "      <td>9.112500e+04</td>\n",
       "      <td>90558.000000</td>\n",
       "      <td>9.055800e+04</td>\n",
       "    </tr>\n",
       "    <tr>\n",
       "      <th>mean</th>\n",
       "      <td>2.485191e+18</td>\n",
       "      <td>1.815970e+18</td>\n",
       "      <td>1.0</td>\n",
       "      <td>1.805947e+18</td>\n",
       "      <td>8.891036e+16</td>\n",
       "      <td>362.213017</td>\n",
       "      <td>1.512644e+18</td>\n",
       "    </tr>\n",
       "    <tr>\n",
       "      <th>std</th>\n",
       "      <td>1.934750e+17</td>\n",
       "      <td>2.136814e+17</td>\n",
       "      <td>0.0</td>\n",
       "      <td>2.083954e+16</td>\n",
       "      <td>3.559651e+17</td>\n",
       "      <td>444.157665</td>\n",
       "      <td>2.374776e+16</td>\n",
       "    </tr>\n",
       "    <tr>\n",
       "      <th>min</th>\n",
       "      <td>1.924899e+18</td>\n",
       "      <td>1.313551e+18</td>\n",
       "      <td>1.0</td>\n",
       "      <td>1.313678e+18</td>\n",
       "      <td>0.000000e+00</td>\n",
       "      <td>0.990000</td>\n",
       "      <td>1.313554e+18</td>\n",
       "    </tr>\n",
       "    <tr>\n",
       "      <th>25%</th>\n",
       "      <td>2.379732e+18</td>\n",
       "      <td>1.515966e+18</td>\n",
       "      <td>1.0</td>\n",
       "      <td>1.806829e+18</td>\n",
       "      <td>0.000000e+00</td>\n",
       "      <td>145.620000</td>\n",
       "      <td>1.515916e+18</td>\n",
       "    </tr>\n",
       "    <tr>\n",
       "      <th>50%</th>\n",
       "      <td>2.524282e+18</td>\n",
       "      <td>1.956664e+18</td>\n",
       "      <td>1.0</td>\n",
       "      <td>1.806829e+18</td>\n",
       "      <td>1.000000e+00</td>\n",
       "      <td>258.770000</td>\n",
       "      <td>1.515916e+18</td>\n",
       "    </tr>\n",
       "    <tr>\n",
       "      <th>75%</th>\n",
       "      <td>2.644347e+18</td>\n",
       "      <td>1.956664e+18</td>\n",
       "      <td>1.0</td>\n",
       "      <td>1.806829e+18</td>\n",
       "      <td>1.000000e+00</td>\n",
       "      <td>431.370000</td>\n",
       "      <td>1.515916e+18</td>\n",
       "    </tr>\n",
       "    <tr>\n",
       "      <th>max</th>\n",
       "      <td>2.719022e+18</td>\n",
       "      <td>2.541962e+18</td>\n",
       "      <td>1.0</td>\n",
       "      <td>1.806829e+18</td>\n",
       "      <td>1.550613e+18</td>\n",
       "      <td>34448.600000</td>\n",
       "      <td>1.554297e+18</td>\n",
       "    </tr>\n",
       "  </tbody>\n",
       "</table>\n",
       "</div>"
      ],
      "text/plain": [
       "           Order_ID    Product_ID  SKU_Quantity   Category_ID      Brand_ID  \\\n",
       "count  9.591000e+04  9.591000e+04       95910.0  9.055800e+04  9.112500e+04   \n",
       "mean   2.485191e+18  1.815970e+18           1.0  1.805947e+18  8.891036e+16   \n",
       "std    1.934750e+17  2.136814e+17           0.0  2.083954e+16  3.559651e+17   \n",
       "min    1.924899e+18  1.313551e+18           1.0  1.313678e+18  0.000000e+00   \n",
       "25%    2.379732e+18  1.515966e+18           1.0  1.806829e+18  0.000000e+00   \n",
       "50%    2.524282e+18  1.956664e+18           1.0  1.806829e+18  1.000000e+00   \n",
       "75%    2.644347e+18  1.956664e+18           1.0  1.806829e+18  1.000000e+00   \n",
       "max    2.719022e+18  2.541962e+18           1.0  1.806829e+18  1.550613e+18   \n",
       "\n",
       "       Price_in_USD       User_ID  \n",
       "count  90558.000000  9.055800e+04  \n",
       "mean     362.213017  1.512644e+18  \n",
       "std      444.157665  2.374776e+16  \n",
       "min        0.990000  1.313554e+18  \n",
       "25%      145.620000  1.515916e+18  \n",
       "50%      258.770000  1.515916e+18  \n",
       "75%      431.370000  1.515916e+18  \n",
       "max    34448.600000  1.554297e+18  "
      ]
     },
     "execution_count": 17,
     "metadata": {},
     "output_type": "execute_result"
    }
   ],
   "source": [
    "# Get a statistical summary of the data\n",
    "data_set.describe()"
   ]
  },
  {
   "cell_type": "code",
   "execution_count": 18,
   "id": "596c4a60-0594-472a-a885-5238a5b57db3",
   "metadata": {},
   "outputs": [
    {
     "name": "stdout",
     "output_type": "stream",
     "text": [
      "<class 'pandas.core.frame.DataFrame'>\n",
      "RangeIndex: 95910 entries, 0 to 95909\n",
      "Data columns (total 13 columns):\n",
      " #   Column          Non-Null Count  Dtype  \n",
      "---  ------          --------------  -----  \n",
      " 0   Order_DateTime  95910 non-null  object \n",
      " 1   Order_ID        95910 non-null  int64  \n",
      " 2   Product_ID      95910 non-null  int64  \n",
      " 3   SKU_Quantity    95910 non-null  int64  \n",
      " 4   Category_ID     90558 non-null  float64\n",
      " 5   Category_Alias  85977 non-null  object \n",
      " 6   Brand_ID        91125 non-null  float64\n",
      " 7   Price_in_USD    90558 non-null  float64\n",
      " 8   User_ID         90558 non-null  float64\n",
      " 9   Product_Gender  47743 non-null  object \n",
      " 10  Main_Color      88250 non-null  object \n",
      " 11  Main_Metal      90448 non-null  object \n",
      " 12  Main_Gem        61852 non-null  object \n",
      "dtypes: float64(4), int64(3), object(6)\n",
      "memory usage: 9.5+ MB\n"
     ]
    }
   ],
   "source": [
    "# also\n",
    "data_set.info()"
   ]
  },
  {
   "cell_type": "code",
   "execution_count": 20,
   "id": "90de89b1-aa22-40dc-bc93-5109c2278c6f",
   "metadata": {},
   "outputs": [],
   "source": [
    "# Check duplicate values\n",
    "duplicate_entries = len(data_set.loc[data_set.duplicated()])"
   ]
  },
  {
   "cell_type": "code",
   "execution_count": 32,
   "id": "861fab5c-21bb-4f7c-98ac-643429ee95ce",
   "metadata": {},
   "outputs": [],
   "source": [
    "# Invarian features: Features with cadinality of 1\n",
    "invariant_feature = data_set.nunique()[data_set.nunique() == 1].index.tolist()\n",
    "# invariant_feature = data_set.nunique()[data_set.nunique() == 1].index.tolist()invariant_feature = data_set.nunique()[data_set.nunique() == 1]"
   ]
  },
  {
   "cell_type": "code",
   "execution_count": 33,
   "id": "b7a23e64",
   "metadata": {},
   "outputs": [
    {
     "data": {
      "text/plain": [
       "['SKU_Quantity']"
      ]
     },
     "execution_count": 33,
     "metadata": {},
     "output_type": "execute_result"
    }
   ],
   "source": [
    "invariant_feature"
   ]
  },
  {
   "cell_type": "code",
   "execution_count": 25,
   "id": "d9fbfdd7",
   "metadata": {},
   "outputs": [],
   "source": [
    "# Check for label distribution\n",
    "label_dist = data_set[\"Price_in_USD\"].skew()"
   ]
  },
  {
   "cell_type": "code",
   "execution_count": 26,
   "id": "31fd1adf",
   "metadata": {},
   "outputs": [
    {
     "data": {
      "text/plain": [
       "18.95906072625981"
      ]
     },
     "execution_count": 26,
     "metadata": {},
     "output_type": "execute_result"
    }
   ],
   "source": [
    "label_dist"
   ]
  },
  {
   "cell_type": "code",
   "execution_count": 35,
   "id": "95600d31",
   "metadata": {},
   "outputs": [
    {
     "data": {
      "image/png": "[encoded data removed]",
      "text/plain": [
       "<Figure size 2000x500 with 1 Axes>"
      ]
     },
     "metadata": {},
     "output_type": "display_data"
    }
   ],
   "source": [
    "# The price (the major label feature) in the data has a high skew.\n",
    "# Let's visualize it\n",
    "plt.figure(figsize = (20, 5))\n",
    "sns.kdeplot(data = data_set, x = \"Price_in_USD\")\n",
    "plt.xlabel(\"Price in US Dollars\")\n",
    "plt.ylabel(\"Price Frequency\")\n",
    "plt.tight_layout()\n",
    "plt.show(); plt.close()"
   ]
  },
  {
   "cell_type": "code",
   "execution_count": 36,
   "id": "c120bf6d",
   "metadata": {},
   "outputs": [
    {
     "data": {
      "text/plain": [
       "1054.8979068506155"
      ]
     },
     "execution_count": 36,
     "metadata": {},
     "output_type": "execute_result"
    }
   ],
   "source": [
    "# Price kurtosis\n",
    "data_set[\"Price_in_USD\"].kurtosis()"
   ]
  },
  {
   "cell_type": "code",
   "execution_count": null,
   "id": "d15c872d",
   "metadata": {},
   "outputs": [],
   "source": []
  }
 ],
 "metadata": {
  "kernelspec": {
   "display_name": "Python 3 (ipykernel)",
   "language": "python",
   "name": "python3"
  },
  "language_info": {
   "codemirror_mode": {
    "name": "ipython",
    "version": 3
   },
   "file_extension": ".py",
   "mimetype": "text/x-python",
   "name": "python",
   "nbconvert_exporter": "python",
   "pygments_lexer": "ipython3",
   "version": "3.9.13"
  }
 },
 "nbformat": 4,
 "nbformat_minor": 5
}
