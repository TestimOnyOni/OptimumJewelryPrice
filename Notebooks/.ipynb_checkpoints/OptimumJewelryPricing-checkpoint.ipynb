{
 "cells": [
  {
   "cell_type": "code",
   "execution_count": 91,
   "id": "bd9372fc-6bc4-4fd2-989c-840720224d5f",
   "metadata": {},
   "outputs": [
    {
     "name": "stdout",
     "output_type": "stream",
     "text": [
      "Requirement already satisfied: seaborn in c:\\users\\testimoni\\anaconda3\\lib\\site-packages (0.11.2)\n",
      "Requirement already satisfied: scipy>=1.0 in c:\\users\\testimoni\\anaconda3\\lib\\site-packages (from seaborn) (1.9.1)\n",
      "Requirement already satisfied: pandas>=0.23 in c:\\users\\testimoni\\anaconda3\\lib\\site-packages (from seaborn) (1.4.4)\n",
      "Requirement already satisfied: numpy>=1.15 in c:\\users\\testimoni\\anaconda3\\lib\\site-packages (from seaborn) (1.21.5)\n",
      "Requirement already satisfied: matplotlib>=2.2 in c:\\users\\testimoni\\anaconda3\\lib\\site-packages (from seaborn) (3.5.2)\n",
      "Requirement already satisfied: pyparsing>=2.2.1 in c:\\users\\testimoni\\anaconda3\\lib\\site-packages (from matplotlib>=2.2->seaborn) (3.0.9)\n",
      "Requirement already satisfied: pillow>=6.2.0 in c:\\users\\testimoni\\anaconda3\\lib\\site-packages (from matplotlib>=2.2->seaborn) (9.2.0)\n",
      "Requirement already satisfied: packaging>=20.0 in c:\\users\\testimoni\\anaconda3\\lib\\site-packages (from matplotlib>=2.2->seaborn) (21.3)\n",
      "Requirement already satisfied: cycler>=0.10 in c:\\users\\testimoni\\anaconda3\\lib\\site-packages (from matplotlib>=2.2->seaborn) (0.11.0)\n",
      "Requirement already satisfied: fonttools>=4.22.0 in c:\\users\\testimoni\\anaconda3\\lib\\site-packages (from matplotlib>=2.2->seaborn) (4.25.0)\n",
      "Requirement already satisfied: kiwisolver>=1.0.1 in c:\\users\\testimoni\\anaconda3\\lib\\site-packages (from matplotlib>=2.2->seaborn) (1.4.2)\n",
      "Requirement already satisfied: python-dateutil>=2.7 in c:\\users\\testimoni\\anaconda3\\lib\\site-packages (from matplotlib>=2.2->seaborn) (2.8.2)\n",
      "Requirement already satisfied: pytz>=2020.1 in c:\\users\\testimoni\\anaconda3\\lib\\site-packages (from pandas>=0.23->seaborn) (2022.1)\n",
      "Requirement already satisfied: six>=1.5 in c:\\users\\testimoni\\anaconda3\\lib\\site-packages (from python-dateutil>=2.7->matplotlib>=2.2->seaborn) (1.16.0)\n"
     ]
    }
   ],
   "source": [
    "!pip install seaborn --user"
   ]
  },
  {
   "cell_type": "code",
   "execution_count": 141,
   "id": "a496ca13-220b-4c79-af5f-ead7e730d3cf",
   "metadata": {},
   "outputs": [],
   "source": [
    "import pandas as pd\n",
    "import numpy as np\n",
    "import seaborn as sns\n",
    "from matplotlib import pyplot as plt\n",
    "import math"
   ]
  },
  {
   "cell_type": "code",
   "execution_count": 93,
   "id": "b9b9b42e-9c57-40ae-9ad6-319d8a5ccceb",
   "metadata": {},
   "outputs": [],
   "source": [
    "# Set visualization theme\n",
    "sns.set()"
   ]
  },
  {
   "cell_type": "code",
   "execution_count": 94,
   "id": "5a83f14d-a501-4463-ab38-66c2f99a0160",
   "metadata": {},
   "outputs": [],
   "source": [
    "data_set = pd.read_csv(r\"C:\\Users\\TestimOni\\OneDrive - Ulster University\\Desktop\\OptimumJewelryPricing\\Data\\Jewelry_Dataset.csv\")\n",
    "# df = pd.read_csv(r\"C:\\Users\\TestimOni\\OneDrive - Ulster University\\Desktop\\OptimumJewelryPricing\\Data\\Jewelry_Dataset.csv\")"
   ]
  },
  {
   "cell_type": "code",
   "execution_count": 95,
   "id": "3443dca2-9918-47e0-8c01-24d07653f595",
   "metadata": {},
   "outputs": [
    {
     "data": {
      "text/html": [
       "<div>\n",
       "<style scoped>\n",
       "    .dataframe tbody tr th:only-of-type {\n",
       "        vertical-align: middle;\n",
       "    }\n",
       "\n",
       "    .dataframe tbody tr th {\n",
       "        vertical-align: top;\n",
       "    }\n",
       "\n",
       "    .dataframe thead th {\n",
       "        text-align: right;\n",
       "    }\n",
       "</style>\n",
       "<table border=\"1\" class=\"dataframe\">\n",
       "  <thead>\n",
       "    <tr style=\"text-align: right;\">\n",
       "      <th></th>\n",
       "      <th>2018-12-01 11:40:29 UTC</th>\n",
       "      <th>1924719191579951782</th>\n",
       "      <th>1842195256808833386</th>\n",
       "      <th>1</th>\n",
       "      <th>1806829201890738522</th>\n",
       "      <th>jewelry.earring</th>\n",
       "      <th>0</th>\n",
       "      <th>561.51</th>\n",
       "      <th>1515915625207851155</th>\n",
       "      <th>Unnamed: 9</th>\n",
       "      <th>red</th>\n",
       "      <th>gold</th>\n",
       "      <th>diamond</th>\n",
       "    </tr>\n",
       "  </thead>\n",
       "  <tbody>\n",
       "    <tr>\n",
       "      <th>0</th>\n",
       "      <td>2018-12-01 17:38:31 UTC</td>\n",
       "      <td>1924899396621697920</td>\n",
       "      <td>1806829193678291446</td>\n",
       "      <td>1</td>\n",
       "      <td>1.806829e+18</td>\n",
       "      <td>NaN</td>\n",
       "      <td>NaN</td>\n",
       "      <td>212.14</td>\n",
       "      <td>1.515916e+18</td>\n",
       "      <td>NaN</td>\n",
       "      <td>yellow</td>\n",
       "      <td>gold</td>\n",
       "      <td>NaN</td>\n",
       "    </tr>\n",
       "    <tr>\n",
       "      <th>1</th>\n",
       "      <td>2018-12-02 13:53:42 UTC</td>\n",
       "      <td>1925511016616034733</td>\n",
       "      <td>1842214461889315556</td>\n",
       "      <td>1</td>\n",
       "      <td>1.806829e+18</td>\n",
       "      <td>jewelry.pendant</td>\n",
       "      <td>1.0</td>\n",
       "      <td>54.66</td>\n",
       "      <td>1.515916e+18</td>\n",
       "      <td>f</td>\n",
       "      <td>white</td>\n",
       "      <td>gold</td>\n",
       "      <td>sapphire</td>\n",
       "    </tr>\n",
       "    <tr>\n",
       "      <th>2</th>\n",
       "      <td>2018-12-02 17:44:02 UTC</td>\n",
       "      <td>1925626951238681511</td>\n",
       "      <td>1835566849434059453</td>\n",
       "      <td>1</td>\n",
       "      <td>1.806829e+18</td>\n",
       "      <td>jewelry.pendant</td>\n",
       "      <td>0.0</td>\n",
       "      <td>88.90</td>\n",
       "      <td>1.515916e+18</td>\n",
       "      <td>f</td>\n",
       "      <td>red</td>\n",
       "      <td>gold</td>\n",
       "      <td>diamond</td>\n",
       "    </tr>\n",
       "    <tr>\n",
       "      <th>3</th>\n",
       "      <td>2018-12-02 21:30:19 UTC</td>\n",
       "      <td>1925740842841014667</td>\n",
       "      <td>1873936840742928865</td>\n",
       "      <td>1</td>\n",
       "      <td>1.806829e+18</td>\n",
       "      <td>jewelry.necklace</td>\n",
       "      <td>0.0</td>\n",
       "      <td>417.67</td>\n",
       "      <td>1.515916e+18</td>\n",
       "      <td>NaN</td>\n",
       "      <td>red</td>\n",
       "      <td>gold</td>\n",
       "      <td>amethyst</td>\n",
       "    </tr>\n",
       "    <tr>\n",
       "      <th>4</th>\n",
       "      <td>2018-12-02 22:09:34 UTC</td>\n",
       "      <td>1925760595336888995</td>\n",
       "      <td>1835566854827934449</td>\n",
       "      <td>1</td>\n",
       "      <td>1.806829e+18</td>\n",
       "      <td>jewelry.earring</td>\n",
       "      <td>1.0</td>\n",
       "      <td>102.27</td>\n",
       "      <td>1.515916e+18</td>\n",
       "      <td>NaN</td>\n",
       "      <td>red</td>\n",
       "      <td>gold</td>\n",
       "      <td>NaN</td>\n",
       "    </tr>\n",
       "  </tbody>\n",
       "</table>\n",
       "</div>"
      ],
      "text/plain": [
       "   2018-12-01 11:40:29 UTC  1924719191579951782  1842195256808833386  1  \\\n",
       "0  2018-12-01 17:38:31 UTC  1924899396621697920  1806829193678291446  1   \n",
       "1  2018-12-02 13:53:42 UTC  1925511016616034733  1842214461889315556  1   \n",
       "2  2018-12-02 17:44:02 UTC  1925626951238681511  1835566849434059453  1   \n",
       "3  2018-12-02 21:30:19 UTC  1925740842841014667  1873936840742928865  1   \n",
       "4  2018-12-02 22:09:34 UTC  1925760595336888995  1835566854827934449  1   \n",
       "\n",
       "   1806829201890738522   jewelry.earring    0  561.51  1515915625207851155  \\\n",
       "0         1.806829e+18               NaN  NaN  212.14         1.515916e+18   \n",
       "1         1.806829e+18   jewelry.pendant  1.0   54.66         1.515916e+18   \n",
       "2         1.806829e+18   jewelry.pendant  0.0   88.90         1.515916e+18   \n",
       "3         1.806829e+18  jewelry.necklace  0.0  417.67         1.515916e+18   \n",
       "4         1.806829e+18   jewelry.earring  1.0  102.27         1.515916e+18   \n",
       "\n",
       "  Unnamed: 9     red  gold   diamond  \n",
       "0        NaN  yellow  gold       NaN  \n",
       "1          f   white  gold  sapphire  \n",
       "2          f     red  gold   diamond  \n",
       "3        NaN     red  gold  amethyst  \n",
       "4        NaN     red  gold       NaN  "
      ]
     },
     "execution_count": 95,
     "metadata": {},
     "output_type": "execute_result"
    }
   ],
   "source": [
    "data_set.head()"
   ]
  },
  {
   "cell_type": "code",
   "execution_count": 96,
   "id": "c073c837-c629-49cb-9263-19e848a51102",
   "metadata": {},
   "outputs": [
    {
     "data": {
      "text/plain": [
       "(95910, 13)"
      ]
     },
     "execution_count": 96,
     "metadata": {},
     "output_type": "execute_result"
    }
   ],
   "source": [
    "data_set.shape"
   ]
  },
  {
   "cell_type": "code",
   "execution_count": 97,
   "id": "75982e32-d312-4d14-8d9e-de854c59ae37",
   "metadata": {},
   "outputs": [],
   "source": [
    "# Set the columns for the data (df) for better readability using the provided dictionary\n",
    "data_set.columns = [\n",
    "    \"Order_DateTime\",\n",
    "    \"Order_ID\",\n",
    "    \"Product_ID\",\n",
    "    \"SKU_Quantity\",\n",
    "    \"Category_ID\",\n",
    "    \"Category_Alias\",\n",
    "    \"Brand_ID\",\n",
    "    \"Price_in_USD\",\n",
    "    \"User_ID\",\n",
    "    \"Product_Gender\",\n",
    "    \"Main_Color\",\n",
    "    \"Main_Metal\",\n",
    "    \"Main_Gem\"]"
   ]
  },
  {
   "cell_type": "code",
   "execution_count": 98,
   "id": "eb87a18c-0a11-43bd-a0ca-812e7dc31ca9",
   "metadata": {},
   "outputs": [
    {
     "data": {
      "text/html": [
       "<div>\n",
       "<style scoped>\n",
       "    .dataframe tbody tr th:only-of-type {\n",
       "        vertical-align: middle;\n",
       "    }\n",
       "\n",
       "    .dataframe tbody tr th {\n",
       "        vertical-align: top;\n",
       "    }\n",
       "\n",
       "    .dataframe thead th {\n",
       "        text-align: right;\n",
       "    }\n",
       "</style>\n",
       "<table border=\"1\" class=\"dataframe\">\n",
       "  <thead>\n",
       "    <tr style=\"text-align: right;\">\n",
       "      <th></th>\n",
       "      <th>Order_DateTime</th>\n",
       "      <th>Order_ID</th>\n",
       "      <th>Product_ID</th>\n",
       "      <th>SKU_Quantity</th>\n",
       "      <th>Category_ID</th>\n",
       "      <th>Category_Alias</th>\n",
       "      <th>Brand_ID</th>\n",
       "      <th>Price_in_USD</th>\n",
       "      <th>User_ID</th>\n",
       "      <th>Product_Gender</th>\n",
       "      <th>Main_Color</th>\n",
       "      <th>Main_Metal</th>\n",
       "      <th>Main_Gem</th>\n",
       "    </tr>\n",
       "  </thead>\n",
       "  <tbody>\n",
       "    <tr>\n",
       "      <th>0</th>\n",
       "      <td>2018-12-01 17:38:31 UTC</td>\n",
       "      <td>1924899396621697920</td>\n",
       "      <td>1806829193678291446</td>\n",
       "      <td>1</td>\n",
       "      <td>1.806829e+18</td>\n",
       "      <td>NaN</td>\n",
       "      <td>NaN</td>\n",
       "      <td>212.14</td>\n",
       "      <td>1.515916e+18</td>\n",
       "      <td>NaN</td>\n",
       "      <td>yellow</td>\n",
       "      <td>gold</td>\n",
       "      <td>NaN</td>\n",
       "    </tr>\n",
       "    <tr>\n",
       "      <th>1</th>\n",
       "      <td>2018-12-02 13:53:42 UTC</td>\n",
       "      <td>1925511016616034733</td>\n",
       "      <td>1842214461889315556</td>\n",
       "      <td>1</td>\n",
       "      <td>1.806829e+18</td>\n",
       "      <td>jewelry.pendant</td>\n",
       "      <td>1.0</td>\n",
       "      <td>54.66</td>\n",
       "      <td>1.515916e+18</td>\n",
       "      <td>f</td>\n",
       "      <td>white</td>\n",
       "      <td>gold</td>\n",
       "      <td>sapphire</td>\n",
       "    </tr>\n",
       "    <tr>\n",
       "      <th>2</th>\n",
       "      <td>2018-12-02 17:44:02 UTC</td>\n",
       "      <td>1925626951238681511</td>\n",
       "      <td>1835566849434059453</td>\n",
       "      <td>1</td>\n",
       "      <td>1.806829e+18</td>\n",
       "      <td>jewelry.pendant</td>\n",
       "      <td>0.0</td>\n",
       "      <td>88.90</td>\n",
       "      <td>1.515916e+18</td>\n",
       "      <td>f</td>\n",
       "      <td>red</td>\n",
       "      <td>gold</td>\n",
       "      <td>diamond</td>\n",
       "    </tr>\n",
       "    <tr>\n",
       "      <th>3</th>\n",
       "      <td>2018-12-02 21:30:19 UTC</td>\n",
       "      <td>1925740842841014667</td>\n",
       "      <td>1873936840742928865</td>\n",
       "      <td>1</td>\n",
       "      <td>1.806829e+18</td>\n",
       "      <td>jewelry.necklace</td>\n",
       "      <td>0.0</td>\n",
       "      <td>417.67</td>\n",
       "      <td>1.515916e+18</td>\n",
       "      <td>NaN</td>\n",
       "      <td>red</td>\n",
       "      <td>gold</td>\n",
       "      <td>amethyst</td>\n",
       "    </tr>\n",
       "    <tr>\n",
       "      <th>4</th>\n",
       "      <td>2018-12-02 22:09:34 UTC</td>\n",
       "      <td>1925760595336888995</td>\n",
       "      <td>1835566854827934449</td>\n",
       "      <td>1</td>\n",
       "      <td>1.806829e+18</td>\n",
       "      <td>jewelry.earring</td>\n",
       "      <td>1.0</td>\n",
       "      <td>102.27</td>\n",
       "      <td>1.515916e+18</td>\n",
       "      <td>NaN</td>\n",
       "      <td>red</td>\n",
       "      <td>gold</td>\n",
       "      <td>NaN</td>\n",
       "    </tr>\n",
       "  </tbody>\n",
       "</table>\n",
       "</div>"
      ],
      "text/plain": [
       "            Order_DateTime             Order_ID           Product_ID  \\\n",
       "0  2018-12-01 17:38:31 UTC  1924899396621697920  1806829193678291446   \n",
       "1  2018-12-02 13:53:42 UTC  1925511016616034733  1842214461889315556   \n",
       "2  2018-12-02 17:44:02 UTC  1925626951238681511  1835566849434059453   \n",
       "3  2018-12-02 21:30:19 UTC  1925740842841014667  1873936840742928865   \n",
       "4  2018-12-02 22:09:34 UTC  1925760595336888995  1835566854827934449   \n",
       "\n",
       "   SKU_Quantity   Category_ID    Category_Alias  Brand_ID  Price_in_USD  \\\n",
       "0             1  1.806829e+18               NaN       NaN        212.14   \n",
       "1             1  1.806829e+18   jewelry.pendant       1.0         54.66   \n",
       "2             1  1.806829e+18   jewelry.pendant       0.0         88.90   \n",
       "3             1  1.806829e+18  jewelry.necklace       0.0        417.67   \n",
       "4             1  1.806829e+18   jewelry.earring       1.0        102.27   \n",
       "\n",
       "        User_ID Product_Gender Main_Color Main_Metal  Main_Gem  \n",
       "0  1.515916e+18            NaN     yellow       gold       NaN  \n",
       "1  1.515916e+18              f      white       gold  sapphire  \n",
       "2  1.515916e+18              f        red       gold   diamond  \n",
       "3  1.515916e+18            NaN        red       gold  amethyst  \n",
       "4  1.515916e+18            NaN        red       gold       NaN  "
      ]
     },
     "execution_count": 98,
     "metadata": {},
     "output_type": "execute_result"
    }
   ],
   "source": [
    "data_set.head()"
   ]
  },
  {
   "cell_type": "code",
   "execution_count": 99,
   "id": "fe18e3e1-1b2c-4990-a0e2-cc4cdff20235",
   "metadata": {},
   "outputs": [
    {
     "data": {
      "text/plain": [
       "Order_DateTime        0\n",
       "Order_ID              0\n",
       "Product_ID            0\n",
       "SKU_Quantity          0\n",
       "Category_ID        5352\n",
       "Category_Alias     9933\n",
       "Brand_ID           4785\n",
       "Price_in_USD       5352\n",
       "User_ID            5352\n",
       "Product_Gender    48167\n",
       "Main_Color         7660\n",
       "Main_Metal         5462\n",
       "Main_Gem          34058\n",
       "dtype: int64"
      ]
     },
     "execution_count": 99,
     "metadata": {},
     "output_type": "execute_result"
    }
   ],
   "source": [
    "# check for and count missing values\n",
    "data_set.isnull().sum()"
   ]
  },
  {
   "cell_type": "code",
   "execution_count": 100,
   "id": "a99afc6f-865d-49fa-a234-a334915e849f",
   "metadata": {},
   "outputs": [
    {
     "data": {
      "text/plain": [
       "Order_DateTime    74504\n",
       "Order_ID          74759\n",
       "Product_ID         9613\n",
       "SKU_Quantity          1\n",
       "Category_ID          25\n",
       "Category_Alias      218\n",
       "Brand_ID           2537\n",
       "Price_in_USD       3166\n",
       "User_ID           31079\n",
       "Product_Gender        2\n",
       "Main_Color            5\n",
       "Main_Metal            3\n",
       "Main_Gem             30\n",
       "dtype: int64"
      ]
     },
     "execution_count": 100,
     "metadata": {},
     "output_type": "execute_result"
    }
   ],
   "source": [
    "# Check FEATURE CARDINALITY\n",
    "data_set.nunique()"
   ]
  },
  {
   "cell_type": "code",
   "execution_count": 101,
   "id": "abf0e84d-44da-45a5-b044-b956ff2dab11",
   "metadata": {},
   "outputs": [
    {
     "data": {
      "text/html": [
       "<div>\n",
       "<style scoped>\n",
       "    .dataframe tbody tr th:only-of-type {\n",
       "        vertical-align: middle;\n",
       "    }\n",
       "\n",
       "    .dataframe tbody tr th {\n",
       "        vertical-align: top;\n",
       "    }\n",
       "\n",
       "    .dataframe thead th {\n",
       "        text-align: right;\n",
       "    }\n",
       "</style>\n",
       "<table border=\"1\" class=\"dataframe\">\n",
       "  <thead>\n",
       "    <tr style=\"text-align: right;\">\n",
       "      <th></th>\n",
       "      <th>Order_ID</th>\n",
       "      <th>Product_ID</th>\n",
       "      <th>SKU_Quantity</th>\n",
       "      <th>Category_ID</th>\n",
       "      <th>Brand_ID</th>\n",
       "      <th>Price_in_USD</th>\n",
       "      <th>User_ID</th>\n",
       "    </tr>\n",
       "  </thead>\n",
       "  <tbody>\n",
       "    <tr>\n",
       "      <th>count</th>\n",
       "      <td>9.591000e+04</td>\n",
       "      <td>9.591000e+04</td>\n",
       "      <td>95910.0</td>\n",
       "      <td>9.055800e+04</td>\n",
       "      <td>9.112500e+04</td>\n",
       "      <td>90558.000000</td>\n",
       "      <td>9.055800e+04</td>\n",
       "    </tr>\n",
       "    <tr>\n",
       "      <th>mean</th>\n",
       "      <td>2.485191e+18</td>\n",
       "      <td>1.815970e+18</td>\n",
       "      <td>1.0</td>\n",
       "      <td>1.805947e+18</td>\n",
       "      <td>8.891036e+16</td>\n",
       "      <td>362.213017</td>\n",
       "      <td>1.512644e+18</td>\n",
       "    </tr>\n",
       "    <tr>\n",
       "      <th>std</th>\n",
       "      <td>1.934750e+17</td>\n",
       "      <td>2.136814e+17</td>\n",
       "      <td>0.0</td>\n",
       "      <td>2.083954e+16</td>\n",
       "      <td>3.559651e+17</td>\n",
       "      <td>444.157665</td>\n",
       "      <td>2.374776e+16</td>\n",
       "    </tr>\n",
       "    <tr>\n",
       "      <th>min</th>\n",
       "      <td>1.924899e+18</td>\n",
       "      <td>1.313551e+18</td>\n",
       "      <td>1.0</td>\n",
       "      <td>1.313678e+18</td>\n",
       "      <td>0.000000e+00</td>\n",
       "      <td>0.990000</td>\n",
       "      <td>1.313554e+18</td>\n",
       "    </tr>\n",
       "    <tr>\n",
       "      <th>25%</th>\n",
       "      <td>2.379732e+18</td>\n",
       "      <td>1.515966e+18</td>\n",
       "      <td>1.0</td>\n",
       "      <td>1.806829e+18</td>\n",
       "      <td>0.000000e+00</td>\n",
       "      <td>145.620000</td>\n",
       "      <td>1.515916e+18</td>\n",
       "    </tr>\n",
       "    <tr>\n",
       "      <th>50%</th>\n",
       "      <td>2.524282e+18</td>\n",
       "      <td>1.956664e+18</td>\n",
       "      <td>1.0</td>\n",
       "      <td>1.806829e+18</td>\n",
       "      <td>1.000000e+00</td>\n",
       "      <td>258.770000</td>\n",
       "      <td>1.515916e+18</td>\n",
       "    </tr>\n",
       "    <tr>\n",
       "      <th>75%</th>\n",
       "      <td>2.644347e+18</td>\n",
       "      <td>1.956664e+18</td>\n",
       "      <td>1.0</td>\n",
       "      <td>1.806829e+18</td>\n",
       "      <td>1.000000e+00</td>\n",
       "      <td>431.370000</td>\n",
       "      <td>1.515916e+18</td>\n",
       "    </tr>\n",
       "    <tr>\n",
       "      <th>max</th>\n",
       "      <td>2.719022e+18</td>\n",
       "      <td>2.541962e+18</td>\n",
       "      <td>1.0</td>\n",
       "      <td>1.806829e+18</td>\n",
       "      <td>1.550613e+18</td>\n",
       "      <td>34448.600000</td>\n",
       "      <td>1.554297e+18</td>\n",
       "    </tr>\n",
       "  </tbody>\n",
       "</table>\n",
       "</div>"
      ],
      "text/plain": [
       "           Order_ID    Product_ID  SKU_Quantity   Category_ID      Brand_ID  \\\n",
       "count  9.591000e+04  9.591000e+04       95910.0  9.055800e+04  9.112500e+04   \n",
       "mean   2.485191e+18  1.815970e+18           1.0  1.805947e+18  8.891036e+16   \n",
       "std    1.934750e+17  2.136814e+17           0.0  2.083954e+16  3.559651e+17   \n",
       "min    1.924899e+18  1.313551e+18           1.0  1.313678e+18  0.000000e+00   \n",
       "25%    2.379732e+18  1.515966e+18           1.0  1.806829e+18  0.000000e+00   \n",
       "50%    2.524282e+18  1.956664e+18           1.0  1.806829e+18  1.000000e+00   \n",
       "75%    2.644347e+18  1.956664e+18           1.0  1.806829e+18  1.000000e+00   \n",
       "max    2.719022e+18  2.541962e+18           1.0  1.806829e+18  1.550613e+18   \n",
       "\n",
       "       Price_in_USD       User_ID  \n",
       "count  90558.000000  9.055800e+04  \n",
       "mean     362.213017  1.512644e+18  \n",
       "std      444.157665  2.374776e+16  \n",
       "min        0.990000  1.313554e+18  \n",
       "25%      145.620000  1.515916e+18  \n",
       "50%      258.770000  1.515916e+18  \n",
       "75%      431.370000  1.515916e+18  \n",
       "max    34448.600000  1.554297e+18  "
      ]
     },
     "execution_count": 101,
     "metadata": {},
     "output_type": "execute_result"
    }
   ],
   "source": [
    "# Statistical summary of the data\n",
    "data_set.describe()"
   ]
  },
  {
   "cell_type": "code",
   "execution_count": 102,
   "id": "596c4a60-0594-472a-a885-5238a5b57db3",
   "metadata": {},
   "outputs": [
    {
     "name": "stdout",
     "output_type": "stream",
     "text": [
      "<class 'pandas.core.frame.DataFrame'>\n",
      "RangeIndex: 95910 entries, 0 to 95909\n",
      "Data columns (total 13 columns):\n",
      " #   Column          Non-Null Count  Dtype  \n",
      "---  ------          --------------  -----  \n",
      " 0   Order_DateTime  95910 non-null  object \n",
      " 1   Order_ID        95910 non-null  int64  \n",
      " 2   Product_ID      95910 non-null  int64  \n",
      " 3   SKU_Quantity    95910 non-null  int64  \n",
      " 4   Category_ID     90558 non-null  float64\n",
      " 5   Category_Alias  85977 non-null  object \n",
      " 6   Brand_ID        91125 non-null  float64\n",
      " 7   Price_in_USD    90558 non-null  float64\n",
      " 8   User_ID         90558 non-null  float64\n",
      " 9   Product_Gender  47743 non-null  object \n",
      " 10  Main_Color      88250 non-null  object \n",
      " 11  Main_Metal      90448 non-null  object \n",
      " 12  Main_Gem        61852 non-null  object \n",
      "dtypes: float64(4), int64(3), object(6)\n",
      "memory usage: 9.5+ MB\n"
     ]
    }
   ],
   "source": [
    "# also\n",
    "data_set.info()"
   ]
  },
  {
   "cell_type": "code",
   "execution_count": 103,
   "id": "ca08e14e",
   "metadata": {},
   "outputs": [
    {
     "data": {
      "text/plain": [
       "2589"
      ]
     },
     "execution_count": 103,
     "metadata": {},
     "output_type": "execute_result"
    }
   ],
   "source": [
    "# Duplicate entries\n",
    "data_set.duplicated().sum()"
   ]
  },
  {
   "cell_type": "code",
   "execution_count": 104,
   "id": "758b0394",
   "metadata": {},
   "outputs": [
    {
     "data": {
      "text/plain": [
       "(95910, 13)"
      ]
     },
     "execution_count": 104,
     "metadata": {},
     "output_type": "execute_result"
    }
   ],
   "source": [
    "data_set.shape"
   ]
  },
  {
   "cell_type": "code",
   "execution_count": 105,
   "id": "8776b1e1",
   "metadata": {},
   "outputs": [],
   "source": [
    "# DROP DUPLICATES\n",
    "data_set = data_set.drop_duplicates()"
   ]
  },
  {
   "cell_type": "code",
   "execution_count": 106,
   "id": "e630251e",
   "metadata": {},
   "outputs": [
    {
     "data": {
      "text/plain": [
       "(93321, 13)"
      ]
     },
     "execution_count": 106,
     "metadata": {},
     "output_type": "execute_result"
    }
   ],
   "source": [
    "# Confirm duplicate row dropping\n",
    "data_set.shape"
   ]
  },
  {
   "cell_type": "code",
   "execution_count": 107,
   "id": "861fab5c-21bb-4f7c-98ac-643429ee95ce",
   "metadata": {},
   "outputs": [
    {
     "data": {
      "text/plain": [
       "['SKU_Quantity']"
      ]
     },
     "execution_count": 107,
     "metadata": {},
     "output_type": "execute_result"
    }
   ],
   "source": [
    "# Invarian features: Features with cadinality of 1\n",
    "data_set.columns[data_set.nunique() <= 1].tolist()"
   ]
  },
  {
   "cell_type": "code",
   "execution_count": 108,
   "id": "d9fbfdd7",
   "metadata": {},
   "outputs": [
    {
     "data": {
      "text/plain": [
       "18.919793378274285"
      ]
     },
     "execution_count": 108,
     "metadata": {},
     "output_type": "execute_result"
    }
   ],
   "source": [
    "# Check for label (target feature) distribution\n",
    "label_distribution = data_set[\"Price_in_USD\"].skew()\n",
    "label_distribution"
   ]
  },
  {
   "cell_type": "code",
   "execution_count": 109,
   "id": "95600d31",
   "metadata": {},
   "outputs": [
    {
     "data": {
      "image/png": "[encoded data removed]",
      "text/plain": [
       "<Figure size 2500x500 with 1 Axes>"
      ]
     },
     "metadata": {},
     "output_type": "display_data"
    }
   ],
   "source": [
    "# The price (the label feature) in the data has a high skew.\n",
    "# Let's visualize it\n",
    "plt.figure(figsize = (25, 5))\n",
    "sns.kdeplot(data = data_set, x = \"Price_in_USD\") # Kernel Density Estimate (KDE) Plot\n",
    "plt.xlabel(\"Price in US Dollars\")\n",
    "plt.ylabel(\"Price Frequency\")\n",
    "plt.tight_layout()\n",
    "plt.show(); plt.close()"
   ]
  },
  {
   "cell_type": "code",
   "execution_count": 110,
   "id": "c120bf6d",
   "metadata": {},
   "outputs": [
    {
     "data": {
      "text/plain": [
       "1044.1569649991407"
      ]
     },
     "execution_count": 110,
     "metadata": {},
     "output_type": "execute_result"
    }
   ],
   "source": [
    "# Price kurtosis\n",
    "data_set[\"Price_in_USD\"].kurtosis()"
   ]
  },
  {
   "cell_type": "code",
   "execution_count": 111,
   "id": "ad004891",
   "metadata": {},
   "outputs": [
    {
     "data": {
      "text/plain": [
       "<AxesSubplot:xlabel='Price_in_USD', ylabel='Density'>"
      ]
     },
     "execution_count": 111,
     "metadata": {},
     "output_type": "execute_result"
    },
    {
     "data": {
      "image/png": "[encoded data removed]",
      "text/plain": [
       "<Figure size 640x480 with 1 Axes>"
      ]
     },
     "metadata": {},
     "output_type": "display_data"
    }
   ],
   "source": [
    "# Price Distribution\n",
    "sns.kdeplot(data_set['Price_in_USD'], fill=True)"
   ]
  },
  {
   "cell_type": "code",
   "execution_count": 112,
   "id": "d883bb44",
   "metadata": {},
   "outputs": [
    {
     "data": {
      "text/plain": [
       "count    88089.000000\n",
       "mean       363.583797\n",
       "std        448.344088\n",
       "min          0.990000\n",
       "25%        143.700000\n",
       "50%        259.970000\n",
       "75%        431.370000\n",
       "max      34448.600000\n",
       "Name: Price_in_USD, dtype: float64"
      ]
     },
     "execution_count": 112,
     "metadata": {},
     "output_type": "execute_result"
    }
   ],
   "source": [
    "data_set['Price_in_USD'].describe()"
   ]
  },
  {
   "cell_type": "code",
   "execution_count": 113,
   "id": "d15c872d",
   "metadata": {},
   "outputs": [
    {
     "data": {
      "text/plain": [
       "f    46687\n",
       "m      359\n",
       "Name: Product_Gender, dtype: int64"
      ]
     },
     "execution_count": 113,
     "metadata": {},
     "output_type": "execute_result"
    }
   ],
   "source": [
    "# Target gender analysis\n",
    "data_set[\"Product_Gender\"].value_counts()"
   ]
  },
  {
   "cell_type": "code",
   "execution_count": 114,
   "id": "7bbad5bf",
   "metadata": {},
   "outputs": [
    {
     "data": {
      "text/plain": [
       "f    99.236917\n",
       "m     0.763083\n",
       "Name: Product_Gender, dtype: float64"
      ]
     },
     "execution_count": 114,
     "metadata": {},
     "output_type": "execute_result"
    }
   ],
   "source": [
    "# In percentage\n",
    "data_set[\"Product_Gender\"].value_counts(normalize = True) * 100"
   ]
  },
  {
   "cell_type": "code",
   "execution_count": 115,
   "id": "6fe5c242",
   "metadata": {},
   "outputs": [
    {
     "data": {
      "image/png": "[encoded data removed]",
      "text/plain": [
       "<Figure size 800x500 with 1 Axes>"
      ]
     },
     "metadata": {},
     "output_type": "display_data"
    }
   ],
   "source": [
    "# Visualize gender distribution. Xtreme one-sided gender distribution\n",
    "plt.figure(figsize = (8, 5))\n",
    "sns.countplot(data = data_set, x = \"Product_Gender\")\n",
    "plt.xlabel(\"Gender Typer\")\n",
    "plt.ylabel(\"Quantity\")\n",
    "plt.show(); plt.close()"
   ]
  },
  {
   "cell_type": "code",
   "execution_count": 116,
   "id": "7855a830",
   "metadata": {},
   "outputs": [
    {
     "data": {
      "text/plain": [
       "25"
      ]
     },
     "execution_count": 116,
     "metadata": {},
     "output_type": "execute_result"
    }
   ],
   "source": [
    "# Jewelry Category analysis: We have 2 features pointing to categories: ID and ALIAS\n",
    "data_set[\"Category_ID\"].nunique()"
   ]
  },
  {
   "cell_type": "code",
   "execution_count": 117,
   "id": "59d9a98f",
   "metadata": {},
   "outputs": [
    {
     "data": {
      "text/plain": [
       "array([1.80682920e+18, 1.80682920e+18, 1.80682920e+18, 1.80682920e+18,\n",
       "       1.80682920e+18, 1.80682920e+18, 1.80682920e+18, 1.80682920e+18,\n",
       "       1.80682920e+18,            nan, 1.80682920e+18, 1.31367763e+18,\n",
       "       1.31367763e+18, 1.31367763e+18, 1.80682920e+18, 1.80682920e+18,\n",
       "       1.80682920e+18, 1.31367763e+18, 1.31367763e+18, 1.31367763e+18,\n",
       "       1.31367763e+18, 1.31367763e+18, 1.31367763e+18, 1.31367763e+18,\n",
       "       1.31367763e+18, 1.31367763e+18])"
      ]
     },
     "execution_count": 117,
     "metadata": {},
     "output_type": "execute_result"
    }
   ],
   "source": [
    "data_set[\"Category_ID\"].unique()"
   ]
  },
  {
   "cell_type": "code",
   "execution_count": 118,
   "id": "af512ea0",
   "metadata": {},
   "outputs": [
    {
     "data": {
      "text/plain": [
       "218"
      ]
     },
     "execution_count": 118,
     "metadata": {},
     "output_type": "execute_result"
    }
   ],
   "source": [
    "data_set[\"Category_Alias\"].nunique()"
   ]
  },
  {
   "cell_type": "code",
   "execution_count": 119,
   "id": "4ffa4c7f",
   "metadata": {},
   "outputs": [
    {
     "data": {
      "text/plain": [
       "array([nan, 'jewelry.pendant', 'jewelry.necklace', 'jewelry.earring',\n",
       "       'jewelry.ring', 'jewelry.brooch', 'jewelry.bracelet',\n",
       "       'electronics.clocks', 'jewelry.souvenir', '230.12', '202.36',\n",
       "       '1098.03', '321.78', '1128.62', '81.27', '34.25', '582.16',\n",
       "       '227.37', '234.22', '150.55', '131.82', '2123.15', '109.45',\n",
       "       '49.22', '472.47', '205.38', '2746.44', '51.08', '231.12', '76.97',\n",
       "       '3054.73', '184.90', '380.10', '357.49', '15.47', '135.33',\n",
       "       '719.75', '93.01', '177.95', 'jewelry.stud', '102.10', '595.75',\n",
       "       '469.56', '427.07', '53.62', '77.53', '1469.18', '355.27',\n",
       "       '184.89', '154.66', '300.58', '83.73', '271.19', '3294.21',\n",
       "       '278.04', '3626.26', '126.03', '283.52', '114.38', '89.04', '8.22',\n",
       "       '124.88', '89.73', '171.23', '136.93', '19.04', '158.77', '187.10',\n",
       "       '151.92', '1845.89', '87.23', '248.58', '596.48', '208.88',\n",
       "       '193.11', '169.84', '1447.68', '45.07', '136.85', '282.05',\n",
       "       '61.51', '210.21', '137.12', '147.81', '419.45', '825.27',\n",
       "       '300.16', '541.78', '308.74', '766.85', '410.82', '101.23', '2.88',\n",
       "       '1356.16', '13.42', '35.21', '134.79', '626.58', '13.70', '108.53',\n",
       "       '119.01', '7.40', '4.79', '153.97', '482.47', '427.36', '289.18',\n",
       "       '25.48', '1858.49', '21.70', '11.77', '198.89', '17.51', '574.66',\n",
       "       '1319.93', '393.05', '358.22', '2282.19', '114.93', '371.23',\n",
       "       '63.56', '88.77', '133.70', '117.81', '166.03', '130.41', '195.75',\n",
       "       '104.79', '228.59', '1686.93', '65.89', '242.19', '252.47',\n",
       "       '210.41', '363.42', '149.04', '157.95', '176.30', '160.96',\n",
       "       '316.30', '258.77', '268.36', '838.90', '250.96', '832.01',\n",
       "       '312.33', '318.71', '323.60', '205.34', '608.22', '343.84',\n",
       "       '598.22', '508.08', '245.67', '338.36', '75.21', '573.81',\n",
       "       '691.51', '476.68', '247.68', '286.71', '863.67', '236.58',\n",
       "       '644.66', '40.82', '1376.99', '1.23', '621.23', '3454.79', '65.62',\n",
       "       '59.73', '571.30', '70.96', '271.26', '958.84', '527.26', '271.16',\n",
       "       '284.66', '261.64', '493.01', '35.48', '446.16', '526.41',\n",
       "       '2517.08', '331.51', '312.88', '148.63', '451.21', '369.82',\n",
       "       '537.40', '231.51', '316.34', '451.10', '283.49', '787.67',\n",
       "       '131.92', '495.48', '5.48', '186.03', '484.49', '331.23', '133.85',\n",
       "       '323.70', '2635.07', '297.22', '0.00', '259.58', '108.33',\n",
       "       '4876.49', '308.08', '190.27', '916.44', '132.53', '1829.37',\n",
       "       '2208.90', '75.76', '278.01', '662.30', '253.77'], dtype=object)"
      ]
     },
     "execution_count": 119,
     "metadata": {},
     "output_type": "execute_result"
    }
   ],
   "source": [
    "# From the above, we need to look deeper into the data.\n",
    "# It doesn't look like the 'Category ID' (25) and 'Category ALIAS' (218) are pointing to the same data\n",
    "data_set[\"Category_Alias\"].unique()"
   ]
  },
  {
   "cell_type": "code",
   "execution_count": 120,
   "id": "647bfebf",
   "metadata": {},
   "outputs": [
    {
     "name": "stdout",
     "output_type": "stream",
     "text": [
      "['jewelry.pendant', 'jewelry.necklace', 'jewelry.earring', 'jewelry.ring', 'jewelry.brooch', 'jewelry.bracelet', 'jewelry.souvenir', 'jewelry.stud'] \n",
      "\n",
      " 8 unique categories.\n"
     ]
    }
   ],
   "source": [
    "# Lets extract the actual categories by eliminating the corrupted ones\n",
    "categories = data_set[\"Category_Alias\"].unique().tolist()\n",
    "categories = [c for c in categories if isinstance(c, str) and \"jewelry\" in c]\n",
    "print(categories, '\\n\\n', len(categories), 'unique categories.')"
   ]
  },
  {
   "cell_type": "code",
   "execution_count": 121,
   "id": "a50f9a9d",
   "metadata": {},
   "outputs": [
    {
     "data": {
      "text/plain": [
       "Order_DateTime     0.000000\n",
       "Order_ID           0.000000\n",
       "Product_ID         0.000000\n",
       "SKU_Quantity       0.000000\n",
       "Category_ID        5.606455\n",
       "Category_Alias    10.541036\n",
       "Brand_ID           5.009591\n",
       "Price_in_USD       5.606455\n",
       "User_ID            5.606455\n",
       "Product_Gender    49.586910\n",
       "Main_Color         7.797816\n",
       "Main_Metal         5.721113\n",
       "Main_Gem          34.756379\n",
       "dtype: float64"
      ]
     },
     "execution_count": 121,
     "metadata": {},
     "output_type": "execute_result"
    }
   ],
   "source": [
    "# Percentage of missing values in fields of the data set\n",
    "data_set.isnull().sum() * 100 / len(data_set)"
   ]
  },
  {
   "cell_type": "code",
   "execution_count": 122,
   "id": "3752d658",
   "metadata": {},
   "outputs": [
    {
     "data": {
      "text/plain": [
       "(93321, 13)"
      ]
     },
     "execution_count": 122,
     "metadata": {},
     "output_type": "execute_result"
    }
   ],
   "source": [
    "data_set.shape"
   ]
  },
  {
   "cell_type": "code",
   "execution_count": 123,
   "id": "63a58c65",
   "metadata": {},
   "outputs": [
    {
     "data": {
      "text/plain": [
       "(78087, 13)"
      ]
     },
     "execution_count": 123,
     "metadata": {},
     "output_type": "execute_result"
    }
   ],
   "source": [
    "# Remove the corrupted categories and compare\n",
    "data_set = data_set.loc[data_set[\"Category_Alias\"].isin(categories)]\n",
    "data_set.shape"
   ]
  },
  {
   "cell_type": "code",
   "execution_count": 124,
   "id": "99367d1a",
   "metadata": {},
   "outputs": [
    {
     "data": {
      "text/plain": [
       "16"
      ]
     },
     "execution_count": 124,
     "metadata": {},
     "output_type": "execute_result"
    }
   ],
   "source": [
    "# CATEGORY_ID A nalysis\n",
    "data_set[\"Category_ID\"].nunique()"
   ]
  },
  {
   "cell_type": "code",
   "execution_count": 125,
   "id": "c19c9297",
   "metadata": {},
   "outputs": [
    {
     "data": {
      "text/plain": [
       "array([1.80682920e+18, 1.80682920e+18, 1.80682920e+18, 1.80682920e+18,\n",
       "       1.80682920e+18, 1.80682920e+18, 1.80682920e+18, 1.31367763e+18,\n",
       "       1.31367763e+18, 1.80682920e+18, 1.31367763e+18, 1.31367763e+18,\n",
       "       1.31367763e+18, 1.31367763e+18, 1.31367763e+18, 1.31367763e+18])"
      ]
     },
     "execution_count": 125,
     "metadata": {},
     "output_type": "execute_result"
    }
   ],
   "source": [
    "data_set[\"Category_ID\"].unique()"
   ]
  },
  {
   "cell_type": "code",
   "execution_count": 126,
   "id": "7eaa1b6c",
   "metadata": {},
   "outputs": [],
   "source": [
    "# After triming, unique category alias and unique category ID are still not the same.\n",
    "# The data integrity needs to be verified. A better, cleaner data set may be the way out."
   ]
  },
  {
   "cell_type": "code",
   "execution_count": 127,
   "id": "f2110f1e",
   "metadata": {},
   "outputs": [
    {
     "data": {
      "text/plain": [
       "Order_DateTime     0.000000\n",
       "Order_ID           0.000000\n",
       "Product_ID         0.000000\n",
       "SKU_Quantity       0.000000\n",
       "Category_ID        0.000000\n",
       "Category_Alias     0.000000\n",
       "Brand_ID           4.313138\n",
       "Price_in_USD       0.000000\n",
       "User_ID            0.000000\n",
       "Product_Gender    44.018851\n",
       "Main_Color         2.401168\n",
       "Main_Metal         0.110134\n",
       "Main_Gem          23.158784\n",
       "dtype: float64"
      ]
     },
     "execution_count": 127,
     "metadata": {},
     "output_type": "execute_result"
    }
   ],
   "source": [
    "# Percentage of missing values in fields of the trimed data set\n",
    "data_set.isnull().sum() * 100 / len(data_set)"
   ]
  },
  {
   "cell_type": "code",
   "execution_count": 128,
   "id": "7c408592",
   "metadata": {},
   "outputs": [],
   "source": [
    "# The missing values reduced. It may mean that majority of the missing values are due to the Category data corruption"
   ]
  },
  {
   "cell_type": "code",
   "execution_count": 129,
   "id": "73a0ce64",
   "metadata": {},
   "outputs": [
    {
     "data": {
      "image/png": "[encoded data removed]",
      "text/plain": [
       "<Figure size 600x400 with 1 Axes>"
      ]
     },
     "metadata": {},
     "output_type": "display_data"
    }
   ],
   "source": [
    "# Jewelry category distribution visualization\n",
    "subdata = data_set[\"Category_Alias\"].value_counts()\n",
    "jewelry_categories, counts = subdata.index.tolist(), subdata.values.tolist()\n",
    "plt.figure(figsize = (6, 4))\n",
    "plt.pie(x = counts, labels = jewelry_categories)\n",
    "plt.show(); plt.close()"
   ]
  },
  {
   "cell_type": "code",
   "execution_count": 130,
   "id": "92da8e34",
   "metadata": {},
   "outputs": [
    {
     "data": {
      "image/png": "[encoded data removed]",
      "text/plain": [
       "<Figure size 600x400 with 1 Axes>"
      ]
     },
     "metadata": {},
     "output_type": "display_data"
    }
   ],
   "source": [
    "# Brand_ID\n",
    "subdata = data_set[\"Category_ID\"].value_counts()\n",
    "jewelry_catIDs, counts = subdata.index.tolist(), subdata.values.tolist()\n",
    "plt.figure(figsize = (6, 4))\n",
    "plt.pie(x = counts, labels = jewelry_catIDs)\n",
    "plt.show(); plt.close()"
   ]
  },
  {
   "cell_type": "code",
   "execution_count": 131,
   "id": "cfd9cd7f",
   "metadata": {},
   "outputs": [
    {
     "data": {
      "text/plain": [
       "jewelry.earring     29047\n",
       "jewelry.ring        26025\n",
       "jewelry.pendant     13083\n",
       "jewelry.bracelet     6129\n",
       "jewelry.necklace     2335\n",
       "jewelry.brooch       1286\n",
       "jewelry.souvenir      170\n",
       "jewelry.stud           12\n",
       "Name: Category_Alias, dtype: int64"
      ]
     },
     "execution_count": 131,
     "metadata": {},
     "output_type": "execute_result"
    }
   ],
   "source": [
    "data_set[\"Category_Alias\"].value_counts()"
   ]
  },
  {
   "cell_type": "code",
   "execution_count": 132,
   "id": "84eabb86",
   "metadata": {},
   "outputs": [
    {
     "data": {
      "text/plain": [
       "1.806829e+18    28997\n",
       "1.806829e+18    26011\n",
       "1.806829e+18    13049\n",
       "1.806829e+18     6126\n",
       "1.806829e+18     2330\n",
       "1.806829e+18     1286\n",
       "1.806829e+18      170\n",
       "1.313678e+18       40\n",
       "1.313678e+18       25\n",
       "1.313678e+18       14\n",
       "1.806829e+18       12\n",
       "1.313678e+18        9\n",
       "1.313678e+18        9\n",
       "1.313678e+18        5\n",
       "1.313678e+18        3\n",
       "1.313678e+18        1\n",
       "Name: Category_ID, dtype: int64"
      ]
     },
     "execution_count": 132,
     "metadata": {},
     "output_type": "execute_result"
    }
   ],
   "source": [
    "data_set[\"Category_ID\"].value_counts()"
   ]
  },
  {
   "cell_type": "code",
   "execution_count": 133,
   "id": "5afcc155",
   "metadata": {},
   "outputs": [
    {
     "data": {
      "image/png": "[encoded data removed]",
      "text/plain": [
       "<Figure size 1200x400 with 1 Axes>"
      ]
     },
     "metadata": {},
     "output_type": "display_data"
    },
    {
     "data": {
      "text/plain": [
       "(None, <function matplotlib.pyplot.close(fig=None)>)"
      ]
     },
     "execution_count": 133,
     "metadata": {},
     "output_type": "execute_result"
    }
   ],
   "source": [
    "# Category count plot\n",
    "plt.figure(figsize = (12, 4))\n",
    "sns.countplot(data = data_set, x = \"Category_Alias\")\n",
    "plt.xlabel(\"Jewelry Categories\")\n",
    "plt.ylabel(\"Categories Frequency\")\n",
    "plt.show(), plt.close"
   ]
  },
  {
   "cell_type": "code",
   "execution_count": 134,
   "id": "23f380e5",
   "metadata": {
    "scrolled": true
   },
   "outputs": [
    {
     "data": {
      "image/png": "[encoded data removed]",
      "text/plain": [
       "<Figure size 1200x600 with 1 Axes>"
      ]
     },
     "metadata": {},
     "output_type": "display_data"
    }
   ],
   "source": [
    "# Category representation with respect to gender\n",
    "plt.figure(figsize = (12, 6))\n",
    "sns.countplot(data = data_set, x = \"Category_Alias\", hue = \"Product_Gender\")\n",
    "plt.xlabel(\"Jewelry Categories by Gender\")\n",
    "plt.ylabel(\"Frequency\")\n",
    "plt.show(); plt.close()"
   ]
  },
  {
   "cell_type": "code",
   "execution_count": 152,
   "id": "b484afa2",
   "metadata": {},
   "outputs": [],
   "source": [
    "# Handling the skew in price - create 'log(pricd)' column\n",
    "data_set[\"log_price\"] = np.log(data_set[\"Price_in_USD\"])"
   ]
  },
  {
   "cell_type": "code",
   "execution_count": 160,
   "id": "f9f2598f",
   "metadata": {},
   "outputs": [
    {
     "data": {
      "text/html": [
       "<div>\n",
       "<style scoped>\n",
       "    .dataframe tbody tr th:only-of-type {\n",
       "        vertical-align: middle;\n",
       "    }\n",
       "\n",
       "    .dataframe tbody tr th {\n",
       "        vertical-align: top;\n",
       "    }\n",
       "\n",
       "    .dataframe thead th {\n",
       "        text-align: right;\n",
       "    }\n",
       "</style>\n",
       "<table border=\"1\" class=\"dataframe\">\n",
       "  <thead>\n",
       "    <tr style=\"text-align: right;\">\n",
       "      <th></th>\n",
       "      <th>Order_ID</th>\n",
       "      <th>Product_ID</th>\n",
       "      <th>SKU_Quantity</th>\n",
       "      <th>Category_ID</th>\n",
       "      <th>Brand_ID</th>\n",
       "      <th>Price_in_USD</th>\n",
       "      <th>User_ID</th>\n",
       "      <th>log_price</th>\n",
       "      <th>Year</th>\n",
       "      <th>Month</th>\n",
       "    </tr>\n",
       "  </thead>\n",
       "  <tbody>\n",
       "    <tr>\n",
       "      <th>count</th>\n",
       "      <td>7.808700e+04</td>\n",
       "      <td>7.808700e+04</td>\n",
       "      <td>78087.0</td>\n",
       "      <td>7.808700e+04</td>\n",
       "      <td>74719.000000</td>\n",
       "      <td>78087.000000</td>\n",
       "      <td>7.808700e+04</td>\n",
       "      <td>78087.000000</td>\n",
       "      <td>78087.000000</td>\n",
       "      <td>78087.000000</td>\n",
       "    </tr>\n",
       "    <tr>\n",
       "      <th>mean</th>\n",
       "      <td>2.473234e+18</td>\n",
       "      <td>1.825199e+18</td>\n",
       "      <td>1.0</td>\n",
       "      <td>1.806160e+18</td>\n",
       "      <td>0.634591</td>\n",
       "      <td>353.715579</td>\n",
       "      <td>1.512538e+18</td>\n",
       "      <td>5.498609</td>\n",
       "      <td>2020.428753</td>\n",
       "      <td>7.202953</td>\n",
       "    </tr>\n",
       "    <tr>\n",
       "      <th>std</th>\n",
       "      <td>1.929789e+17</td>\n",
       "      <td>2.114342e+17</td>\n",
       "      <td>0.0</td>\n",
       "      <td>1.815732e+16</td>\n",
       "      <td>0.690533</td>\n",
       "      <td>444.929898</td>\n",
       "      <td>2.411510e+16</td>\n",
       "      <td>0.876831</td>\n",
       "      <td>0.723226</td>\n",
       "      <td>3.505926</td>\n",
       "    </tr>\n",
       "    <tr>\n",
       "      <th>min</th>\n",
       "      <td>1.925511e+18</td>\n",
       "      <td>1.313551e+18</td>\n",
       "      <td>1.0</td>\n",
       "      <td>1.313678e+18</td>\n",
       "      <td>0.000000</td>\n",
       "      <td>0.990000</td>\n",
       "      <td>1.313554e+18</td>\n",
       "      <td>-0.010050</td>\n",
       "      <td>2018.000000</td>\n",
       "      <td>1.000000</td>\n",
       "    </tr>\n",
       "    <tr>\n",
       "      <th>25%</th>\n",
       "      <td>2.370276e+18</td>\n",
       "      <td>1.515966e+18</td>\n",
       "      <td>1.0</td>\n",
       "      <td>1.806829e+18</td>\n",
       "      <td>0.000000</td>\n",
       "      <td>143.700000</td>\n",
       "      <td>1.515916e+18</td>\n",
       "      <td>4.967728</td>\n",
       "      <td>2020.000000</td>\n",
       "      <td>4.000000</td>\n",
       "    </tr>\n",
       "    <tr>\n",
       "      <th>50%</th>\n",
       "      <td>2.512252e+18</td>\n",
       "      <td>1.956664e+18</td>\n",
       "      <td>1.0</td>\n",
       "      <td>1.806829e+18</td>\n",
       "      <td>1.000000</td>\n",
       "      <td>253.290000</td>\n",
       "      <td>1.515916e+18</td>\n",
       "      <td>5.534535</td>\n",
       "      <td>2021.000000</td>\n",
       "      <td>8.000000</td>\n",
       "    </tr>\n",
       "    <tr>\n",
       "      <th>75%</th>\n",
       "      <td>2.632689e+18</td>\n",
       "      <td>1.956664e+18</td>\n",
       "      <td>1.0</td>\n",
       "      <td>1.806829e+18</td>\n",
       "      <td>1.000000</td>\n",
       "      <td>417.670000</td>\n",
       "      <td>1.515916e+18</td>\n",
       "      <td>6.034692</td>\n",
       "      <td>2021.000000</td>\n",
       "      <td>10.000000</td>\n",
       "    </tr>\n",
       "    <tr>\n",
       "      <th>max</th>\n",
       "      <td>2.719022e+18</td>\n",
       "      <td>2.541962e+18</td>\n",
       "      <td>1.0</td>\n",
       "      <td>1.806829e+18</td>\n",
       "      <td>5.000000</td>\n",
       "      <td>34448.600000</td>\n",
       "      <td>1.554297e+18</td>\n",
       "      <td>10.447224</td>\n",
       "      <td>2021.000000</td>\n",
       "      <td>12.000000</td>\n",
       "    </tr>\n",
       "  </tbody>\n",
       "</table>\n",
       "</div>"
      ],
      "text/plain": [
       "           Order_ID    Product_ID  SKU_Quantity   Category_ID      Brand_ID  \\\n",
       "count  7.808700e+04  7.808700e+04       78087.0  7.808700e+04  74719.000000   \n",
       "mean   2.473234e+18  1.825199e+18           1.0  1.806160e+18      0.634591   \n",
       "std    1.929789e+17  2.114342e+17           0.0  1.815732e+16      0.690533   \n",
       "min    1.925511e+18  1.313551e+18           1.0  1.313678e+18      0.000000   \n",
       "25%    2.370276e+18  1.515966e+18           1.0  1.806829e+18      0.000000   \n",
       "50%    2.512252e+18  1.956664e+18           1.0  1.806829e+18      1.000000   \n",
       "75%    2.632689e+18  1.956664e+18           1.0  1.806829e+18      1.000000   \n",
       "max    2.719022e+18  2.541962e+18           1.0  1.806829e+18      5.000000   \n",
       "\n",
       "       Price_in_USD       User_ID     log_price          Year         Month  \n",
       "count  78087.000000  7.808700e+04  78087.000000  78087.000000  78087.000000  \n",
       "mean     353.715579  1.512538e+18      5.498609   2020.428753      7.202953  \n",
       "std      444.929898  2.411510e+16      0.876831      0.723226      3.505926  \n",
       "min        0.990000  1.313554e+18     -0.010050   2018.000000      1.000000  \n",
       "25%      143.700000  1.515916e+18      4.967728   2020.000000      4.000000  \n",
       "50%      253.290000  1.515916e+18      5.534535   2021.000000      8.000000  \n",
       "75%      417.670000  1.515916e+18      6.034692   2021.000000     10.000000  \n",
       "max    34448.600000  1.554297e+18     10.447224   2021.000000     12.000000  "
      ]
     },
     "execution_count": 160,
     "metadata": {},
     "output_type": "execute_result"
    }
   ],
   "source": [
    "data_set.describe()"
   ]
  },
  {
   "cell_type": "code",
   "execution_count": 137,
   "id": "0174d2b3",
   "metadata": {},
   "outputs": [],
   "source": [
    "# DateTime analysis - see if price varies with month of the year\n",
    "# Get YearOfOrder and OrderMonth from the DateTime column\n",
    "\n",
    "# Ensure the column is parsed as datetime\n",
    "data_set['Order_DateTime'] = pd.to_datetime(data_set['Order_DateTime'], utc=True)\n",
    "\n",
    "# Create new columns for year and month\n",
    "data_set['Year'] = data_set['Order_DateTime'].dt.year\n",
    "data_set['Month'] = data_set['Order_DateTime'].dt.month"
   ]
  },
  {
   "cell_type": "code",
   "execution_count": 154,
   "id": "5b0005eb",
   "metadata": {},
   "outputs": [
    {
     "data": {
      "text/plain": [
       "-0.39479078470780155"
      ]
     },
     "execution_count": 154,
     "metadata": {},
     "output_type": "execute_result"
    }
   ],
   "source": [
    "# log_price skew\n",
    "data_set[\"log_price\"].skew()"
   ]
  },
  {
   "cell_type": "code",
   "execution_count": 155,
   "id": "acd5d288",
   "metadata": {},
   "outputs": [
    {
     "data": {
      "text/plain": [
       "count    78087.000000\n",
       "mean         5.498609\n",
       "std          0.876831\n",
       "min         -0.010050\n",
       "25%          4.967728\n",
       "50%          5.534535\n",
       "75%          6.034692\n",
       "max         10.447224\n",
       "Name: log_price, dtype: float64"
      ]
     },
     "execution_count": 155,
     "metadata": {},
     "output_type": "execute_result"
    }
   ],
   "source": [
    "data_set[\"log_price\"].describe()"
   ]
  },
  {
   "cell_type": "code",
   "execution_count": 161,
   "id": "f2443c37",
   "metadata": {},
   "outputs": [
    {
     "data": {
      "text/plain": [
       "1.5571761833806215"
      ]
     },
     "execution_count": 161,
     "metadata": {},
     "output_type": "execute_result"
    }
   ],
   "source": [
    "# log_price kurtosis\n",
    "data_set[\"log_price\"].kurtosis()"
   ]
  },
  {
   "cell_type": "code",
   "execution_count": 162,
   "id": "3a42b9c6",
   "metadata": {},
   "outputs": [
    {
     "data": {
      "text/plain": [
       "<AxesSubplot:xlabel='log_price', ylabel='Density'>"
      ]
     },
     "execution_count": 162,
     "metadata": {},
     "output_type": "execute_result"
    },
    {
     "data": {
      "image/png": "[encoded data removed]",
      "text/plain": [
       "<Figure size 640x480 with 1 Axes>"
      ]
     },
     "metadata": {},
     "output_type": "display_data"
    }
   ],
   "source": [
    "#log_price Distribution map\n",
    "sns.kdeplot(data_set['log_price'], fill=True)"
   ]
  },
  {
   "cell_type": "code",
   "execution_count": 163,
   "id": "59f4caeb",
   "metadata": {},
   "outputs": [
    {
     "data": {
      "text/plain": [
       "Index(['Order_DateTime', 'Order_ID', 'Product_ID', 'SKU_Quantity',\n",
       "       'Category_ID', 'Category_Alias', 'Brand_ID', 'Price_in_USD', 'User_ID',\n",
       "       'Product_Gender', 'Main_Color', 'Main_Metal', 'Main_Gem', 'log_price',\n",
       "       'Year', 'Month'],\n",
       "      dtype='object')"
      ]
     },
     "execution_count": 163,
     "metadata": {},
     "output_type": "execute_result"
    }
   ],
   "source": [
    "# Check the update\n",
    "data_set.columns"
   ]
  },
  {
   "cell_type": "code",
   "execution_count": 164,
   "id": "380af9e8",
   "metadata": {},
   "outputs": [
    {
     "data": {
      "text/plain": [
       "array([12,  1,  2,  3,  4,  5,  6,  7,  8,  9, 10, 11], dtype=int64)"
      ]
     },
     "execution_count": 164,
     "metadata": {},
     "output_type": "execute_result"
    }
   ],
   "source": [
    "data_set[\"Month\"].unique()"
   ]
  },
  {
   "cell_type": "code",
   "execution_count": 165,
   "id": "97422a9a",
   "metadata": {},
   "outputs": [
    {
     "data": {
      "text/plain": [
       "array([2018, 2019, 2020, 2021], dtype=int64)"
      ]
     },
     "execution_count": 165,
     "metadata": {},
     "output_type": "execute_result"
    }
   ],
   "source": [
    "data_set[\"Year\"].unique()"
   ]
  },
  {
   "cell_type": "code",
   "execution_count": 166,
   "id": "3fd078c3",
   "metadata": {},
   "outputs": [
    {
     "data": {
      "image/png": "[encoded data removed]",
      "text/plain": [
       "<Figure size 1200x400 with 1 Axes>"
      ]
     },
     "metadata": {},
     "output_type": "display_data"
    },
    {
     "data": {
      "text/plain": [
       "(None, <function matplotlib.pyplot.close(fig=None)>)"
      ]
     },
     "execution_count": 166,
     "metadata": {},
     "output_type": "execute_result"
    }
   ],
   "source": [
    "# Per month record count plot\n",
    "plt.figure(figsize = (12, 4))\n",
    "sns.countplot(data = data_set, x = \"Month\")\n",
    "plt.xlabel(\"Order Month\")\n",
    "plt.ylabel(\"Moth Frequency\")\n",
    "plt.show(), plt.close"
   ]
  },
  {
   "cell_type": "code",
   "execution_count": 167,
   "id": "5925b897",
   "metadata": {},
   "outputs": [
    {
     "data": {
      "image/png": "[encoded data removed]",
      "text/plain": [
       "<Figure size 1200x500 with 1 Axes>"
      ]
     },
     "metadata": {},
     "output_type": "display_data"
    }
   ],
   "source": [
    "# Month variation with respect to years\n",
    "plt.figure(figsize = (12, 5))\n",
    "sns.countplot(data = data_set, x = \"Month\", hue = \"Year\")\n",
    "plt.xlabel(\"Order month wrt year\")\n",
    "plt.ylabel(\"Frequency\")\n",
    "plt.show(); plt.close()"
   ]
  },
  {
   "cell_type": "code",
   "execution_count": 168,
   "id": "de71e9c9",
   "metadata": {},
   "outputs": [],
   "source": [
    "# Checking PRICE variation in unique PRODUCT_ID\n",
    "for value in data_set[\"Product_ID\"].unique():\n",
    "    df = data_set[data_set[\"Product_ID\"] == value]\n",
    "    unique_prices = df[\"Price_in_USD\"].nunique()\n",
    "    if unique_prices > 1:\n",
    "        print(\"For Product_ID \", value, \", we have \", unique_prices, \" unique prices.\")"
   ]
  },
  {
   "cell_type": "code",
   "execution_count": null,
   "id": "b8131699",
   "metadata": {},
   "outputs": [],
   "source": [
    "# A UNIQUE PRODUCT_ID HAS A UNIQUE PRICE, drop Product_ID - inner invariant"
   ]
  },
  {
   "cell_type": "code",
   "execution_count": 169,
   "id": "2e137d89",
   "metadata": {},
   "outputs": [
    {
     "name": "stdout",
     "output_type": "stream",
     "text": [
      "For Brand_ID  1.0 , we have  1673  unique prices.\n",
      "For Brand_ID  0.0 , we have  665  unique prices.\n",
      "For Brand_ID  2.0 , we have  447  unique prices.\n",
      "For Brand_ID  4.0 , we have  18  unique prices.\n",
      "For Brand_ID  5.0 , we have  4  unique prices.\n",
      "For Brand_ID  3.0 , we have  31  unique prices.\n"
     ]
    }
   ],
   "source": [
    "# Checking PRICE variation in unique BRAND_ID\n",
    "for value in data_set[\"Brand_ID\"].unique():\n",
    "    df = data_set[data_set[\"Brand_ID\"] == value]\n",
    "    unique_prices = df[\"Price_in_USD\"].nunique()\n",
    "    if unique_prices > 1:\n",
    "        print(\"For Brand_ID \", value, \", we have \", unique_prices, \" unique prices.\")"
   ]
  },
  {
   "cell_type": "code",
   "execution_count": 170,
   "id": "02fa3d54",
   "metadata": {},
   "outputs": [
    {
     "name": "stdout",
     "output_type": "stream",
     "text": [
      "For Category_ID  1.8068292019159043e+18 , we have  31  unique prices.\n",
      "For Category_ID  1.8068292019242929e+18 , we have  31  unique prices.\n",
      "For Category_ID  1.8068292018907384e+18 , we have  31  unique prices.\n",
      "For Category_ID  1.8068292018823498e+18 , we have  31  unique prices.\n",
      "For Category_ID  1.80682920194107e+18 , we have  31  unique prices.\n",
      "For Category_ID  1.8068292018655726e+18 , we have  31  unique prices.\n",
      "For Category_ID  1.806829202092065e+18 , we have  31  unique prices.\n",
      "For Category_ID  1.313677631878595e+18 , we have  31  unique prices.\n",
      "For Category_ID  1.3136776318953723e+18 , we have  31  unique prices.\n",
      "For Category_ID  1.8068292019746245e+18 , we have  31  unique prices.\n",
      "For Category_ID  1.313677631836652e+18 , we have  31  unique prices.\n",
      "For Category_ID  1.313677632264471e+18 , we have  31  unique prices.\n",
      "For Category_ID  1.3136776319121495e+18 , we have  31  unique prices.\n",
      "For Category_ID  1.3136776320799217e+18 , we have  31  unique prices.\n",
      "For Category_ID  1.313677632096699e+18 , we have  31  unique prices.\n",
      "For Category_ID  1.3136776318618179e+18 , we have  31  unique prices.\n"
     ]
    }
   ],
   "source": [
    "# Checking PRICE variation in unique Category_ID\n",
    "for value in data_set[\"Category_ID\"].unique():\n",
    "    df = data_set[data_set[\"Category_ID\"] == value]\n",
    "    unique_price = df[\"Price_in_USD\"].nunique()\n",
    "    if unique_prices > 1:\n",
    "        print(\"For Category_ID \", value, \", we have \", unique_prices, \" unique prices.\")"
   ]
  },
  {
   "cell_type": "code",
   "execution_count": 171,
   "id": "77773ae2",
   "metadata": {},
   "outputs": [
    {
     "name": "stdout",
     "output_type": "stream",
     "text": [
      "For Category_Alias  jewelry.pendant , we have  31  unique prices.\n",
      "For Category_Alias  jewelry.necklace , we have  31  unique prices.\n",
      "For Category_Alias  jewelry.earring , we have  31  unique prices.\n",
      "For Category_Alias  jewelry.ring , we have  31  unique prices.\n",
      "For Category_Alias  jewelry.brooch , we have  31  unique prices.\n",
      "For Category_Alias  jewelry.bracelet , we have  31  unique prices.\n",
      "For Category_Alias  jewelry.souvenir , we have  31  unique prices.\n",
      "For Category_Alias  jewelry.stud , we have  31  unique prices.\n"
     ]
    }
   ],
   "source": [
    "# Checking PRICE variation in unique Category_Alias\n",
    "for value in data_set[\"Category_Alias\"].unique():\n",
    "    df = data_set[data_set[\"Category_Alias\"] == value]\n",
    "    unique_price = df[\"Price_in_USD\"].nunique()\n",
    "    if unique_prices > 1:\n",
    "        print(\"For Category_Alias \", value, \", we have \", unique_prices, \" unique prices.\")"
   ]
  },
  {
   "cell_type": "code",
   "execution_count": 172,
   "id": "ee88d8ec",
   "metadata": {},
   "outputs": [
    {
     "name": "stdout",
     "output_type": "stream",
     "text": [
      "For Product_Gender  f , we have  31  unique prices.\n",
      "For Product_Gender  nan , we have  31  unique prices.\n",
      "For Product_Gender  m , we have  31  unique prices.\n"
     ]
    }
   ],
   "source": [
    "# Checking PRICE variation in unique Product_Gender\n",
    "for value in data_set[\"Product_Gender\"].unique():\n",
    "    df = data_set[data_set[\"Product_Gender\"] == value]\n",
    "    unique_price = df[\"Price_in_USD\"].nunique()\n",
    "    if unique_prices > 1:\n",
    "        print(\"For Product_Gender \", value, \", we have \", unique_prices, \" unique prices.\")"
   ]
  },
  {
   "cell_type": "code",
   "execution_count": 173,
   "id": "aaaadbb2",
   "metadata": {},
   "outputs": [
    {
     "data": {
      "text/plain": [
       "Index(['Order_DateTime', 'Order_ID', 'Product_ID', 'SKU_Quantity',\n",
       "       'Category_ID', 'Category_Alias', 'Brand_ID', 'Price_in_USD', 'User_ID',\n",
       "       'Product_Gender', 'Main_Color', 'Main_Metal', 'Main_Gem', 'log_price',\n",
       "       'Year', 'Month'],\n",
       "      dtype='object')"
      ]
     },
     "execution_count": 173,
     "metadata": {},
     "output_type": "execute_result"
    }
   ],
   "source": [
    "data_set.columns"
   ]
  },
  {
   "cell_type": "code",
   "execution_count": 174,
   "id": "bdba7330",
   "metadata": {},
   "outputs": [],
   "source": [
    "# Let us drop the original DateTime record (year and month are the needed feature) and SKU_Quantity (Cadinality of 1)\n",
    "# Drop Order ID,  User ID and Category_ID (Repetition of Category_Alias)\n",
    "data_set = data_set.drop([\"Order_DateTime\", \"Order_ID\", \"Product_ID\", \"SKU_Quantity\", \"Category_ID\" \"User_ID\"], axis = 1)"
   ]
  },
  {
   "cell_type": "code",
   "execution_count": 175,
   "id": "7097e3a9",
   "metadata": {},
   "outputs": [
    {
     "name": "stdout",
     "output_type": "stream",
     "text": [
      "<class 'pandas.core.frame.DataFrame'>\n",
      "Int64Index: 78087 entries, 1 to 95909\n",
      "Data columns (total 11 columns):\n",
      " #   Column          Non-Null Count  Dtype  \n",
      "---  ------          --------------  -----  \n",
      " 0   Category_ID     78087 non-null  float64\n",
      " 1   Category_Alias  78087 non-null  object \n",
      " 2   Brand_ID        74719 non-null  float64\n",
      " 3   Price_in_USD    78087 non-null  float64\n",
      " 4   Product_Gender  43714 non-null  object \n",
      " 5   Main_Color      76212 non-null  object \n",
      " 6   Main_Metal      78001 non-null  object \n",
      " 7   Main_Gem        60003 non-null  object \n",
      " 8   log_price       78087 non-null  float64\n",
      " 9   Year            78087 non-null  int64  \n",
      " 10  Month           78087 non-null  int64  \n",
      "dtypes: float64(4), int64(2), object(5)\n",
      "memory usage: 7.1+ MB\n"
     ]
    }
   ],
   "source": [
    "data_set.info()"
   ]
  },
  {
   "cell_type": "code",
   "execution_count": null,
   "id": "1fa55873",
   "metadata": {},
   "outputs": [],
   "source": [
    "# Encoding strings as numerical features"
   ]
  },
  {
   "cell_type": "code",
   "execution_count": 176,
   "id": "7043381d",
   "metadata": {},
   "outputs": [],
   "source": [
    "encoded, category_code = pd.factorize(data_set[\"Category_Alias\"]) # for categories\n",
    "data_set.loc[:, \"Category_Alias\"] = encoded\n",
    "\n",
    "encoded, category_code = pd.factorize(data_set[\"Product_Gender\"]) # for genders\n",
    "data_set.loc[:, \"Product_Gender\"] = encoded\n",
    "\n",
    "encoded, category_code = pd.factorize(data_set[\"Main_Color\"]) # for color\n",
    "data_set.loc[:, \"Main_Color\"] = encoded\n",
    "\n",
    "encoded, category_code = pd.factorize(data_set[\"Main_Metal\"]) # for metal\n",
    "data_set.loc[:, \"Main_Metal\"] = encoded\n",
    "\n",
    "encoded, category_code = pd.factorize(data_set[\"Main_Gem\"]) # for gem\n",
    "data_set.loc[:, \"Main_Gem\"] = encoded"
   ]
  },
  {
   "cell_type": "code",
   "execution_count": 177,
   "id": "41ee717e",
   "metadata": {},
   "outputs": [
    {
     "name": "stdout",
     "output_type": "stream",
     "text": [
      "<class 'pandas.core.frame.DataFrame'>\n",
      "Int64Index: 78087 entries, 1 to 95909\n",
      "Data columns (total 11 columns):\n",
      " #   Column          Non-Null Count  Dtype  \n",
      "---  ------          --------------  -----  \n",
      " 0   Category_ID     78087 non-null  float64\n",
      " 1   Category_Alias  78087 non-null  int64  \n",
      " 2   Brand_ID        74719 non-null  float64\n",
      " 3   Price_in_USD    78087 non-null  float64\n",
      " 4   Product_Gender  78087 non-null  int64  \n",
      " 5   Main_Color      78087 non-null  int64  \n",
      " 6   Main_Metal      78087 non-null  int64  \n",
      " 7   Main_Gem        78087 non-null  int64  \n",
      " 8   log_price       78087 non-null  float64\n",
      " 9   Year            78087 non-null  int64  \n",
      " 10  Month           78087 non-null  int64  \n",
      "dtypes: float64(4), int64(7)\n",
      "memory usage: 7.1 MB\n"
     ]
    }
   ],
   "source": [
    "data_set.info()"
   ]
  },
  {
   "cell_type": "code",
   "execution_count": null,
   "id": "7cf88294",
   "metadata": {},
   "outputs": [],
   "source": [
    "# DATA PREPARATION for Linear Regression"
   ]
  },
  {
   "cell_type": "code",
   "execution_count": 178,
   "id": "000ed355",
   "metadata": {},
   "outputs": [],
   "source": [
    "# Import libraries\n",
    "from sklearn.linear_model import LinearRegression\n",
    "from sklearn.model_selection import train_test_split\n",
    "from sklearn.metrics import mean_squared_error, r2_score"
   ]
  },
  {
   "cell_type": "code",
   "execution_count": 179,
   "id": "0adca06b",
   "metadata": {},
   "outputs": [],
   "source": [
    "# Define features (X) and target (y)\n",
    "X = data_set[[\"Category_ID\", \"Category_Alias\", \"Brand_ID\", \"Product_Gender\", \"Main_Color\", \"Main_Metal\", \"Main_Gem\", \"Year\", \"Month\"]]\n",
    "y = data_set[\"log_price\"]"
   ]
  },
  {
   "cell_type": "code",
   "execution_count": 180,
   "id": "7c3783df",
   "metadata": {},
   "outputs": [],
   "source": [
    "# Split data into training and test sets\n",
    "X_train, X_test, y_train, y_test = train_test_split(X, y, test_size=0.2, random_state=42)"
   ]
  },
  {
   "cell_type": "code",
   "execution_count": 181,
   "id": "f4aa2eda",
   "metadata": {},
   "outputs": [
    {
     "name": "stdout",
     "output_type": "stream",
     "text": [
      "Category_ID       float64\n",
      "Category_Alias      int64\n",
      "Brand_ID          float64\n",
      "Product_Gender      int64\n",
      "Main_Color          int64\n",
      "Main_Metal          int64\n",
      "Main_Gem            int64\n",
      "Year                int64\n",
      "Month               int64\n",
      "dtype: object\n"
     ]
    }
   ],
   "source": [
    "# Check all are encoded\n",
    "print(X_train.dtypes)"
   ]
  },
  {
   "cell_type": "code",
   "execution_count": 182,
   "id": "1b6bb1ea",
   "metadata": {},
   "outputs": [
    {
     "ename": "ValueError",
     "evalue": "Input contains NaN, infinity or a value too large for dtype('float64').",
     "output_type": "error",
     "traceback": [
      "\u001b[1;31m---------------------------------------------------------------------------\u001b[0m",
      "\u001b[1;31mValueError\u001b[0m                                Traceback (most recent call last)",
      "\u001b[1;32m~\\AppData\\Local\\Temp\\ipykernel_7880\\1948354088.py\u001b[0m in \u001b[0;36m<module>\u001b[1;34m\u001b[0m\n\u001b[0;32m      1\u001b[0m \u001b[1;31m# Initialize and train the model\u001b[0m\u001b[1;33m\u001b[0m\u001b[1;33m\u001b[0m\u001b[0m\n\u001b[0;32m      2\u001b[0m \u001b[0mmodel\u001b[0m \u001b[1;33m=\u001b[0m \u001b[0mLinearRegression\u001b[0m\u001b[1;33m(\u001b[0m\u001b[1;33m)\u001b[0m\u001b[1;33m\u001b[0m\u001b[1;33m\u001b[0m\u001b[0m\n\u001b[1;32m----> 3\u001b[1;33m \u001b[0mmodel\u001b[0m\u001b[1;33m.\u001b[0m\u001b[0mfit\u001b[0m\u001b[1;33m(\u001b[0m\u001b[0mX_train\u001b[0m\u001b[1;33m,\u001b[0m \u001b[0my_train\u001b[0m\u001b[1;33m)\u001b[0m\u001b[1;33m\u001b[0m\u001b[1;33m\u001b[0m\u001b[0m\n\u001b[0m",
      "\u001b[1;32m~\\anaconda3\\lib\\site-packages\\sklearn\\linear_model\\_base.py\u001b[0m in \u001b[0;36mfit\u001b[1;34m(self, X, y, sample_weight)\u001b[0m\n\u001b[0;32m    660\u001b[0m         \u001b[0maccept_sparse\u001b[0m \u001b[1;33m=\u001b[0m \u001b[1;32mFalse\u001b[0m \u001b[1;32mif\u001b[0m \u001b[0mself\u001b[0m\u001b[1;33m.\u001b[0m\u001b[0mpositive\u001b[0m \u001b[1;32melse\u001b[0m \u001b[1;33m[\u001b[0m\u001b[1;34m\"csr\"\u001b[0m\u001b[1;33m,\u001b[0m \u001b[1;34m\"csc\"\u001b[0m\u001b[1;33m,\u001b[0m \u001b[1;34m\"coo\"\u001b[0m\u001b[1;33m]\u001b[0m\u001b[1;33m\u001b[0m\u001b[1;33m\u001b[0m\u001b[0m\n\u001b[0;32m    661\u001b[0m \u001b[1;33m\u001b[0m\u001b[0m\n\u001b[1;32m--> 662\u001b[1;33m         X, y = self._validate_data(\n\u001b[0m\u001b[0;32m    663\u001b[0m             \u001b[0mX\u001b[0m\u001b[1;33m,\u001b[0m \u001b[0my\u001b[0m\u001b[1;33m,\u001b[0m \u001b[0maccept_sparse\u001b[0m\u001b[1;33m=\u001b[0m\u001b[0maccept_sparse\u001b[0m\u001b[1;33m,\u001b[0m \u001b[0my_numeric\u001b[0m\u001b[1;33m=\u001b[0m\u001b[1;32mTrue\u001b[0m\u001b[1;33m,\u001b[0m \u001b[0mmulti_output\u001b[0m\u001b[1;33m=\u001b[0m\u001b[1;32mTrue\u001b[0m\u001b[1;33m\u001b[0m\u001b[1;33m\u001b[0m\u001b[0m\n\u001b[0;32m    664\u001b[0m         )\n",
      "\u001b[1;32m~\\anaconda3\\lib\\site-packages\\sklearn\\base.py\u001b[0m in \u001b[0;36m_validate_data\u001b[1;34m(self, X, y, reset, validate_separately, **check_params)\u001b[0m\n\u001b[0;32m    579\u001b[0m                 \u001b[0my\u001b[0m \u001b[1;33m=\u001b[0m \u001b[0mcheck_array\u001b[0m\u001b[1;33m(\u001b[0m\u001b[0my\u001b[0m\u001b[1;33m,\u001b[0m \u001b[1;33m**\u001b[0m\u001b[0mcheck_y_params\u001b[0m\u001b[1;33m)\u001b[0m\u001b[1;33m\u001b[0m\u001b[1;33m\u001b[0m\u001b[0m\n\u001b[0;32m    580\u001b[0m             \u001b[1;32melse\u001b[0m\u001b[1;33m:\u001b[0m\u001b[1;33m\u001b[0m\u001b[1;33m\u001b[0m\u001b[0m\n\u001b[1;32m--> 581\u001b[1;33m                 \u001b[0mX\u001b[0m\u001b[1;33m,\u001b[0m \u001b[0my\u001b[0m \u001b[1;33m=\u001b[0m \u001b[0mcheck_X_y\u001b[0m\u001b[1;33m(\u001b[0m\u001b[0mX\u001b[0m\u001b[1;33m,\u001b[0m \u001b[0my\u001b[0m\u001b[1;33m,\u001b[0m \u001b[1;33m**\u001b[0m\u001b[0mcheck_params\u001b[0m\u001b[1;33m)\u001b[0m\u001b[1;33m\u001b[0m\u001b[1;33m\u001b[0m\u001b[0m\n\u001b[0m\u001b[0;32m    582\u001b[0m             \u001b[0mout\u001b[0m \u001b[1;33m=\u001b[0m \u001b[0mX\u001b[0m\u001b[1;33m,\u001b[0m \u001b[0my\u001b[0m\u001b[1;33m\u001b[0m\u001b[1;33m\u001b[0m\u001b[0m\n\u001b[0;32m    583\u001b[0m \u001b[1;33m\u001b[0m\u001b[0m\n",
      "\u001b[1;32m~\\anaconda3\\lib\\site-packages\\sklearn\\utils\\validation.py\u001b[0m in \u001b[0;36mcheck_X_y\u001b[1;34m(X, y, accept_sparse, accept_large_sparse, dtype, order, copy, force_all_finite, ensure_2d, allow_nd, multi_output, ensure_min_samples, ensure_min_features, y_numeric, estimator)\u001b[0m\n\u001b[0;32m    962\u001b[0m         \u001b[1;32mraise\u001b[0m \u001b[0mValueError\u001b[0m\u001b[1;33m(\u001b[0m\u001b[1;34m\"y cannot be None\"\u001b[0m\u001b[1;33m)\u001b[0m\u001b[1;33m\u001b[0m\u001b[1;33m\u001b[0m\u001b[0m\n\u001b[0;32m    963\u001b[0m \u001b[1;33m\u001b[0m\u001b[0m\n\u001b[1;32m--> 964\u001b[1;33m     X = check_array(\n\u001b[0m\u001b[0;32m    965\u001b[0m         \u001b[0mX\u001b[0m\u001b[1;33m,\u001b[0m\u001b[1;33m\u001b[0m\u001b[1;33m\u001b[0m\u001b[0m\n\u001b[0;32m    966\u001b[0m         \u001b[0maccept_sparse\u001b[0m\u001b[1;33m=\u001b[0m\u001b[0maccept_sparse\u001b[0m\u001b[1;33m,\u001b[0m\u001b[1;33m\u001b[0m\u001b[1;33m\u001b[0m\u001b[0m\n",
      "\u001b[1;32m~\\anaconda3\\lib\\site-packages\\sklearn\\utils\\validation.py\u001b[0m in \u001b[0;36mcheck_array\u001b[1;34m(array, accept_sparse, accept_large_sparse, dtype, order, copy, force_all_finite, ensure_2d, allow_nd, ensure_min_samples, ensure_min_features, estimator)\u001b[0m\n\u001b[0;32m    798\u001b[0m \u001b[1;33m\u001b[0m\u001b[0m\n\u001b[0;32m    799\u001b[0m         \u001b[1;32mif\u001b[0m \u001b[0mforce_all_finite\u001b[0m\u001b[1;33m:\u001b[0m\u001b[1;33m\u001b[0m\u001b[1;33m\u001b[0m\u001b[0m\n\u001b[1;32m--> 800\u001b[1;33m             \u001b[0m_assert_all_finite\u001b[0m\u001b[1;33m(\u001b[0m\u001b[0marray\u001b[0m\u001b[1;33m,\u001b[0m \u001b[0mallow_nan\u001b[0m\u001b[1;33m=\u001b[0m\u001b[0mforce_all_finite\u001b[0m \u001b[1;33m==\u001b[0m \u001b[1;34m\"allow-nan\"\u001b[0m\u001b[1;33m)\u001b[0m\u001b[1;33m\u001b[0m\u001b[1;33m\u001b[0m\u001b[0m\n\u001b[0m\u001b[0;32m    801\u001b[0m \u001b[1;33m\u001b[0m\u001b[0m\n\u001b[0;32m    802\u001b[0m     \u001b[1;32mif\u001b[0m \u001b[0mensure_min_samples\u001b[0m \u001b[1;33m>\u001b[0m \u001b[1;36m0\u001b[0m\u001b[1;33m:\u001b[0m\u001b[1;33m\u001b[0m\u001b[1;33m\u001b[0m\u001b[0m\n",
      "\u001b[1;32m~\\anaconda3\\lib\\site-packages\\sklearn\\utils\\validation.py\u001b[0m in \u001b[0;36m_assert_all_finite\u001b[1;34m(X, allow_nan, msg_dtype)\u001b[0m\n\u001b[0;32m    112\u001b[0m         ):\n\u001b[0;32m    113\u001b[0m             \u001b[0mtype_err\u001b[0m \u001b[1;33m=\u001b[0m \u001b[1;34m\"infinity\"\u001b[0m \u001b[1;32mif\u001b[0m \u001b[0mallow_nan\u001b[0m \u001b[1;32melse\u001b[0m \u001b[1;34m\"NaN, infinity\"\u001b[0m\u001b[1;33m\u001b[0m\u001b[1;33m\u001b[0m\u001b[0m\n\u001b[1;32m--> 114\u001b[1;33m             raise ValueError(\n\u001b[0m\u001b[0;32m    115\u001b[0m                 msg_err.format(\n\u001b[0;32m    116\u001b[0m                     \u001b[0mtype_err\u001b[0m\u001b[1;33m,\u001b[0m \u001b[0mmsg_dtype\u001b[0m \u001b[1;32mif\u001b[0m \u001b[0mmsg_dtype\u001b[0m \u001b[1;32mis\u001b[0m \u001b[1;32mnot\u001b[0m \u001b[1;32mNone\u001b[0m \u001b[1;32melse\u001b[0m \u001b[0mX\u001b[0m\u001b[1;33m.\u001b[0m\u001b[0mdtype\u001b[0m\u001b[1;33m\u001b[0m\u001b[1;33m\u001b[0m\u001b[0m\n",
      "\u001b[1;31mValueError\u001b[0m: Input contains NaN, infinity or a value too large for dtype('float64')."
     ]
    }
   ],
   "source": [
    "# Initialize and train the model\n",
    "model = LinearRegression()\n",
    "model.fit(X_train, y_train)"
   ]
  },
  {
   "cell_type": "code",
   "execution_count": null,
   "id": "0f79e235",
   "metadata": {},
   "outputs": [],
   "source": [
    "# Make predictions\n",
    "y_pred = model.predict(X_test)"
   ]
  },
  {
   "cell_type": "code",
   "execution_count": null,
   "id": "d5a5abc9",
   "metadata": {},
   "outputs": [],
   "source": [
    "# Evaluate the model\n",
    "print(\"Mean Squared Error:\", mean_squared_error(y_test, y_pred))\n",
    "print(\"R² Score:\", r2_score(y_test, y_pred))"
   ]
  },
  {
   "cell_type": "code",
   "execution_count": null,
   "id": "6ca9b430",
   "metadata": {},
   "outputs": [],
   "source": [
    "# View coefficients\n",
    "print(\"Intercept:\", model.intercept_)\n",
    "print(\"Coefficients:\", model.coef_)"
   ]
  }
 ],
 "metadata": {
  "kernelspec": {
   "display_name": "Python 3 (ipykernel)",
   "language": "python",
   "name": "python3"
  },
  "language_info": {
   "codemirror_mode": {
    "name": "ipython",
    "version": 3
   },
   "file_extension": ".py",
   "mimetype": "text/x-python",
   "name": "python",
   "nbconvert_exporter": "python",
   "pygments_lexer": "ipython3",
   "version": "3.9.13"
  }
 },
 "nbformat": 4,
 "nbformat_minor": 5
}
