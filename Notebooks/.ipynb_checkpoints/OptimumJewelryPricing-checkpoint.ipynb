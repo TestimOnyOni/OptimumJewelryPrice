{
 "cells": [
  {
   "cell_type": "code",
   "execution_count": 1,
   "id": "bd9372fc-6bc4-4fd2-989c-840720224d5f",
   "metadata": {},
   "outputs": [
    {
     "name": "stdout",
     "output_type": "stream",
     "text": [
      "Requirement already satisfied: seaborn in c:\\users\\testimoni\\anaconda3\\lib\\site-packages (0.11.2)\n",
      "Requirement already satisfied: scipy>=1.0 in c:\\users\\testimoni\\anaconda3\\lib\\site-packages (from seaborn) (1.9.1)\n",
      "Requirement already satisfied: numpy>=1.15 in c:\\users\\testimoni\\anaconda3\\lib\\site-packages (from seaborn) (1.21.5)\n",
      "Requirement already satisfied: matplotlib>=2.2 in c:\\users\\testimoni\\anaconda3\\lib\\site-packages (from seaborn) (3.5.2)\n",
      "Requirement already satisfied: pandas>=0.23 in c:\\users\\testimoni\\anaconda3\\lib\\site-packages (from seaborn) (1.4.4)\n",
      "Requirement already satisfied: pillow>=6.2.0 in c:\\users\\testimoni\\anaconda3\\lib\\site-packages (from matplotlib>=2.2->seaborn) (9.2.0)\n",
      "Requirement already satisfied: kiwisolver>=1.0.1 in c:\\users\\testimoni\\anaconda3\\lib\\site-packages (from matplotlib>=2.2->seaborn) (1.4.2)\n",
      "Requirement already satisfied: fonttools>=4.22.0 in c:\\users\\testimoni\\anaconda3\\lib\\site-packages (from matplotlib>=2.2->seaborn) (4.25.0)\n",
      "Requirement already satisfied: cycler>=0.10 in c:\\users\\testimoni\\anaconda3\\lib\\site-packages (from matplotlib>=2.2->seaborn) (0.11.0)\n",
      "Requirement already satisfied: python-dateutil>=2.7 in c:\\users\\testimoni\\anaconda3\\lib\\site-packages (from matplotlib>=2.2->seaborn) (2.8.2)\n",
      "Requirement already satisfied: pyparsing>=2.2.1 in c:\\users\\testimoni\\anaconda3\\lib\\site-packages (from matplotlib>=2.2->seaborn) (3.0.9)\n",
      "Requirement already satisfied: packaging>=20.0 in c:\\users\\testimoni\\anaconda3\\lib\\site-packages (from matplotlib>=2.2->seaborn) (21.3)\n",
      "Requirement already satisfied: pytz>=2020.1 in c:\\users\\testimoni\\anaconda3\\lib\\site-packages (from pandas>=0.23->seaborn) (2022.1)\n",
      "Requirement already satisfied: six>=1.5 in c:\\users\\testimoni\\anaconda3\\lib\\site-packages (from python-dateutil>=2.7->matplotlib>=2.2->seaborn) (1.16.0)\n"
     ]
    }
   ],
   "source": [
    "!pip install seaborn --user"
   ]
  },
  {
   "cell_type": "code",
   "execution_count": 2,
   "id": "a496ca13-220b-4c79-af5f-ead7e730d3cf",
   "metadata": {},
   "outputs": [],
   "source": [
    "import pandas as pd\n",
    "import numpy as np\n",
    "import seaborn as sns\n",
    "from matplotlib import pyplot as plt\n",
    "import math"
   ]
  },
  {
   "cell_type": "code",
   "execution_count": 3,
   "id": "b9b9b42e-9c57-40ae-9ad6-319d8a5ccceb",
   "metadata": {},
   "outputs": [],
   "source": [
    "# Set visualization theme\n",
    "sns.set()"
   ]
  },
  {
   "cell_type": "markdown",
   "id": "08aa843e",
   "metadata": {},
   "source": [
    "# Load and tidy up the Data"
   ]
  },
  {
   "cell_type": "code",
   "execution_count": 4,
   "id": "5a83f14d-a501-4463-ab38-66c2f99a0160",
   "metadata": {},
   "outputs": [],
   "source": [
    "data_set = pd.read_csv(r\"C:\\Users\\TestimOni\\OneDrive - Ulster University\\Desktop\\OptimumJewelryPricing\\Data\\Jewelry_Dataset.csv\")\n",
    "# df = pd.read_csv(r\"C:\\Users\\TestimOni\\OneDrive - Ulster University\\Desktop\\OptimumJewelryPricing\\Data\\Jewelry_Dataset.csv\")"
   ]
  },
  {
   "cell_type": "code",
   "execution_count": 5,
   "id": "3443dca2-9918-47e0-8c01-24d07653f595",
   "metadata": {},
   "outputs": [
    {
     "data": {
      "text/html": [
       "<div>\n",
       "<style scoped>\n",
       "    .dataframe tbody tr th:only-of-type {\n",
       "        vertical-align: middle;\n",
       "    }\n",
       "\n",
       "    .dataframe tbody tr th {\n",
       "        vertical-align: top;\n",
       "    }\n",
       "\n",
       "    .dataframe thead th {\n",
       "        text-align: right;\n",
       "    }\n",
       "</style>\n",
       "<table border=\"1\" class=\"dataframe\">\n",
       "  <thead>\n",
       "    <tr style=\"text-align: right;\">\n",
       "      <th></th>\n",
       "      <th>2018-12-01 11:40:29 UTC</th>\n",
       "      <th>1924719191579951782</th>\n",
       "      <th>1842195256808833386</th>\n",
       "      <th>1</th>\n",
       "      <th>1806829201890738522</th>\n",
       "      <th>jewelry.earring</th>\n",
       "      <th>0</th>\n",
       "      <th>561.51</th>\n",
       "      <th>1515915625207851155</th>\n",
       "      <th>Unnamed: 9</th>\n",
       "      <th>red</th>\n",
       "      <th>gold</th>\n",
       "      <th>diamond</th>\n",
       "    </tr>\n",
       "  </thead>\n",
       "  <tbody>\n",
       "    <tr>\n",
       "      <th>0</th>\n",
       "      <td>2018-12-01 17:38:31 UTC</td>\n",
       "      <td>1924899396621697920</td>\n",
       "      <td>1806829193678291446</td>\n",
       "      <td>1</td>\n",
       "      <td>1.806829e+18</td>\n",
       "      <td>NaN</td>\n",
       "      <td>NaN</td>\n",
       "      <td>212.14</td>\n",
       "      <td>1.515916e+18</td>\n",
       "      <td>NaN</td>\n",
       "      <td>yellow</td>\n",
       "      <td>gold</td>\n",
       "      <td>NaN</td>\n",
       "    </tr>\n",
       "    <tr>\n",
       "      <th>1</th>\n",
       "      <td>2018-12-02 13:53:42 UTC</td>\n",
       "      <td>1925511016616034733</td>\n",
       "      <td>1842214461889315556</td>\n",
       "      <td>1</td>\n",
       "      <td>1.806829e+18</td>\n",
       "      <td>jewelry.pendant</td>\n",
       "      <td>1.0</td>\n",
       "      <td>54.66</td>\n",
       "      <td>1.515916e+18</td>\n",
       "      <td>f</td>\n",
       "      <td>white</td>\n",
       "      <td>gold</td>\n",
       "      <td>sapphire</td>\n",
       "    </tr>\n",
       "    <tr>\n",
       "      <th>2</th>\n",
       "      <td>2018-12-02 17:44:02 UTC</td>\n",
       "      <td>1925626951238681511</td>\n",
       "      <td>1835566849434059453</td>\n",
       "      <td>1</td>\n",
       "      <td>1.806829e+18</td>\n",
       "      <td>jewelry.pendant</td>\n",
       "      <td>0.0</td>\n",
       "      <td>88.90</td>\n",
       "      <td>1.515916e+18</td>\n",
       "      <td>f</td>\n",
       "      <td>red</td>\n",
       "      <td>gold</td>\n",
       "      <td>diamond</td>\n",
       "    </tr>\n",
       "    <tr>\n",
       "      <th>3</th>\n",
       "      <td>2018-12-02 21:30:19 UTC</td>\n",
       "      <td>1925740842841014667</td>\n",
       "      <td>1873936840742928865</td>\n",
       "      <td>1</td>\n",
       "      <td>1.806829e+18</td>\n",
       "      <td>jewelry.necklace</td>\n",
       "      <td>0.0</td>\n",
       "      <td>417.67</td>\n",
       "      <td>1.515916e+18</td>\n",
       "      <td>NaN</td>\n",
       "      <td>red</td>\n",
       "      <td>gold</td>\n",
       "      <td>amethyst</td>\n",
       "    </tr>\n",
       "    <tr>\n",
       "      <th>4</th>\n",
       "      <td>2018-12-02 22:09:34 UTC</td>\n",
       "      <td>1925760595336888995</td>\n",
       "      <td>1835566854827934449</td>\n",
       "      <td>1</td>\n",
       "      <td>1.806829e+18</td>\n",
       "      <td>jewelry.earring</td>\n",
       "      <td>1.0</td>\n",
       "      <td>102.27</td>\n",
       "      <td>1.515916e+18</td>\n",
       "      <td>NaN</td>\n",
       "      <td>red</td>\n",
       "      <td>gold</td>\n",
       "      <td>NaN</td>\n",
       "    </tr>\n",
       "  </tbody>\n",
       "</table>\n",
       "</div>"
      ],
      "text/plain": [
       "   2018-12-01 11:40:29 UTC  1924719191579951782  1842195256808833386  1  \\\n",
       "0  2018-12-01 17:38:31 UTC  1924899396621697920  1806829193678291446  1   \n",
       "1  2018-12-02 13:53:42 UTC  1925511016616034733  1842214461889315556  1   \n",
       "2  2018-12-02 17:44:02 UTC  1925626951238681511  1835566849434059453  1   \n",
       "3  2018-12-02 21:30:19 UTC  1925740842841014667  1873936840742928865  1   \n",
       "4  2018-12-02 22:09:34 UTC  1925760595336888995  1835566854827934449  1   \n",
       "\n",
       "   1806829201890738522   jewelry.earring    0  561.51  1515915625207851155  \\\n",
       "0         1.806829e+18               NaN  NaN  212.14         1.515916e+18   \n",
       "1         1.806829e+18   jewelry.pendant  1.0   54.66         1.515916e+18   \n",
       "2         1.806829e+18   jewelry.pendant  0.0   88.90         1.515916e+18   \n",
       "3         1.806829e+18  jewelry.necklace  0.0  417.67         1.515916e+18   \n",
       "4         1.806829e+18   jewelry.earring  1.0  102.27         1.515916e+18   \n",
       "\n",
       "  Unnamed: 9     red  gold   diamond  \n",
       "0        NaN  yellow  gold       NaN  \n",
       "1          f   white  gold  sapphire  \n",
       "2          f     red  gold   diamond  \n",
       "3        NaN     red  gold  amethyst  \n",
       "4        NaN     red  gold       NaN  "
      ]
     },
     "execution_count": 5,
     "metadata": {},
     "output_type": "execute_result"
    }
   ],
   "source": [
    "data_set.head()"
   ]
  },
  {
   "cell_type": "code",
   "execution_count": 6,
   "id": "c073c837-c629-49cb-9263-19e848a51102",
   "metadata": {},
   "outputs": [
    {
     "data": {
      "text/plain": [
       "(95910, 13)"
      ]
     },
     "execution_count": 6,
     "metadata": {},
     "output_type": "execute_result"
    }
   ],
   "source": [
    "data_set.shape"
   ]
  },
  {
   "cell_type": "code",
   "execution_count": 7,
   "id": "75982e32-d312-4d14-8d9e-de854c59ae37",
   "metadata": {},
   "outputs": [],
   "source": [
    "# Set the columns for the data (df) for better readability using the provided dictionary\n",
    "data_set.columns = [\n",
    "    \"Order_DateTime\",\n",
    "    \"Order_ID\",\n",
    "    \"Product_ID\",\n",
    "    \"SKU_Quantity\",\n",
    "    \"Category_ID\",\n",
    "    \"Category_Alias\",\n",
    "    \"Brand_ID\",\n",
    "    \"Price_in_USD\",\n",
    "    \"User_ID\",\n",
    "    \"Product_Gender\",\n",
    "    \"Main_Color\",\n",
    "    \"Main_Metal\",\n",
    "    \"Main_Gem\"]"
   ]
  },
  {
   "cell_type": "code",
   "execution_count": 8,
   "id": "eb87a18c-0a11-43bd-a0ca-812e7dc31ca9",
   "metadata": {},
   "outputs": [
    {
     "data": {
      "text/html": [
       "<div>\n",
       "<style scoped>\n",
       "    .dataframe tbody tr th:only-of-type {\n",
       "        vertical-align: middle;\n",
       "    }\n",
       "\n",
       "    .dataframe tbody tr th {\n",
       "        vertical-align: top;\n",
       "    }\n",
       "\n",
       "    .dataframe thead th {\n",
       "        text-align: right;\n",
       "    }\n",
       "</style>\n",
       "<table border=\"1\" class=\"dataframe\">\n",
       "  <thead>\n",
       "    <tr style=\"text-align: right;\">\n",
       "      <th></th>\n",
       "      <th>Order_DateTime</th>\n",
       "      <th>Order_ID</th>\n",
       "      <th>Product_ID</th>\n",
       "      <th>SKU_Quantity</th>\n",
       "      <th>Category_ID</th>\n",
       "      <th>Category_Alias</th>\n",
       "      <th>Brand_ID</th>\n",
       "      <th>Price_in_USD</th>\n",
       "      <th>User_ID</th>\n",
       "      <th>Product_Gender</th>\n",
       "      <th>Main_Color</th>\n",
       "      <th>Main_Metal</th>\n",
       "      <th>Main_Gem</th>\n",
       "    </tr>\n",
       "  </thead>\n",
       "  <tbody>\n",
       "    <tr>\n",
       "      <th>0</th>\n",
       "      <td>2018-12-01 17:38:31 UTC</td>\n",
       "      <td>1924899396621697920</td>\n",
       "      <td>1806829193678291446</td>\n",
       "      <td>1</td>\n",
       "      <td>1.806829e+18</td>\n",
       "      <td>NaN</td>\n",
       "      <td>NaN</td>\n",
       "      <td>212.14</td>\n",
       "      <td>1.515916e+18</td>\n",
       "      <td>NaN</td>\n",
       "      <td>yellow</td>\n",
       "      <td>gold</td>\n",
       "      <td>NaN</td>\n",
       "    </tr>\n",
       "    <tr>\n",
       "      <th>1</th>\n",
       "      <td>2018-12-02 13:53:42 UTC</td>\n",
       "      <td>1925511016616034733</td>\n",
       "      <td>1842214461889315556</td>\n",
       "      <td>1</td>\n",
       "      <td>1.806829e+18</td>\n",
       "      <td>jewelry.pendant</td>\n",
       "      <td>1.0</td>\n",
       "      <td>54.66</td>\n",
       "      <td>1.515916e+18</td>\n",
       "      <td>f</td>\n",
       "      <td>white</td>\n",
       "      <td>gold</td>\n",
       "      <td>sapphire</td>\n",
       "    </tr>\n",
       "    <tr>\n",
       "      <th>2</th>\n",
       "      <td>2018-12-02 17:44:02 UTC</td>\n",
       "      <td>1925626951238681511</td>\n",
       "      <td>1835566849434059453</td>\n",
       "      <td>1</td>\n",
       "      <td>1.806829e+18</td>\n",
       "      <td>jewelry.pendant</td>\n",
       "      <td>0.0</td>\n",
       "      <td>88.90</td>\n",
       "      <td>1.515916e+18</td>\n",
       "      <td>f</td>\n",
       "      <td>red</td>\n",
       "      <td>gold</td>\n",
       "      <td>diamond</td>\n",
       "    </tr>\n",
       "    <tr>\n",
       "      <th>3</th>\n",
       "      <td>2018-12-02 21:30:19 UTC</td>\n",
       "      <td>1925740842841014667</td>\n",
       "      <td>1873936840742928865</td>\n",
       "      <td>1</td>\n",
       "      <td>1.806829e+18</td>\n",
       "      <td>jewelry.necklace</td>\n",
       "      <td>0.0</td>\n",
       "      <td>417.67</td>\n",
       "      <td>1.515916e+18</td>\n",
       "      <td>NaN</td>\n",
       "      <td>red</td>\n",
       "      <td>gold</td>\n",
       "      <td>amethyst</td>\n",
       "    </tr>\n",
       "    <tr>\n",
       "      <th>4</th>\n",
       "      <td>2018-12-02 22:09:34 UTC</td>\n",
       "      <td>1925760595336888995</td>\n",
       "      <td>1835566854827934449</td>\n",
       "      <td>1</td>\n",
       "      <td>1.806829e+18</td>\n",
       "      <td>jewelry.earring</td>\n",
       "      <td>1.0</td>\n",
       "      <td>102.27</td>\n",
       "      <td>1.515916e+18</td>\n",
       "      <td>NaN</td>\n",
       "      <td>red</td>\n",
       "      <td>gold</td>\n",
       "      <td>NaN</td>\n",
       "    </tr>\n",
       "  </tbody>\n",
       "</table>\n",
       "</div>"
      ],
      "text/plain": [
       "            Order_DateTime             Order_ID           Product_ID  \\\n",
       "0  2018-12-01 17:38:31 UTC  1924899396621697920  1806829193678291446   \n",
       "1  2018-12-02 13:53:42 UTC  1925511016616034733  1842214461889315556   \n",
       "2  2018-12-02 17:44:02 UTC  1925626951238681511  1835566849434059453   \n",
       "3  2018-12-02 21:30:19 UTC  1925740842841014667  1873936840742928865   \n",
       "4  2018-12-02 22:09:34 UTC  1925760595336888995  1835566854827934449   \n",
       "\n",
       "   SKU_Quantity   Category_ID    Category_Alias  Brand_ID  Price_in_USD  \\\n",
       "0             1  1.806829e+18               NaN       NaN        212.14   \n",
       "1             1  1.806829e+18   jewelry.pendant       1.0         54.66   \n",
       "2             1  1.806829e+18   jewelry.pendant       0.0         88.90   \n",
       "3             1  1.806829e+18  jewelry.necklace       0.0        417.67   \n",
       "4             1  1.806829e+18   jewelry.earring       1.0        102.27   \n",
       "\n",
       "        User_ID Product_Gender Main_Color Main_Metal  Main_Gem  \n",
       "0  1.515916e+18            NaN     yellow       gold       NaN  \n",
       "1  1.515916e+18              f      white       gold  sapphire  \n",
       "2  1.515916e+18              f        red       gold   diamond  \n",
       "3  1.515916e+18            NaN        red       gold  amethyst  \n",
       "4  1.515916e+18            NaN        red       gold       NaN  "
      ]
     },
     "execution_count": 8,
     "metadata": {},
     "output_type": "execute_result"
    }
   ],
   "source": [
    "data_set.head()"
   ]
  },
  {
   "cell_type": "markdown",
   "id": "2b1ddd74",
   "metadata": {},
   "source": [
    "# Data Analysis and Trimming"
   ]
  },
  {
   "cell_type": "code",
   "execution_count": 9,
   "id": "fe18e3e1-1b2c-4990-a0e2-cc4cdff20235",
   "metadata": {},
   "outputs": [
    {
     "data": {
      "text/plain": [
       "Order_DateTime        0\n",
       "Order_ID              0\n",
       "Product_ID            0\n",
       "SKU_Quantity          0\n",
       "Category_ID        5352\n",
       "Category_Alias     9933\n",
       "Brand_ID           4785\n",
       "Price_in_USD       5352\n",
       "User_ID            5352\n",
       "Product_Gender    48167\n",
       "Main_Color         7660\n",
       "Main_Metal         5462\n",
       "Main_Gem          34058\n",
       "dtype: int64"
      ]
     },
     "execution_count": 9,
     "metadata": {},
     "output_type": "execute_result"
    }
   ],
   "source": [
    "# check for and count missing values\n",
    "data_set.isnull().sum()"
   ]
  },
  {
   "cell_type": "code",
   "execution_count": 10,
   "id": "a99afc6f-865d-49fa-a234-a334915e849f",
   "metadata": {},
   "outputs": [
    {
     "data": {
      "text/plain": [
       "Order_DateTime    74504\n",
       "Order_ID          74759\n",
       "Product_ID         9613\n",
       "SKU_Quantity          1\n",
       "Category_ID          25\n",
       "Category_Alias      218\n",
       "Brand_ID           2537\n",
       "Price_in_USD       3166\n",
       "User_ID           31079\n",
       "Product_Gender        2\n",
       "Main_Color            5\n",
       "Main_Metal            3\n",
       "Main_Gem             30\n",
       "dtype: int64"
      ]
     },
     "execution_count": 10,
     "metadata": {},
     "output_type": "execute_result"
    }
   ],
   "source": [
    "# Check FEATURE CARDINALITY\n",
    "data_set.nunique()"
   ]
  },
  {
   "cell_type": "code",
   "execution_count": 11,
   "id": "abf0e84d-44da-45a5-b044-b956ff2dab11",
   "metadata": {},
   "outputs": [
    {
     "data": {
      "text/html": [
       "<div>\n",
       "<style scoped>\n",
       "    .dataframe tbody tr th:only-of-type {\n",
       "        vertical-align: middle;\n",
       "    }\n",
       "\n",
       "    .dataframe tbody tr th {\n",
       "        vertical-align: top;\n",
       "    }\n",
       "\n",
       "    .dataframe thead th {\n",
       "        text-align: right;\n",
       "    }\n",
       "</style>\n",
       "<table border=\"1\" class=\"dataframe\">\n",
       "  <thead>\n",
       "    <tr style=\"text-align: right;\">\n",
       "      <th></th>\n",
       "      <th>Order_ID</th>\n",
       "      <th>Product_ID</th>\n",
       "      <th>SKU_Quantity</th>\n",
       "      <th>Category_ID</th>\n",
       "      <th>Brand_ID</th>\n",
       "      <th>Price_in_USD</th>\n",
       "      <th>User_ID</th>\n",
       "    </tr>\n",
       "  </thead>\n",
       "  <tbody>\n",
       "    <tr>\n",
       "      <th>count</th>\n",
       "      <td>9.591000e+04</td>\n",
       "      <td>9.591000e+04</td>\n",
       "      <td>95910.0</td>\n",
       "      <td>9.055800e+04</td>\n",
       "      <td>9.112500e+04</td>\n",
       "      <td>90558.000000</td>\n",
       "      <td>9.055800e+04</td>\n",
       "    </tr>\n",
       "    <tr>\n",
       "      <th>mean</th>\n",
       "      <td>2.485191e+18</td>\n",
       "      <td>1.815970e+18</td>\n",
       "      <td>1.0</td>\n",
       "      <td>1.805947e+18</td>\n",
       "      <td>8.891036e+16</td>\n",
       "      <td>362.213017</td>\n",
       "      <td>1.512644e+18</td>\n",
       "    </tr>\n",
       "    <tr>\n",
       "      <th>std</th>\n",
       "      <td>1.934750e+17</td>\n",
       "      <td>2.136814e+17</td>\n",
       "      <td>0.0</td>\n",
       "      <td>2.083954e+16</td>\n",
       "      <td>3.559651e+17</td>\n",
       "      <td>444.157665</td>\n",
       "      <td>2.374776e+16</td>\n",
       "    </tr>\n",
       "    <tr>\n",
       "      <th>min</th>\n",
       "      <td>1.924899e+18</td>\n",
       "      <td>1.313551e+18</td>\n",
       "      <td>1.0</td>\n",
       "      <td>1.313678e+18</td>\n",
       "      <td>0.000000e+00</td>\n",
       "      <td>0.990000</td>\n",
       "      <td>1.313554e+18</td>\n",
       "    </tr>\n",
       "    <tr>\n",
       "      <th>25%</th>\n",
       "      <td>2.379732e+18</td>\n",
       "      <td>1.515966e+18</td>\n",
       "      <td>1.0</td>\n",
       "      <td>1.806829e+18</td>\n",
       "      <td>0.000000e+00</td>\n",
       "      <td>145.620000</td>\n",
       "      <td>1.515916e+18</td>\n",
       "    </tr>\n",
       "    <tr>\n",
       "      <th>50%</th>\n",
       "      <td>2.524282e+18</td>\n",
       "      <td>1.956664e+18</td>\n",
       "      <td>1.0</td>\n",
       "      <td>1.806829e+18</td>\n",
       "      <td>1.000000e+00</td>\n",
       "      <td>258.770000</td>\n",
       "      <td>1.515916e+18</td>\n",
       "    </tr>\n",
       "    <tr>\n",
       "      <th>75%</th>\n",
       "      <td>2.644347e+18</td>\n",
       "      <td>1.956664e+18</td>\n",
       "      <td>1.0</td>\n",
       "      <td>1.806829e+18</td>\n",
       "      <td>1.000000e+00</td>\n",
       "      <td>431.370000</td>\n",
       "      <td>1.515916e+18</td>\n",
       "    </tr>\n",
       "    <tr>\n",
       "      <th>max</th>\n",
       "      <td>2.719022e+18</td>\n",
       "      <td>2.541962e+18</td>\n",
       "      <td>1.0</td>\n",
       "      <td>1.806829e+18</td>\n",
       "      <td>1.550613e+18</td>\n",
       "      <td>34448.600000</td>\n",
       "      <td>1.554297e+18</td>\n",
       "    </tr>\n",
       "  </tbody>\n",
       "</table>\n",
       "</div>"
      ],
      "text/plain": [
       "           Order_ID    Product_ID  SKU_Quantity   Category_ID      Brand_ID  \\\n",
       "count  9.591000e+04  9.591000e+04       95910.0  9.055800e+04  9.112500e+04   \n",
       "mean   2.485191e+18  1.815970e+18           1.0  1.805947e+18  8.891036e+16   \n",
       "std    1.934750e+17  2.136814e+17           0.0  2.083954e+16  3.559651e+17   \n",
       "min    1.924899e+18  1.313551e+18           1.0  1.313678e+18  0.000000e+00   \n",
       "25%    2.379732e+18  1.515966e+18           1.0  1.806829e+18  0.000000e+00   \n",
       "50%    2.524282e+18  1.956664e+18           1.0  1.806829e+18  1.000000e+00   \n",
       "75%    2.644347e+18  1.956664e+18           1.0  1.806829e+18  1.000000e+00   \n",
       "max    2.719022e+18  2.541962e+18           1.0  1.806829e+18  1.550613e+18   \n",
       "\n",
       "       Price_in_USD       User_ID  \n",
       "count  90558.000000  9.055800e+04  \n",
       "mean     362.213017  1.512644e+18  \n",
       "std      444.157665  2.374776e+16  \n",
       "min        0.990000  1.313554e+18  \n",
       "25%      145.620000  1.515916e+18  \n",
       "50%      258.770000  1.515916e+18  \n",
       "75%      431.370000  1.515916e+18  \n",
       "max    34448.600000  1.554297e+18  "
      ]
     },
     "execution_count": 11,
     "metadata": {},
     "output_type": "execute_result"
    }
   ],
   "source": [
    "# Statistical summary of the data\n",
    "data_set.describe()"
   ]
  },
  {
   "cell_type": "code",
   "execution_count": 12,
   "id": "596c4a60-0594-472a-a885-5238a5b57db3",
   "metadata": {},
   "outputs": [
    {
     "name": "stdout",
     "output_type": "stream",
     "text": [
      "<class 'pandas.core.frame.DataFrame'>\n",
      "RangeIndex: 95910 entries, 0 to 95909\n",
      "Data columns (total 13 columns):\n",
      " #   Column          Non-Null Count  Dtype  \n",
      "---  ------          --------------  -----  \n",
      " 0   Order_DateTime  95910 non-null  object \n",
      " 1   Order_ID        95910 non-null  int64  \n",
      " 2   Product_ID      95910 non-null  int64  \n",
      " 3   SKU_Quantity    95910 non-null  int64  \n",
      " 4   Category_ID     90558 non-null  float64\n",
      " 5   Category_Alias  85977 non-null  object \n",
      " 6   Brand_ID        91125 non-null  float64\n",
      " 7   Price_in_USD    90558 non-null  float64\n",
      " 8   User_ID         90558 non-null  float64\n",
      " 9   Product_Gender  47743 non-null  object \n",
      " 10  Main_Color      88250 non-null  object \n",
      " 11  Main_Metal      90448 non-null  object \n",
      " 12  Main_Gem        61852 non-null  object \n",
      "dtypes: float64(4), int64(3), object(6)\n",
      "memory usage: 9.5+ MB\n"
     ]
    }
   ],
   "source": [
    "# also\n",
    "data_set.info()"
   ]
  },
  {
   "cell_type": "code",
   "execution_count": 13,
   "id": "ca08e14e",
   "metadata": {},
   "outputs": [
    {
     "data": {
      "text/plain": [
       "2589"
      ]
     },
     "execution_count": 13,
     "metadata": {},
     "output_type": "execute_result"
    }
   ],
   "source": [
    "# Duplicate entries\n",
    "data_set.duplicated().sum()"
   ]
  },
  {
   "cell_type": "code",
   "execution_count": 14,
   "id": "758b0394",
   "metadata": {},
   "outputs": [
    {
     "data": {
      "text/plain": [
       "(95910, 13)"
      ]
     },
     "execution_count": 14,
     "metadata": {},
     "output_type": "execute_result"
    }
   ],
   "source": [
    "data_set.shape"
   ]
  },
  {
   "cell_type": "code",
   "execution_count": 15,
   "id": "8776b1e1",
   "metadata": {},
   "outputs": [],
   "source": [
    "# DROP DUPLICATES\n",
    "data_set = data_set.drop_duplicates()"
   ]
  },
  {
   "cell_type": "code",
   "execution_count": 16,
   "id": "e630251e",
   "metadata": {},
   "outputs": [
    {
     "data": {
      "text/plain": [
       "(93321, 13)"
      ]
     },
     "execution_count": 16,
     "metadata": {},
     "output_type": "execute_result"
    }
   ],
   "source": [
    "# Confirm duplicate row dropping\n",
    "data_set.shape"
   ]
  },
  {
   "cell_type": "code",
   "execution_count": 17,
   "id": "861fab5c-21bb-4f7c-98ac-643429ee95ce",
   "metadata": {},
   "outputs": [
    {
     "data": {
      "text/plain": [
       "['SKU_Quantity']"
      ]
     },
     "execution_count": 17,
     "metadata": {},
     "output_type": "execute_result"
    }
   ],
   "source": [
    "# Invarian features: Features with cadinality of 1\n",
    "data_set.columns[data_set.nunique() <= 1].tolist()"
   ]
  },
  {
   "cell_type": "code",
   "execution_count": 18,
   "id": "d9fbfdd7",
   "metadata": {},
   "outputs": [
    {
     "data": {
      "text/plain": [
       "18.919793378274285"
      ]
     },
     "execution_count": 18,
     "metadata": {},
     "output_type": "execute_result"
    }
   ],
   "source": [
    "# Check for label (target feature) distribution\n",
    "label_distribution = data_set[\"Price_in_USD\"].skew()\n",
    "label_distribution"
   ]
  },
  {
   "cell_type": "code",
   "execution_count": 19,
   "id": "95600d31",
   "metadata": {},
   "outputs": [
    {
     "data": {
      "image/png": "[encoded data removed]",
      "text/plain": [
       "<Figure size 2500x500 with 1 Axes>"
      ]
     },
     "metadata": {},
     "output_type": "display_data"
    }
   ],
   "source": [
    "# The price (the label feature) in the data has a high skew.\n",
    "# Let's visualize it\n",
    "plt.figure(figsize = (25, 5))\n",
    "sns.kdeplot(data = data_set, x = \"Price_in_USD\") # Kernel Density Estimate (KDE) Plot\n",
    "plt.xlabel(\"Price in US Dollars\")\n",
    "plt.ylabel(\"Price Frequency\")\n",
    "plt.tight_layout()\n",
    "plt.show(); plt.close()"
   ]
  },
  {
   "cell_type": "code",
   "execution_count": 20,
   "id": "c120bf6d",
   "metadata": {},
   "outputs": [
    {
     "data": {
      "text/plain": [
       "1044.1569649991407"
      ]
     },
     "execution_count": 20,
     "metadata": {},
     "output_type": "execute_result"
    }
   ],
   "source": [
    "# Price kurtosis\n",
    "data_set[\"Price_in_USD\"].kurtosis()"
   ]
  },
  {
   "cell_type": "code",
   "execution_count": 21,
   "id": "ad004891",
   "metadata": {},
   "outputs": [
    {
     "data": {
      "text/plain": [
       "<AxesSubplot:xlabel='Price_in_USD', ylabel='Density'>"
      ]
     },
     "execution_count": 21,
     "metadata": {},
     "output_type": "execute_result"
    },
    {
     "data": {
      "image/png": "[encoded data removed]",
      "text/plain": [
       "<Figure size 640x480 with 1 Axes>"
      ]
     },
     "metadata": {},
     "output_type": "display_data"
    }
   ],
   "source": [
    "# Price Distribution\n",
    "sns.kdeplot(data_set['Price_in_USD'], fill=True)"
   ]
  },
  {
   "cell_type": "code",
   "execution_count": 22,
   "id": "d883bb44",
   "metadata": {},
   "outputs": [
    {
     "data": {
      "text/plain": [
       "count    88089.000000\n",
       "mean       363.583797\n",
       "std        448.344088\n",
       "min          0.990000\n",
       "25%        143.700000\n",
       "50%        259.970000\n",
       "75%        431.370000\n",
       "max      34448.600000\n",
       "Name: Price_in_USD, dtype: float64"
      ]
     },
     "execution_count": 22,
     "metadata": {},
     "output_type": "execute_result"
    }
   ],
   "source": [
    "data_set['Price_in_USD'].describe()"
   ]
  },
  {
   "cell_type": "code",
   "execution_count": 23,
   "id": "d15c872d",
   "metadata": {},
   "outputs": [
    {
     "data": {
      "text/plain": [
       "f    46687\n",
       "m      359\n",
       "Name: Product_Gender, dtype: int64"
      ]
     },
     "execution_count": 23,
     "metadata": {},
     "output_type": "execute_result"
    }
   ],
   "source": [
    "# Target gender analysis\n",
    "data_set[\"Product_Gender\"].value_counts()"
   ]
  },
  {
   "cell_type": "code",
   "execution_count": 24,
   "id": "7bbad5bf",
   "metadata": {},
   "outputs": [
    {
     "data": {
      "text/plain": [
       "f    99.236917\n",
       "m     0.763083\n",
       "Name: Product_Gender, dtype: float64"
      ]
     },
     "execution_count": 24,
     "metadata": {},
     "output_type": "execute_result"
    }
   ],
   "source": [
    "# In percentage\n",
    "data_set[\"Product_Gender\"].value_counts(normalize = True) * 100"
   ]
  },
  {
   "cell_type": "code",
   "execution_count": 25,
   "id": "6fe5c242",
   "metadata": {},
   "outputs": [
    {
     "data": {
      "image/png": "[encoded data removed]",
      "text/plain": [
       "<Figure size 800x500 with 1 Axes>"
      ]
     },
     "metadata": {},
     "output_type": "display_data"
    }
   ],
   "source": [
    "# Visualize gender distribution. Xtreme one-sided gender distribution\n",
    "plt.figure(figsize = (8, 5))\n",
    "sns.countplot(data = data_set, x = \"Product_Gender\")\n",
    "plt.xlabel(\"Gender Typer\")\n",
    "plt.ylabel(\"Quantity\")\n",
    "plt.show(); plt.close()"
   ]
  },
  {
   "cell_type": "code",
   "execution_count": 26,
   "id": "7855a830",
   "metadata": {},
   "outputs": [
    {
     "data": {
      "text/plain": [
       "25"
      ]
     },
     "execution_count": 26,
     "metadata": {},
     "output_type": "execute_result"
    }
   ],
   "source": [
    "# Jewelry Category analysis: We have 2 features pointing to categories: ID and ALIAS\n",
    "data_set[\"Category_ID\"].nunique()"
   ]
  },
  {
   "cell_type": "code",
   "execution_count": 27,
   "id": "59d9a98f",
   "metadata": {},
   "outputs": [
    {
     "data": {
      "text/plain": [
       "array([1.80682920e+18, 1.80682920e+18, 1.80682920e+18, 1.80682920e+18,\n",
       "       1.80682920e+18, 1.80682920e+18, 1.80682920e+18, 1.80682920e+18,\n",
       "       1.80682920e+18,            nan, 1.80682920e+18, 1.31367763e+18,\n",
       "       1.31367763e+18, 1.31367763e+18, 1.80682920e+18, 1.80682920e+18,\n",
       "       1.80682920e+18, 1.31367763e+18, 1.31367763e+18, 1.31367763e+18,\n",
       "       1.31367763e+18, 1.31367763e+18, 1.31367763e+18, 1.31367763e+18,\n",
       "       1.31367763e+18, 1.31367763e+18])"
      ]
     },
     "execution_count": 27,
     "metadata": {},
     "output_type": "execute_result"
    }
   ],
   "source": [
    "data_set[\"Category_ID\"].unique()"
   ]
  },
  {
   "cell_type": "code",
   "execution_count": 28,
   "id": "af512ea0",
   "metadata": {},
   "outputs": [
    {
     "data": {
      "text/plain": [
       "218"
      ]
     },
     "execution_count": 28,
     "metadata": {},
     "output_type": "execute_result"
    }
   ],
   "source": [
    "data_set[\"Category_Alias\"].nunique()"
   ]
  },
  {
   "cell_type": "code",
   "execution_count": 29,
   "id": "4ffa4c7f",
   "metadata": {},
   "outputs": [
    {
     "data": {
      "text/plain": [
       "array([nan, 'jewelry.pendant', 'jewelry.necklace', 'jewelry.earring',\n",
       "       'jewelry.ring', 'jewelry.brooch', 'jewelry.bracelet',\n",
       "       'electronics.clocks', 'jewelry.souvenir', '230.12', '202.36',\n",
       "       '1098.03', '321.78', '1128.62', '81.27', '34.25', '582.16',\n",
       "       '227.37', '234.22', '150.55', '131.82', '2123.15', '109.45',\n",
       "       '49.22', '472.47', '205.38', '2746.44', '51.08', '231.12', '76.97',\n",
       "       '3054.73', '184.90', '380.10', '357.49', '15.47', '135.33',\n",
       "       '719.75', '93.01', '177.95', 'jewelry.stud', '102.10', '595.75',\n",
       "       '469.56', '427.07', '53.62', '77.53', '1469.18', '355.27',\n",
       "       '184.89', '154.66', '300.58', '83.73', '271.19', '3294.21',\n",
       "       '278.04', '3626.26', '126.03', '283.52', '114.38', '89.04', '8.22',\n",
       "       '124.88', '89.73', '171.23', '136.93', '19.04', '158.77', '187.10',\n",
       "       '151.92', '1845.89', '87.23', '248.58', '596.48', '208.88',\n",
       "       '193.11', '169.84', '1447.68', '45.07', '136.85', '282.05',\n",
       "       '61.51', '210.21', '137.12', '147.81', '419.45', '825.27',\n",
       "       '300.16', '541.78', '308.74', '766.85', '410.82', '101.23', '2.88',\n",
       "       '1356.16', '13.42', '35.21', '134.79', '626.58', '13.70', '108.53',\n",
       "       '119.01', '7.40', '4.79', '153.97', '482.47', '427.36', '289.18',\n",
       "       '25.48', '1858.49', '21.70', '11.77', '198.89', '17.51', '574.66',\n",
       "       '1319.93', '393.05', '358.22', '2282.19', '114.93', '371.23',\n",
       "       '63.56', '88.77', '133.70', '117.81', '166.03', '130.41', '195.75',\n",
       "       '104.79', '228.59', '1686.93', '65.89', '242.19', '252.47',\n",
       "       '210.41', '363.42', '149.04', '157.95', '176.30', '160.96',\n",
       "       '316.30', '258.77', '268.36', '838.90', '250.96', '832.01',\n",
       "       '312.33', '318.71', '323.60', '205.34', '608.22', '343.84',\n",
       "       '598.22', '508.08', '245.67', '338.36', '75.21', '573.81',\n",
       "       '691.51', '476.68', '247.68', '286.71', '863.67', '236.58',\n",
       "       '644.66', '40.82', '1376.99', '1.23', '621.23', '3454.79', '65.62',\n",
       "       '59.73', '571.30', '70.96', '271.26', '958.84', '527.26', '271.16',\n",
       "       '284.66', '261.64', '493.01', '35.48', '446.16', '526.41',\n",
       "       '2517.08', '331.51', '312.88', '148.63', '451.21', '369.82',\n",
       "       '537.40', '231.51', '316.34', '451.10', '283.49', '787.67',\n",
       "       '131.92', '495.48', '5.48', '186.03', '484.49', '331.23', '133.85',\n",
       "       '323.70', '2635.07', '297.22', '0.00', '259.58', '108.33',\n",
       "       '4876.49', '308.08', '190.27', '916.44', '132.53', '1829.37',\n",
       "       '2208.90', '75.76', '278.01', '662.30', '253.77'], dtype=object)"
      ]
     },
     "execution_count": 29,
     "metadata": {},
     "output_type": "execute_result"
    }
   ],
   "source": [
    "# From the above, we need to look deeper into the data.\n",
    "# It doesn't look like the 'Category ID' (25) and 'Category ALIAS' (218) are pointing to the same data\n",
    "data_set[\"Category_Alias\"].unique()"
   ]
  },
  {
   "cell_type": "code",
   "execution_count": 30,
   "id": "647bfebf",
   "metadata": {},
   "outputs": [
    {
     "name": "stdout",
     "output_type": "stream",
     "text": [
      "['jewelry.pendant', 'jewelry.necklace', 'jewelry.earring', 'jewelry.ring', 'jewelry.brooch', 'jewelry.bracelet', 'jewelry.souvenir', 'jewelry.stud'] \n",
      "\n",
      " 8 unique categories.\n"
     ]
    }
   ],
   "source": [
    "# Lets extract the actual categories by eliminating the corrupted ones\n",
    "categories = data_set[\"Category_Alias\"].unique().tolist()\n",
    "categories = [c for c in categories if isinstance(c, str) and \"jewelry\" in c]\n",
    "print(categories, '\\n\\n', len(categories), 'unique categories.')"
   ]
  },
  {
   "cell_type": "code",
   "execution_count": 31,
   "id": "a50f9a9d",
   "metadata": {},
   "outputs": [
    {
     "data": {
      "text/plain": [
       "Order_DateTime     0.000000\n",
       "Order_ID           0.000000\n",
       "Product_ID         0.000000\n",
       "SKU_Quantity       0.000000\n",
       "Category_ID        5.606455\n",
       "Category_Alias    10.541036\n",
       "Brand_ID           5.009591\n",
       "Price_in_USD       5.606455\n",
       "User_ID            5.606455\n",
       "Product_Gender    49.586910\n",
       "Main_Color         7.797816\n",
       "Main_Metal         5.721113\n",
       "Main_Gem          34.756379\n",
       "dtype: float64"
      ]
     },
     "execution_count": 31,
     "metadata": {},
     "output_type": "execute_result"
    }
   ],
   "source": [
    "# Percentage of missing values in fields of the data set\n",
    "data_set.isnull().sum() * 100 / len(data_set)"
   ]
  },
  {
   "cell_type": "code",
   "execution_count": 32,
   "id": "04cdcff6",
   "metadata": {},
   "outputs": [
    {
     "data": {
      "text/plain": [
       "(93321, 13)"
      ]
     },
     "execution_count": 32,
     "metadata": {},
     "output_type": "execute_result"
    }
   ],
   "source": [
    "data_set.shape"
   ]
  },
  {
   "cell_type": "code",
   "execution_count": 33,
   "id": "63a58c65",
   "metadata": {},
   "outputs": [
    {
     "data": {
      "text/plain": [
       "(78087, 13)"
      ]
     },
     "execution_count": 33,
     "metadata": {},
     "output_type": "execute_result"
    }
   ],
   "source": [
    "# Remove the corrupted categories and compare\n",
    "data_set = data_set.loc[data_set[\"Category_Alias\"].isin(categories)]\n",
    "data_set.shape"
   ]
  },
  {
   "cell_type": "code",
   "execution_count": 34,
   "id": "99367d1a",
   "metadata": {},
   "outputs": [
    {
     "data": {
      "text/plain": [
       "16"
      ]
     },
     "execution_count": 34,
     "metadata": {},
     "output_type": "execute_result"
    }
   ],
   "source": [
    "# CATEGORY_ID Analysis\n",
    "data_set[\"Category_ID\"].nunique()"
   ]
  },
  {
   "cell_type": "code",
   "execution_count": 35,
   "id": "c19c9297",
   "metadata": {},
   "outputs": [
    {
     "data": {
      "text/plain": [
       "array([1.80682920e+18, 1.80682920e+18, 1.80682920e+18, 1.80682920e+18,\n",
       "       1.80682920e+18, 1.80682920e+18, 1.80682920e+18, 1.31367763e+18,\n",
       "       1.31367763e+18, 1.80682920e+18, 1.31367763e+18, 1.31367763e+18,\n",
       "       1.31367763e+18, 1.31367763e+18, 1.31367763e+18, 1.31367763e+18])"
      ]
     },
     "execution_count": 35,
     "metadata": {},
     "output_type": "execute_result"
    }
   ],
   "source": [
    "data_set[\"Category_ID\"].unique()"
   ]
  },
  {
   "cell_type": "code",
   "execution_count": 36,
   "id": "7eaa1b6c",
   "metadata": {},
   "outputs": [],
   "source": [
    "# After triming, unique category alias and unique category ID are still not the same.\n",
    "# The data integrity needs to be verified. A better, cleaner data set may be the way out."
   ]
  },
  {
   "cell_type": "code",
   "execution_count": 37,
   "id": "f2110f1e",
   "metadata": {},
   "outputs": [
    {
     "data": {
      "text/plain": [
       "Order_DateTime     0.000000\n",
       "Order_ID           0.000000\n",
       "Product_ID         0.000000\n",
       "SKU_Quantity       0.000000\n",
       "Category_ID        0.000000\n",
       "Category_Alias     0.000000\n",
       "Brand_ID           4.313138\n",
       "Price_in_USD       0.000000\n",
       "User_ID            0.000000\n",
       "Product_Gender    44.018851\n",
       "Main_Color         2.401168\n",
       "Main_Metal         0.110134\n",
       "Main_Gem          23.158784\n",
       "dtype: float64"
      ]
     },
     "execution_count": 37,
     "metadata": {},
     "output_type": "execute_result"
    }
   ],
   "source": [
    "# Percentage of missing values in fields of the trimed data set\n",
    "data_set.isnull().sum() * 100 / len(data_set)"
   ]
  },
  {
   "cell_type": "code",
   "execution_count": 38,
   "id": "7c408592",
   "metadata": {},
   "outputs": [],
   "source": [
    "# The missing values reduced. It may mean that majority of the missing values are due to the Category data corruption"
   ]
  },
  {
   "cell_type": "code",
   "execution_count": 39,
   "id": "73a0ce64",
   "metadata": {},
   "outputs": [
    {
     "data": {
      "image/png": "[encoded data removed]",
      "text/plain": [
       "<Figure size 600x400 with 1 Axes>"
      ]
     },
     "metadata": {},
     "output_type": "display_data"
    }
   ],
   "source": [
    "# Jewelry category distribution visualization\n",
    "subdata = data_set[\"Category_Alias\"].value_counts()\n",
    "jewelry_categories, counts = subdata.index.tolist(), subdata.values.tolist()\n",
    "plt.figure(figsize = (6, 4))\n",
    "plt.pie(x = counts, labels = jewelry_categories)\n",
    "plt.show(); plt.close()"
   ]
  },
  {
   "cell_type": "code",
   "execution_count": 40,
   "id": "92da8e34",
   "metadata": {},
   "outputs": [
    {
     "data": {
      "image/png": "[encoded data removed]",
      "text/plain": [
       "<Figure size 600x400 with 1 Axes>"
      ]
     },
     "metadata": {},
     "output_type": "display_data"
    }
   ],
   "source": [
    "# Brand_ID\n",
    "subdata = data_set[\"Category_ID\"].value_counts()\n",
    "jewelry_catIDs, counts = subdata.index.tolist(), subdata.values.tolist()\n",
    "plt.figure(figsize = (6, 4))\n",
    "plt.pie(x = counts, labels = jewelry_catIDs)\n",
    "plt.show(); plt.close()"
   ]
  },
  {
   "cell_type": "code",
   "execution_count": 41,
   "id": "0b0573b5",
   "metadata": {},
   "outputs": [
    {
     "data": {
      "text/plain": [
       "jewelry.earring     29047\n",
       "jewelry.ring        26025\n",
       "jewelry.pendant     13083\n",
       "jewelry.bracelet     6129\n",
       "jewelry.necklace     2335\n",
       "jewelry.brooch       1286\n",
       "jewelry.souvenir      170\n",
       "jewelry.stud           12\n",
       "Name: Category_Alias, dtype: int64"
      ]
     },
     "execution_count": 41,
     "metadata": {},
     "output_type": "execute_result"
    }
   ],
   "source": [
    "data_set[\"Category_Alias\"].value_counts()"
   ]
  },
  {
   "cell_type": "code",
   "execution_count": 42,
   "id": "74cbe1bf",
   "metadata": {},
   "outputs": [
    {
     "data": {
      "text/plain": [
       "1.806829e+18    28997\n",
       "1.806829e+18    26011\n",
       "1.806829e+18    13049\n",
       "1.806829e+18     6126\n",
       "1.806829e+18     2330\n",
       "1.806829e+18     1286\n",
       "1.806829e+18      170\n",
       "1.313678e+18       40\n",
       "1.313678e+18       25\n",
       "1.313678e+18       14\n",
       "1.806829e+18       12\n",
       "1.313678e+18        9\n",
       "1.313678e+18        9\n",
       "1.313678e+18        5\n",
       "1.313678e+18        3\n",
       "1.313678e+18        1\n",
       "Name: Category_ID, dtype: int64"
      ]
     },
     "execution_count": 42,
     "metadata": {},
     "output_type": "execute_result"
    }
   ],
   "source": [
    "data_set[\"Category_ID\"].value_counts()"
   ]
  },
  {
   "cell_type": "code",
   "execution_count": 43,
   "id": "5afcc155",
   "metadata": {},
   "outputs": [
    {
     "data": {
      "image/png": "[encoded data removed]",
      "text/plain": [
       "<Figure size 1200x400 with 1 Axes>"
      ]
     },
     "metadata": {},
     "output_type": "display_data"
    },
    {
     "data": {
      "text/plain": [
       "(None, <function matplotlib.pyplot.close(fig=None)>)"
      ]
     },
     "execution_count": 43,
     "metadata": {},
     "output_type": "execute_result"
    }
   ],
   "source": [
    "# Category count plot\n",
    "plt.figure(figsize = (12, 4))\n",
    "sns.countplot(data = data_set, x = \"Category_Alias\")\n",
    "plt.xlabel(\"Jewelry Categories\")\n",
    "plt.ylabel(\"Categories Frequency\")\n",
    "plt.show(), plt.close"
   ]
  },
  {
   "cell_type": "code",
   "execution_count": 44,
   "id": "23f380e5",
   "metadata": {
    "scrolled": true
   },
   "outputs": [
    {
     "data": {
      "image/png": "[encoded data removed]",
      "text/plain": [
       "<Figure size 1200x400 with 1 Axes>"
      ]
     },
     "metadata": {},
     "output_type": "display_data"
    }
   ],
   "source": [
    "# Category representation with respect to gender\n",
    "plt.figure(figsize = (12, 4))\n",
    "sns.countplot(data = data_set, x = \"Category_Alias\", hue = \"Product_Gender\")\n",
    "plt.xlabel(\"Jewelry Categories by Gender\")\n",
    "plt.ylabel(\"Frequency\")\n",
    "plt.show(); plt.close()"
   ]
  },
  {
   "cell_type": "code",
   "execution_count": 45,
   "id": "de71e9c9",
   "metadata": {},
   "outputs": [],
   "source": [
    "# Checking PRICE variation in unique PRODUCT_ID\n",
    "for value in data_set[\"Product_ID\"].unique():\n",
    "    df = data_set[data_set[\"Product_ID\"] == value]\n",
    "    unique_prices = df[\"Price_in_USD\"].nunique()\n",
    "    if unique_prices > 1:\n",
    "        print(\"For Product_ID \", value, \", we have \", unique_prices, \" unique prices.\")"
   ]
  },
  {
   "cell_type": "markdown",
   "id": "221b9d7c",
   "metadata": {},
   "source": [
    "A UNIQUE PRODUCT_ID HAS A UNIQUE PRICE, drop Product_ID - inner invariant"
   ]
  },
  {
   "cell_type": "code",
   "execution_count": 46,
   "id": "2e137d89",
   "metadata": {},
   "outputs": [
    {
     "name": "stdout",
     "output_type": "stream",
     "text": [
      "For Brand_ID  1.0 , we have  1673  unique prices.\n",
      "For Brand_ID  0.0 , we have  665  unique prices.\n",
      "For Brand_ID  2.0 , we have  447  unique prices.\n",
      "For Brand_ID  4.0 , we have  18  unique prices.\n",
      "For Brand_ID  5.0 , we have  4  unique prices.\n",
      "For Brand_ID  3.0 , we have  31  unique prices.\n"
     ]
    }
   ],
   "source": [
    "# Checking PRICE variation in unique BRAND_ID\n",
    "for value in data_set[\"Brand_ID\"].unique():\n",
    "    df = data_set[data_set[\"Brand_ID\"] == value]\n",
    "    unique_prices = df[\"Price_in_USD\"].nunique()\n",
    "    if unique_prices > 1:\n",
    "        print(\"For Brand_ID \", value, \", we have \", unique_prices, \" unique prices.\")"
   ]
  },
  {
   "cell_type": "code",
   "execution_count": 47,
   "id": "02fa3d54",
   "metadata": {},
   "outputs": [
    {
     "name": "stdout",
     "output_type": "stream",
     "text": [
      "For Category_ID  1.8068292019159043e+18 , we have  31  unique prices.\n",
      "For Category_ID  1.8068292019242929e+18 , we have  31  unique prices.\n",
      "For Category_ID  1.8068292018907384e+18 , we have  31  unique prices.\n",
      "For Category_ID  1.8068292018823498e+18 , we have  31  unique prices.\n",
      "For Category_ID  1.80682920194107e+18 , we have  31  unique prices.\n",
      "For Category_ID  1.8068292018655726e+18 , we have  31  unique prices.\n",
      "For Category_ID  1.806829202092065e+18 , we have  31  unique prices.\n",
      "For Category_ID  1.313677631878595e+18 , we have  31  unique prices.\n",
      "For Category_ID  1.3136776318953723e+18 , we have  31  unique prices.\n",
      "For Category_ID  1.8068292019746245e+18 , we have  31  unique prices.\n",
      "For Category_ID  1.313677631836652e+18 , we have  31  unique prices.\n",
      "For Category_ID  1.313677632264471e+18 , we have  31  unique prices.\n",
      "For Category_ID  1.3136776319121495e+18 , we have  31  unique prices.\n",
      "For Category_ID  1.3136776320799217e+18 , we have  31  unique prices.\n",
      "For Category_ID  1.313677632096699e+18 , we have  31  unique prices.\n",
      "For Category_ID  1.3136776318618179e+18 , we have  31  unique prices.\n"
     ]
    }
   ],
   "source": [
    "# Checking PRICE variation in unique Category_ID\n",
    "for value in data_set[\"Category_ID\"].unique():\n",
    "    df = data_set[data_set[\"Category_ID\"] == value]\n",
    "    unique_price = df[\"Price_in_USD\"].nunique()\n",
    "    if unique_prices > 1:\n",
    "        print(\"For Category_ID \", value, \", we have \", unique_prices, \" unique prices.\")"
   ]
  },
  {
   "cell_type": "code",
   "execution_count": 48,
   "id": "77773ae2",
   "metadata": {},
   "outputs": [
    {
     "name": "stdout",
     "output_type": "stream",
     "text": [
      "For Category_Alias  jewelry.pendant , we have  31  unique prices.\n",
      "For Category_Alias  jewelry.necklace , we have  31  unique prices.\n",
      "For Category_Alias  jewelry.earring , we have  31  unique prices.\n",
      "For Category_Alias  jewelry.ring , we have  31  unique prices.\n",
      "For Category_Alias  jewelry.brooch , we have  31  unique prices.\n",
      "For Category_Alias  jewelry.bracelet , we have  31  unique prices.\n",
      "For Category_Alias  jewelry.souvenir , we have  31  unique prices.\n",
      "For Category_Alias  jewelry.stud , we have  31  unique prices.\n"
     ]
    }
   ],
   "source": [
    "# Checking PRICE variation in unique Category_Alias\n",
    "for value in data_set[\"Category_Alias\"].unique():\n",
    "    df = data_set[data_set[\"Category_Alias\"] == value]\n",
    "    unique_price = df[\"Price_in_USD\"].nunique()\n",
    "    if unique_prices > 1:\n",
    "        print(\"For Category_Alias \", value, \", we have \", unique_prices, \" unique prices.\")"
   ]
  },
  {
   "cell_type": "code",
   "execution_count": 49,
   "id": "ee88d8ec",
   "metadata": {},
   "outputs": [
    {
     "name": "stdout",
     "output_type": "stream",
     "text": [
      "For Product_Gender  f , we have  31  unique prices.\n",
      "For Product_Gender  nan , we have  31  unique prices.\n",
      "For Product_Gender  m , we have  31  unique prices.\n"
     ]
    }
   ],
   "source": [
    "# Checking PRICE variation in unique Product_Gender\n",
    "for value in data_set[\"Product_Gender\"].unique():\n",
    "    df = data_set[data_set[\"Product_Gender\"] == value]\n",
    "    unique_price = df[\"Price_in_USD\"].nunique()\n",
    "    if unique_prices > 1:\n",
    "        print(\"For Product_Gender \", value, \", we have \", unique_prices, \" unique prices.\")"
   ]
  },
  {
   "cell_type": "markdown",
   "id": "d82f04df",
   "metadata": {},
   "source": [
    "# Feature Engineering"
   ]
  },
  {
   "cell_type": "code",
   "execution_count": 50,
   "id": "5f460494",
   "metadata": {},
   "outputs": [],
   "source": [
    "# Handling the skew in price - create 'log(pricd)' column\n",
    "data_set[\"log_price\"] = np.log1p(data_set[\"Price_in_USD\"])"
   ]
  },
  {
   "cell_type": "code",
   "execution_count": 51,
   "id": "c94a7b51",
   "metadata": {},
   "outputs": [
    {
     "data": {
      "text/plain": [
       "-0.34346031951381545"
      ]
     },
     "execution_count": 51,
     "metadata": {},
     "output_type": "execute_result"
    }
   ],
   "source": [
    "# log_price skew\n",
    "data_set[\"log_price\"].skew()"
   ]
  },
  {
   "cell_type": "code",
   "execution_count": 52,
   "id": "0174d2b3",
   "metadata": {},
   "outputs": [],
   "source": [
    "# DateTime analysis - see if price varies with month of the year\n",
    "# Get YearOfOrder and OrderMonth from the DateTime column\n",
    "\n",
    "# Ensure the column is parsed as datetime\n",
    "data_set['Order_DateTime'] = pd.to_datetime(data_set['Order_DateTime'], utc=True)\n",
    "\n",
    "# Create new columns for year and month\n",
    "data_set['Year'] = data_set['Order_DateTime'].dt.year\n",
    "data_set['Month'] = data_set['Order_DateTime'].dt.month"
   ]
  },
  {
   "cell_type": "code",
   "execution_count": 53,
   "id": "90dd10b3",
   "metadata": {
    "scrolled": true
   },
   "outputs": [
    {
     "data": {
      "text/plain": [
       "count    78087.000000\n",
       "mean         5.505135\n",
       "std          0.868684\n",
       "min          0.688135\n",
       "25%          4.974663\n",
       "50%          5.538475\n",
       "75%          6.037083\n",
       "max         10.447253\n",
       "Name: log_price, dtype: float64"
      ]
     },
     "execution_count": 53,
     "metadata": {},
     "output_type": "execute_result"
    }
   ],
   "source": [
    "data_set[\"log_price\"].describe()"
   ]
  },
  {
   "cell_type": "code",
   "execution_count": 54,
   "id": "9a10b312",
   "metadata": {},
   "outputs": [
    {
     "data": {
      "text/plain": [
       "1.358418951547843"
      ]
     },
     "execution_count": 54,
     "metadata": {},
     "output_type": "execute_result"
    }
   ],
   "source": [
    "# log_price kurtosis\n",
    "data_set[\"log_price\"].kurtosis()"
   ]
  },
  {
   "cell_type": "code",
   "execution_count": 55,
   "id": "3acdfe40",
   "metadata": {
    "scrolled": true
   },
   "outputs": [
    {
     "data": {
      "text/plain": [
       "<AxesSubplot:xlabel='log_price', ylabel='Density'>"
      ]
     },
     "execution_count": 55,
     "metadata": {},
     "output_type": "execute_result"
    },
    {
     "data": {
      "image/png": "[encoded data removed]",
      "text/plain": [
       "<Figure size 1200x500 with 1 Axes>"
      ]
     },
     "metadata": {},
     "output_type": "display_data"
    }
   ],
   "source": [
    "# log_price Distribution map\n",
    "plt.figure(figsize = (12, 5))\n",
    "sns.kdeplot(data_set['log_price'], fill=True)"
   ]
  },
  {
   "cell_type": "code",
   "execution_count": 56,
   "id": "61010a14",
   "metadata": {},
   "outputs": [
    {
     "data": {
      "text/plain": [
       "<AxesSubplot:xlabel='log_price', ylabel='Density'>"
      ]
     },
     "execution_count": 56,
     "metadata": {},
     "output_type": "execute_result"
    },
    {
     "data": {
      "image/png": "[encoded data removed]",
      "text/plain": [
       "<Figure size 1200x500 with 1 Axes>"
      ]
     },
     "metadata": {},
     "output_type": "display_data"
    }
   ],
   "source": [
    "# Checking the effect of log_Price division on normalizing the distribution\n",
    "plt.figure(figsize = (12, 5))\n",
    "sns.kdeplot(data_set['log_price'].loc[data_set['log_price'] <= 4.974663], fill=True)\n",
    "\n",
    "sns.kdeplot(data_set['log_price'].loc[data_set['log_price'] <= 5.538475], fill=True)\n",
    "sns.kdeplot(data_set['log_price'].loc[data_set['log_price'] > 5.538475], fill=True)\n",
    "\n",
    "sns.kdeplot(data_set['log_price'].loc[data_set['log_price'] > 6.037083], fill=True)"
   ]
  },
  {
   "cell_type": "code",
   "execution_count": 57,
   "id": "67b510ac",
   "metadata": {},
   "outputs": [
    {
     "data": {
      "image/png": "[encoded data removed]",
      "text/plain": [
       "<Figure size 1200x500 with 1 Axes>"
      ]
     },
     "metadata": {},
     "output_type": "display_data"
    }
   ],
   "source": [
    "plt.figure(figsize = (12, 5))\n",
    "sns.boxplot(x='log_price', data=data_set)\n",
    "plt.title('log_price distribution')\n",
    "plt.show(); plt.close()"
   ]
  },
  {
   "cell_type": "code",
   "execution_count": 58,
   "id": "380af9e8",
   "metadata": {
    "scrolled": true
   },
   "outputs": [
    {
     "data": {
      "text/plain": [
       "array([12,  1,  2,  3,  4,  5,  6,  7,  8,  9, 10, 11], dtype=int64)"
      ]
     },
     "execution_count": 58,
     "metadata": {},
     "output_type": "execute_result"
    }
   ],
   "source": [
    "data_set[\"Month\"].unique()"
   ]
  },
  {
   "cell_type": "code",
   "execution_count": 59,
   "id": "97422a9a",
   "metadata": {},
   "outputs": [
    {
     "data": {
      "text/plain": [
       "array([2018, 2019, 2020, 2021], dtype=int64)"
      ]
     },
     "execution_count": 59,
     "metadata": {},
     "output_type": "execute_result"
    }
   ],
   "source": [
    "data_set[\"Year\"].unique()"
   ]
  },
  {
   "cell_type": "code",
   "execution_count": 60,
   "id": "3fd078c3",
   "metadata": {},
   "outputs": [
    {
     "data": {
      "image/png": "[encoded data removed]",
      "text/plain": [
       "<Figure size 1200x400 with 1 Axes>"
      ]
     },
     "metadata": {},
     "output_type": "display_data"
    },
    {
     "data": {
      "text/plain": [
       "(None, <function matplotlib.pyplot.close(fig=None)>)"
      ]
     },
     "execution_count": 60,
     "metadata": {},
     "output_type": "execute_result"
    }
   ],
   "source": [
    "# Per month record count plot\n",
    "plt.figure(figsize = (12, 4))\n",
    "sns.countplot(data = data_set, x = \"Month\")\n",
    "plt.xlabel(\"Order Month\")\n",
    "plt.ylabel(\"Moth Frequency\")\n",
    "plt.show(), plt.close"
   ]
  },
  {
   "cell_type": "code",
   "execution_count": 61,
   "id": "5925b897",
   "metadata": {},
   "outputs": [
    {
     "data": {
      "image/png": "[encoded data removed]",
      "text/plain": [
       "<Figure size 1200x500 with 1 Axes>"
      ]
     },
     "metadata": {},
     "output_type": "display_data"
    }
   ],
   "source": [
    "# Month variation with respect to years\n",
    "plt.figure(figsize = (12, 5))\n",
    "sns.countplot(data = data_set, x = \"Month\", hue = \"Year\")\n",
    "plt.xlabel(\"Order month wrt year\")\n",
    "plt.ylabel(\"Frequency\")\n",
    "plt.show(); plt.close()"
   ]
  },
  {
   "cell_type": "code",
   "execution_count": 62,
   "id": "aaaadbb2",
   "metadata": {},
   "outputs": [
    {
     "data": {
      "text/plain": [
       "Index(['Order_DateTime', 'Order_ID', 'Product_ID', 'SKU_Quantity',\n",
       "       'Category_ID', 'Category_Alias', 'Brand_ID', 'Price_in_USD', 'User_ID',\n",
       "       'Product_Gender', 'Main_Color', 'Main_Metal', 'Main_Gem', 'log_price',\n",
       "       'Year', 'Month'],\n",
       "      dtype='object')"
      ]
     },
     "execution_count": 62,
     "metadata": {},
     "output_type": "execute_result"
    }
   ],
   "source": [
    "data_set.columns"
   ]
  },
  {
   "cell_type": "code",
   "execution_count": 63,
   "id": "bdba7330",
   "metadata": {},
   "outputs": [],
   "source": [
    "# Let us drop the original DateTime record (year and month are the needed feature) and SKU_Quantity (Cadinality of 1)\n",
    "# Drop Order ID,  User ID and Category_ID (Repetition of Category_Alias)\n",
    "data_set = data_set.drop([\"Order_DateTime\", \"Order_ID\", \"Product_ID\", \"SKU_Quantity\", \"Category_ID\", \"User_ID\"], axis = 1)"
   ]
  },
  {
   "cell_type": "code",
   "execution_count": 93,
   "id": "93e7f71a",
   "metadata": {},
   "outputs": [
    {
     "data": {
      "text/plain": [
       "Index(['Category_Alias', 'Brand_ID', 'Price_in_USD', 'Product_Gender',\n",
       "       'Main_Color', 'Main_Metal', 'Main_Gem', 'log_price', 'Year', 'Month'],\n",
       "      dtype='object')"
      ]
     },
     "execution_count": 93,
     "metadata": {},
     "output_type": "execute_result"
    }
   ],
   "source": [
    "data_set.columns"
   ]
  },
  {
   "cell_type": "code",
   "execution_count": null,
   "id": "a7c1cd5b",
   "metadata": {},
   "outputs": [],
   "source": [
    "# Improvement by feature addition"
   ]
  },
  {
   "cell_type": "code",
   "execution_count": 97,
   "id": "dbcd1dc1",
   "metadata": {},
   "outputs": [],
   "source": [
    "# Price density per category\n",
    "data_set['avg_price_per_category'] = data_set.groupby('Category_Alias')['Price_in_USD'].transform('mean')\n",
    "\n",
    "# Price density per metal/gem type\n",
    "data_set['avg_price_per_metal'] = data_set.groupby('Main_Metal')['Price_in_USD'].transform('mean')\n",
    "data_set['avg_price_per_gem'] = data_set.groupby('Main_Gem')['Price_in_USD'].transform('mean')"
   ]
  },
  {
   "cell_type": "code",
   "execution_count": null,
   "id": "7f320cdf",
   "metadata": {},
   "outputs": [],
   "source": []
  },
  {
   "cell_type": "code",
   "execution_count": null,
   "id": "59c95478",
   "metadata": {},
   "outputs": [],
   "source": []
  },
  {
   "cell_type": "code",
   "execution_count": 64,
   "id": "a1a041e0",
   "metadata": {},
   "outputs": [],
   "source": [
    "# Remove recoerds where price is missed\n",
    "# Drop rows with missing price_usd\n",
    "data_set = data_set.dropna(subset=['Price_in_USD'])"
   ]
  },
  {
   "cell_type": "code",
   "execution_count": 65,
   "id": "7097e3a9",
   "metadata": {},
   "outputs": [
    {
     "name": "stdout",
     "output_type": "stream",
     "text": [
      "<class 'pandas.core.frame.DataFrame'>\n",
      "Int64Index: 78087 entries, 1 to 95909\n",
      "Data columns (total 10 columns):\n",
      " #   Column          Non-Null Count  Dtype  \n",
      "---  ------          --------------  -----  \n",
      " 0   Category_Alias  78087 non-null  object \n",
      " 1   Brand_ID        74719 non-null  float64\n",
      " 2   Price_in_USD    78087 non-null  float64\n",
      " 3   Product_Gender  43714 non-null  object \n",
      " 4   Main_Color      76212 non-null  object \n",
      " 5   Main_Metal      78001 non-null  object \n",
      " 6   Main_Gem        60003 non-null  object \n",
      " 7   log_price       78087 non-null  float64\n",
      " 8   Year            78087 non-null  int64  \n",
      " 9   Month           78087 non-null  int64  \n",
      "dtypes: float64(3), int64(2), object(5)\n",
      "memory usage: 6.6+ MB\n"
     ]
    }
   ],
   "source": [
    "data_set.info()"
   ]
  },
  {
   "cell_type": "code",
   "execution_count": 66,
   "id": "f48bedc6",
   "metadata": {},
   "outputs": [
    {
     "data": {
      "text/plain": [
       "3368"
      ]
     },
     "execution_count": 66,
     "metadata": {},
     "output_type": "execute_result"
    }
   ],
   "source": [
    "data_set[\"Brand_ID\"].isnull().sum()"
   ]
  },
  {
   "cell_type": "code",
   "execution_count": 67,
   "id": "850bb20c",
   "metadata": {},
   "outputs": [],
   "source": [
    "# Impute 'unknown' for brand_id (convert NaNs to 'unknown')\n",
    "data_set['Brand_ID'] = data_set['Brand_ID'].fillna('unknown')"
   ]
  },
  {
   "cell_type": "code",
   "execution_count": 68,
   "id": "9ffe18ff",
   "metadata": {},
   "outputs": [
    {
     "data": {
      "text/plain": [
       "array(['f', nan, 'm'], dtype=object)"
      ]
     },
     "execution_count": 68,
     "metadata": {},
     "output_type": "execute_result"
    }
   ],
   "source": [
    "data_set[\"Product_Gender\"].unique()"
   ]
  },
  {
   "cell_type": "code",
   "execution_count": 69,
   "id": "01c75af4",
   "metadata": {},
   "outputs": [],
   "source": [
    "# Impute 'unknown' for product_gender to get rid of missing values\n",
    "data_set['Product_Gender'] = data_set['Product_Gender'].fillna('unknown')"
   ]
  },
  {
   "cell_type": "code",
   "execution_count": 70,
   "id": "05f5c9f0",
   "metadata": {},
   "outputs": [],
   "source": [
    "# Replace 'unknown-color' and NaN in main_color with 'unknown'\n",
    "data_set['Main_Color'] = data_set['Main_Color'].replace('unknown-color', 'unknown')\n",
    "data_set['Main_Color'] = data_set['Main_Color'].fillna('unknown')"
   ]
  },
  {
   "cell_type": "code",
   "execution_count": 71,
   "id": "d258209f",
   "metadata": {},
   "outputs": [],
   "source": [
    "# For main_metal, replace NANs with 'unknown'\n",
    "data_set['Main_Metal'] = data_set['Main_Metal'].fillna('unknown')"
   ]
  },
  {
   "cell_type": "code",
   "execution_count": 72,
   "id": "ad2b2471",
   "metadata": {},
   "outputs": [],
   "source": [
    "# For main_gem, replace NANs with 'none'\n",
    "data_set['Main_Gem'] = data_set['Main_Gem'].fillna('none')"
   ]
  },
  {
   "cell_type": "code",
   "execution_count": 73,
   "id": "365cbcf5",
   "metadata": {},
   "outputs": [
    {
     "data": {
      "text/plain": [
       "Category_Alias    0\n",
       "Brand_ID          0\n",
       "Price_in_USD      0\n",
       "Product_Gender    0\n",
       "Main_Color        0\n",
       "Main_Metal        0\n",
       "Main_Gem          0\n",
       "log_price         0\n",
       "Year              0\n",
       "Month             0\n",
       "dtype: int64"
      ]
     },
     "execution_count": 73,
     "metadata": {},
     "output_type": "execute_result"
    }
   ],
   "source": [
    "data_set.isnull().sum()"
   ]
  },
  {
   "cell_type": "markdown",
   "id": "f614e04a",
   "metadata": {},
   "source": [
    "# Encoding strings as numerical features"
   ]
  },
  {
   "cell_type": "code",
   "execution_count": 74,
   "id": "7043381d",
   "metadata": {},
   "outputs": [],
   "source": [
    "encoded, category_code = pd.factorize(data_set[\"Category_Alias\"]) # for categories\n",
    "data_set.loc[:, \"Category_Alias\"] = encoded\n",
    "\n",
    "encoded, category_code = pd.factorize(data_set[\"Brand_ID\"]) # for brands\n",
    "data_set.loc[:, \"Brand_ID\"] = encoded\n",
    "\n",
    "encoded, category_code = pd.factorize(data_set[\"Product_Gender\"]) # for genders\n",
    "data_set.loc[:, \"Product_Gender\"] = encoded\n",
    "\n",
    "encoded, category_code = pd.factorize(data_set[\"Main_Color\"]) # for colors\n",
    "data_set.loc[:, \"Main_Color\"] = encoded\n",
    "\n",
    "encoded, category_code = pd.factorize(data_set[\"Main_Metal\"]) # for metals\n",
    "data_set.loc[:, \"Main_Metal\"] = encoded\n",
    "\n",
    "encoded, category_code = pd.factorize(data_set[\"Main_Gem\"]) # for gems\n",
    "data_set.loc[:, \"Main_Gem\"] = encoded"
   ]
  },
  {
   "cell_type": "code",
   "execution_count": 75,
   "id": "41ee717e",
   "metadata": {},
   "outputs": [
    {
     "name": "stdout",
     "output_type": "stream",
     "text": [
      "<class 'pandas.core.frame.DataFrame'>\n",
      "Int64Index: 78087 entries, 1 to 95909\n",
      "Data columns (total 10 columns):\n",
      " #   Column          Non-Null Count  Dtype  \n",
      "---  ------          --------------  -----  \n",
      " 0   Category_Alias  78087 non-null  int64  \n",
      " 1   Brand_ID        78087 non-null  int64  \n",
      " 2   Price_in_USD    78087 non-null  float64\n",
      " 3   Product_Gender  78087 non-null  int64  \n",
      " 4   Main_Color      78087 non-null  int64  \n",
      " 5   Main_Metal      78087 non-null  int64  \n",
      " 6   Main_Gem        78087 non-null  int64  \n",
      " 7   log_price       78087 non-null  float64\n",
      " 8   Year            78087 non-null  int64  \n",
      " 9   Month           78087 non-null  int64  \n",
      "dtypes: float64(2), int64(8)\n",
      "memory usage: 6.6 MB\n"
     ]
    }
   ],
   "source": [
    "data_set.info()"
   ]
  },
  {
   "cell_type": "markdown",
   "id": "339ab834",
   "metadata": {},
   "source": [
    "# DATA PREPARATION"
   ]
  },
  {
   "cell_type": "code",
   "execution_count": 76,
   "id": "264c833b",
   "metadata": {},
   "outputs": [
    {
     "name": "stdout",
     "output_type": "stream",
     "text": [
      "Requirement already satisfied: xgboost in c:\\users\\testimoni\\anaconda3\\lib\\site-packages (2.1.4)\n",
      "Requirement already satisfied: scipy in c:\\users\\testimoni\\anaconda3\\lib\\site-packages (from xgboost) (1.9.1)\n",
      "Requirement already satisfied: numpy in c:\\users\\testimoni\\anaconda3\\lib\\site-packages (from xgboost) (1.21.5)\n"
     ]
    }
   ],
   "source": [
    "# Install XGBoost\n",
    "!pip install xgboost"
   ]
  },
  {
   "cell_type": "code",
   "execution_count": 77,
   "id": "000ed355",
   "metadata": {},
   "outputs": [],
   "source": [
    "# Import libraries\n",
    "from sklearn.model_selection import train_test_split\n",
    "from sklearn.metrics import mean_squared_error, r2_score, mean_absolute_error, median_absolute_error\n",
    "# For LinearRegression\n",
    "from sklearn.linear_model import LinearRegression\n",
    "# For RandomForestClassifier\n",
    "from sklearn.ensemble import RandomForestRegressor\n",
    "# For XGBClassifier\n",
    "from xgboost import XGBRegressor\n",
    "# DecisionTreeRegressor\n",
    "from sklearn.tree import DecisionTreeRegressor\n",
    "\n",
    "import mlflow\n",
    "import mlflow.sklearn"
   ]
  },
  {
   "cell_type": "code",
   "execution_count": 78,
   "id": "0adca06b",
   "metadata": {},
   "outputs": [],
   "source": [
    "# Define features (X) and target (y)\n",
    "X = data_set[[\"Category_Alias\", \"Brand_ID\", \"Product_Gender\", \"Main_Color\", \"Main_Metal\", \"Main_Gem\", \"Year\", \"Month\"]]\n",
    "y = data_set[\"log_price\"]"
   ]
  },
  {
   "cell_type": "code",
   "execution_count": 79,
   "id": "7c3783df",
   "metadata": {},
   "outputs": [],
   "source": [
    "# Split data into training and test sets\n",
    "X_train, X_test, y_train, y_test = train_test_split(X, y, test_size=0.1, random_state=42)"
   ]
  },
  {
   "cell_type": "code",
   "execution_count": 80,
   "id": "b4c443ef",
   "metadata": {},
   "outputs": [
    {
     "name": "stdout",
     "output_type": "stream",
     "text": [
      "Category_Alias    int64\n",
      "Brand_ID          int64\n",
      "Product_Gender    int64\n",
      "Main_Color        int64\n",
      "Main_Metal        int64\n",
      "Main_Gem          int64\n",
      "Year              int64\n",
      "Month             int64\n",
      "dtype: object\n"
     ]
    }
   ],
   "source": [
    "# Check all are encoded\n",
    "print(X_train.dtypes)"
   ]
  },
  {
   "cell_type": "markdown",
   "id": "db440a50",
   "metadata": {},
   "source": [
    "# Models"
   ]
  },
  {
   "cell_type": "code",
   "execution_count": 81,
   "id": "1968a9cd",
   "metadata": {},
   "outputs": [],
   "source": [
    "models = {\n",
    "    \"LinearRegression\": LinearRegression(),\n",
    "    \"RandomForest\": RandomForestRegressor(n_estimators=100, random_state=42),\n",
    "    \"XGBoost\": XGBRegressor(n_estimators=100, learning_rate=0.1, max_depth=6, random_state=42),\n",
    "    \"Decision Tree\": DecisionTreeRegressor()\n",
    "}"
   ]
  },
  {
   "cell_type": "code",
   "execution_count": 82,
   "id": "66b89bc1",
   "metadata": {},
   "outputs": [],
   "source": [
    "# Define custom MAPE to avoid division by zero\n",
    "def mean_absolute_percentage_error(y_true, y_pred):\n",
    "    y_true, y_pred = np.array(y_true), np.array(y_pred)\n",
    "    nonzero = y_true != 0\n",
    "    return np.mean(np.abs((y_true[nonzero] - y_pred[nonzero]) / y_true[nonzero])) * 100"
   ]
  },
  {
   "cell_type": "markdown",
   "id": "564989de",
   "metadata": {},
   "source": [
    "mse_list = {}\n",
    "mae_list = {}\n",
    "r2_list = {}\n",
    "\n",
    "for name, model in models.items():\n",
    "    # Start an MLflow run\n",
    "    with mlflow.start_run():\n",
    "        # Train model and predict\n",
    "        model.fit(X_train, y_train)\n",
    "        pred = model.predict(X_test)\n",
    "        \n",
    "        mse = mean_squared_error(y_test, pred)\n",
    "        mae = mean_absolute_error(y_test, pred)\n",
    "        r2 = r2_score(y_test, pred)\n",
    "\n",
    "        mse_list[name] = round(mse, 2)\n",
    "        mae_list[name] = round(mae, 2)\n",
    "        r2_list[name] = round(r2, 4)\n",
    "\n",
    "print(\"Mean Squared Error (MSE):\", mse_list)\n",
    "print(\"Mean Absolute Error (MAE):\", mae_list)\n",
    "print(\"R^2 Score:\", r2_list)"
   ]
  },
  {
   "cell_type": "code",
   "execution_count": 90,
   "id": "233ec4cf",
   "metadata": {},
   "outputs": [
    {
     "name": "stderr",
     "output_type": "stream",
     "text": [
      "2025/05/25 01:53:04 WARNING mlflow.utils.environment: Encountered an unexpected error while inferring pip requirements (model URI: C:\\Users\\TESTIM~1\\AppData\\Local\\Temp\\tmpqsbgae4b\\model\\model.pkl, flavor: sklearn). Fall back to return ['scikit-learn==1.0.2', 'cloudpickle==2.0.0']. Set logging level to DEBUG to see the full traceback. \n",
      "2025/05/25 01:53:05 WARNING mlflow.models.model: Model logged without a signature and input example. Please set `input_example` parameter when logging the model to auto infer the model signature.\n"
     ]
    },
    {
     "name": "stdout",
     "output_type": "stream",
     "text": [
      "LinearRegression run logged to MLflow.\n",
      "🏃 View run LinearRegression at: http://localhost:5000/#/experiments/515700351467119676/runs/78821cbb8d2449d0a4d77ab9a80af5f2\n",
      "🧪 View experiment at: http://localhost:5000/#/experiments/515700351467119676\n",
      "RMSE (log):       0.7650\n",
      "R² (log):         0.2127\n",
      "RMSE (USD):       383.55\n",
      "MAE (USD):        195.28\n",
      "MedAE (USD):      111.81\n",
      "MAPE (%):         70.09\n"
     ]
    },
    {
     "name": "stderr",
     "output_type": "stream",
     "text": [
      "2025/05/25 01:53:39 WARNING mlflow.utils.environment: Encountered an unexpected error while inferring pip requirements (model URI: C:\\Users\\TESTIM~1\\AppData\\Local\\Temp\\tmpci2ixp07\\model\\model.pkl, flavor: sklearn). Fall back to return ['scikit-learn==1.0.2', 'cloudpickle==2.0.0']. Set logging level to DEBUG to see the full traceback. \n",
      "2025/05/25 01:53:39 WARNING mlflow.models.model: Model logged without a signature and input example. Please set `input_example` parameter when logging the model to auto infer the model signature.\n"
     ]
    },
    {
     "name": "stdout",
     "output_type": "stream",
     "text": [
      "RandomForest run logged to MLflow.\n",
      "🏃 View run RandomForest at: http://localhost:5000/#/experiments/515700351467119676/runs/d11e671eec9f4181baf63dd07fa5a7c1\n",
      "🧪 View experiment at: http://localhost:5000/#/experiments/515700351467119676\n",
      "RMSE (log):       0.5212\n",
      "R² (log):         0.6345\n",
      "RMSE (USD):       314.95\n",
      "MAE (USD):        140.01\n",
      "MedAE (USD):      66.22\n",
      "MAPE (%):         40.30\n"
     ]
    },
    {
     "name": "stderr",
     "output_type": "stream",
     "text": [
      "C:\\Users\\TestimOni\\anaconda3\\lib\\site-packages\\xgboost\\core.py:158: UserWarning: [01:53:43] WARNING: C:\\buildkite-agent\\builds\\buildkite-windows-cpu-autoscaling-group-i-08cbc0333d8d4aae1-1\\xgboost\\xgboost-ci-windows\\src\\c_api\\c_api.cc:1374: Saving model in the UBJSON format as default.  You can use file extension: `json`, `ubj` or `deprecated` to choose between formats.\n",
      "  warnings.warn(smsg, UserWarning)\n",
      "2025/05/25 01:54:02 WARNING mlflow.utils.environment: Encountered an unexpected error while inferring pip requirements (model URI: C:\\Users\\TESTIM~1\\AppData\\Local\\Temp\\tmptraj3zes\\model, flavor: xgboost). Fall back to return ['xgboost==2.1.4']. Set logging level to DEBUG to see the full traceback. \n",
      "2025/05/25 01:54:02 WARNING mlflow.models.model: Model logged without a signature and input example. Please set `input_example` parameter when logging the model to auto infer the model signature.\n"
     ]
    },
    {
     "name": "stdout",
     "output_type": "stream",
     "text": [
      "XGBoost run logged to MLflow.\n",
      "🏃 View run XGBoost at: http://localhost:5000/#/experiments/515700351467119676/runs/5eb0cb591da54c5abadbcc8cc86913a5\n",
      "🧪 View experiment at: http://localhost:5000/#/experiments/515700351467119676\n",
      "RMSE (log):       0.5315\n",
      "R² (log):         0.6199\n",
      "RMSE (USD):       326.50\n",
      "MAE (USD):        146.01\n",
      "MedAE (USD):      72.24\n",
      "MAPE (%):         42.28\n"
     ]
    },
    {
     "name": "stderr",
     "output_type": "stream",
     "text": [
      "2025/05/25 01:54:18 WARNING mlflow.utils.environment: Encountered an unexpected error while inferring pip requirements (model URI: C:\\Users\\TESTIM~1\\AppData\\Local\\Temp\\tmpzif9_90_\\model\\model.pkl, flavor: sklearn). Fall back to return ['scikit-learn==1.0.2', 'cloudpickle==2.0.0']. Set logging level to DEBUG to see the full traceback. \n",
      "2025/05/25 01:54:19 WARNING mlflow.models.model: Model logged without a signature and input example. Please set `input_example` parameter when logging the model to auto infer the model signature.\n"
     ]
    },
    {
     "name": "stdout",
     "output_type": "stream",
     "text": [
      "Decision Tree run logged to MLflow.\n",
      "🏃 View run Decision Tree at: http://localhost:5000/#/experiments/515700351467119676/runs/7599f48e7cf54eef9a1eae965ae01c33\n",
      "🧪 View experiment at: http://localhost:5000/#/experiments/515700351467119676\n",
      "RMSE (log):       0.5300\n",
      "R² (log):         0.6221\n",
      "RMSE (USD):       315.68\n",
      "MAE (USD):        139.72\n",
      "MedAE (USD):      65.47\n",
      "MAPE (%):         40.93\n"
     ]
    }
   ],
   "source": [
    "# set our tracking server uri for logging\n",
    "mlflow.set_tracking_uri(uri=\"http://localhost:5000\")\n",
    "# Create a new mlflow experiment\n",
    "mlflow.set_experiment(\"Jewelry Pricing\")\n",
    "# Train and log multiple models\n",
    "for name, model in models.items():\n",
    "    with mlflow.start_run(run_name=name):\n",
    "        # Fit and predict\n",
    "        model.fit(X_train, y_train)\n",
    "        log_preds = model.predict(X_test) # in log scale\n",
    "        price_preds = np.expm1(log_preds) # actual prices\n",
    "        true_prices = np.expm1(y_test)\n",
    "\n",
    "        # Metrics (log space)\n",
    "        rmse_log = np.sqrt(mean_squared_error(y_test, log_preds))\n",
    "        r2_log = r2_score(y_test, log_preds)\n",
    "\n",
    "        # Metrics (real price)\n",
    "        rmse_real = np.sqrt(mean_squared_error(true_prices, price_preds))\n",
    "        mae_real = mean_absolute_error(true_prices, price_preds)\n",
    "        medae_real = median_absolute_error(true_prices, price_preds)\n",
    "        mape_real = mean_absolute_percentage_error(true_prices, price_preds)\n",
    "\n",
    "        # Log model parameters\n",
    "        mlflow.log_param(\"model_name\", name)\n",
    "        if hasattr(model, 'get_params'):\n",
    "            mlflow.log_params(model.get_params())\n",
    "\n",
    "        # Log metrics\n",
    "        mlflow.log_metric(\"rmse_log\", rmse_log)\n",
    "        mlflow.log_metric(\"r2_log\", r2_log)\n",
    "        mlflow.log_metric(\"rmse_real_usd\", rmse_real)\n",
    "        mlflow.log_metric(\"mae_real_usd\", mae_real)\n",
    "        mlflow.log_metric(\"medae_real_usd\", medae_real)\n",
    "        mlflow.log_metric(\"mape_real_percent\", mape_real)\n",
    "\n",
    "        # set tags\n",
    "        mlflow.set_tag(\"Jewelry pricing with\", {name})\n",
    "        \n",
    "        # Log model\n",
    "        if name.lower() == \"xgboost\":\n",
    "            mlflow.xgboost.log_model(model, artifact_path=\"model\")\n",
    "        else:\n",
    "            mlflow.sklearn.log_model(model, artifact_path=\"model\")\n",
    "\n",
    "        print(f\"{name} run logged to MLflow.\")\n",
    "    \n",
    "    print(f\"RMSE (log):       {rmse_log:.4f}\")\n",
    "    print(f\"R² (log):         {r2_log:.4f}\")\n",
    "    print(f\"RMSE (USD):       {rmse_real:.2f}\")\n",
    "    print(f\"MAE (USD):        {mae_real:.2f}\")\n",
    "    print(f\"MedAE (USD):      {medae_real:.2f}\")\n",
    "    print(f\"MAPE (%):         {mape_real:.2f}\")"
   ]
  },
  {
   "cell_type": "markdown",
   "id": "e907842f",
   "metadata": {},
   "source": [
    "# Feature Importance"
   ]
  },
  {
   "cell_type": "code",
   "execution_count": 84,
   "id": "a417352d",
   "metadata": {},
   "outputs": [
    {
     "data": {
      "image/png": "[encoded data removed]",
      "text/plain": [
       "<Figure size 1000x500 with 1 Axes>"
      ]
     },
     "metadata": {},
     "output_type": "display_data"
    }
   ],
   "source": [
    "# Feature Importances\n",
    "\n",
    "importances = model.feature_importances_\n",
    "features = X.columns\n",
    "\n",
    "# Plot feature importances\n",
    "plt.figure(figsize=(10, 5))\n",
    "plt.barh(features, importances)\n",
    "plt.xlabel(\"Feature Importance\")\n",
    "plt.title(\"Random Forest Feature Importance\")\n",
    "plt.tight_layout()\n",
    "plt.show()"
   ]
  },
  {
   "cell_type": "markdown",
   "id": "7e29d786",
   "metadata": {},
   "source": [
    "# In conclusion, Random Forest Regression performed best among the 4 modelling strategies."
   ]
  }
 ],
 "metadata": {
  "kernelspec": {
   "display_name": "Python 3 (ipykernel)",
   "language": "python",
   "name": "python3"
  },
  "language_info": {
   "codemirror_mode": {
    "name": "ipython",
    "version": 3
   },
   "file_extension": ".py",
   "mimetype": "text/x-python",
   "name": "python",
   "nbconvert_exporter": "python",
   "pygments_lexer": "ipython3",
   "version": "3.9.13"
  }
 },
 "nbformat": 4,
 "nbformat_minor": 5
}
