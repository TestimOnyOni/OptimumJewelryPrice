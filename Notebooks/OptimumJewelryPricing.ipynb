{
 "cells": [
  {
   "cell_type": "code",
   "execution_count": 1,
   "id": "bd9372fc-6bc4-4fd2-989c-840720224d5f",
   "metadata": {},
   "outputs": [
    {
     "name": "stdout",
     "output_type": "stream",
     "text": [
      "Requirement already satisfied: seaborn in c:\\users\\testimoni\\anaconda3\\lib\\site-packages (0.11.2)\n",
      "Requirement already satisfied: scipy>=1.0 in c:\\users\\testimoni\\anaconda3\\lib\\site-packages (from seaborn) (1.9.1)\n",
      "Requirement already satisfied: matplotlib>=2.2 in c:\\users\\testimoni\\anaconda3\\lib\\site-packages (from seaborn) (3.5.2)\n",
      "Requirement already satisfied: numpy>=1.15 in c:\\users\\testimoni\\anaconda3\\lib\\site-packages (from seaborn) (1.21.5)\n",
      "Requirement already satisfied: pandas>=0.23 in c:\\users\\testimoni\\anaconda3\\lib\\site-packages (from seaborn) (1.4.4)\n",
      "Requirement already satisfied: pillow>=6.2.0 in c:\\users\\testimoni\\anaconda3\\lib\\site-packages (from matplotlib>=2.2->seaborn) (9.2.0)\n",
      "Requirement already satisfied: packaging>=20.0 in c:\\users\\testimoni\\anaconda3\\lib\\site-packages (from matplotlib>=2.2->seaborn) (21.3)\n",
      "Requirement already satisfied: kiwisolver>=1.0.1 in c:\\users\\testimoni\\anaconda3\\lib\\site-packages (from matplotlib>=2.2->seaborn) (1.4.2)\n",
      "Requirement already satisfied: python-dateutil>=2.7 in c:\\users\\testimoni\\anaconda3\\lib\\site-packages (from matplotlib>=2.2->seaborn) (2.8.2)\n",
      "Requirement already satisfied: fonttools>=4.22.0 in c:\\users\\testimoni\\anaconda3\\lib\\site-packages (from matplotlib>=2.2->seaborn) (4.25.0)\n",
      "Requirement already satisfied: pyparsing>=2.2.1 in c:\\users\\testimoni\\anaconda3\\lib\\site-packages (from matplotlib>=2.2->seaborn) (3.0.9)\n",
      "Requirement already satisfied: cycler>=0.10 in c:\\users\\testimoni\\anaconda3\\lib\\site-packages (from matplotlib>=2.2->seaborn) (0.11.0)\n",
      "Requirement already satisfied: pytz>=2020.1 in c:\\users\\testimoni\\anaconda3\\lib\\site-packages (from pandas>=0.23->seaborn) (2022.1)\n",
      "Requirement already satisfied: six>=1.5 in c:\\users\\testimoni\\anaconda3\\lib\\site-packages (from python-dateutil>=2.7->matplotlib>=2.2->seaborn) (1.16.0)\n"
     ]
    }
   ],
   "source": [
    "!pip install seaborn --user"
   ]
  },
  {
   "cell_type": "code",
   "execution_count": 2,
   "id": "a496ca13-220b-4c79-af5f-ead7e730d3cf",
   "metadata": {},
   "outputs": [],
   "source": [
    "import pandas as pd\n",
    "import numpy as np\n",
    "import seaborn as sns\n",
    "from matplotlib import pyplot as plt"
   ]
  },
  {
   "cell_type": "code",
   "execution_count": 3,
   "id": "b9b9b42e-9c57-40ae-9ad6-319d8a5ccceb",
   "metadata": {},
   "outputs": [],
   "source": [
    "# Set visualization theme\n",
    "sns.set()"
   ]
  },
  {
   "cell_type": "code",
   "execution_count": 4,
   "id": "5a83f14d-a501-4463-ab38-66c2f99a0160",
   "metadata": {},
   "outputs": [],
   "source": [
    "data_set = pd.read_csv(r\"C:\\Users\\TestimOni\\OneDrive - Ulster University\\Desktop\\OptimumJewelryPricing\\Data\\Jewelry_Dataset.csv\")\n",
    "# df = pd.read_csv(r\"C:\\Users\\TestimOni\\OneDrive - Ulster University\\Desktop\\OptimumJewelryPricing\\Data\\Jewelry_Dataset.csv\")"
   ]
  },
  {
   "cell_type": "code",
   "execution_count": 5,
   "id": "3443dca2-9918-47e0-8c01-24d07653f595",
   "metadata": {},
   "outputs": [
    {
     "data": {
      "text/html": [
       "<div>\n",
       "<style scoped>\n",
       "    .dataframe tbody tr th:only-of-type {\n",
       "        vertical-align: middle;\n",
       "    }\n",
       "\n",
       "    .dataframe tbody tr th {\n",
       "        vertical-align: top;\n",
       "    }\n",
       "\n",
       "    .dataframe thead th {\n",
       "        text-align: right;\n",
       "    }\n",
       "</style>\n",
       "<table border=\"1\" class=\"dataframe\">\n",
       "  <thead>\n",
       "    <tr style=\"text-align: right;\">\n",
       "      <th></th>\n",
       "      <th>2018-12-01 11:40:29 UTC</th>\n",
       "      <th>1924719191579951782</th>\n",
       "      <th>1842195256808833386</th>\n",
       "      <th>1</th>\n",
       "      <th>1806829201890738522</th>\n",
       "      <th>jewelry.earring</th>\n",
       "      <th>0</th>\n",
       "      <th>561.51</th>\n",
       "      <th>1515915625207851155</th>\n",
       "      <th>Unnamed: 9</th>\n",
       "      <th>red</th>\n",
       "      <th>gold</th>\n",
       "      <th>diamond</th>\n",
       "    </tr>\n",
       "  </thead>\n",
       "  <tbody>\n",
       "    <tr>\n",
       "      <th>0</th>\n",
       "      <td>2018-12-01 17:38:31 UTC</td>\n",
       "      <td>1924899396621697920</td>\n",
       "      <td>1806829193678291446</td>\n",
       "      <td>1</td>\n",
       "      <td>1.806829e+18</td>\n",
       "      <td>NaN</td>\n",
       "      <td>NaN</td>\n",
       "      <td>212.14</td>\n",
       "      <td>1.515916e+18</td>\n",
       "      <td>NaN</td>\n",
       "      <td>yellow</td>\n",
       "      <td>gold</td>\n",
       "      <td>NaN</td>\n",
       "    </tr>\n",
       "    <tr>\n",
       "      <th>1</th>\n",
       "      <td>2018-12-02 13:53:42 UTC</td>\n",
       "      <td>1925511016616034733</td>\n",
       "      <td>1842214461889315556</td>\n",
       "      <td>1</td>\n",
       "      <td>1.806829e+18</td>\n",
       "      <td>jewelry.pendant</td>\n",
       "      <td>1.0</td>\n",
       "      <td>54.66</td>\n",
       "      <td>1.515916e+18</td>\n",
       "      <td>f</td>\n",
       "      <td>white</td>\n",
       "      <td>gold</td>\n",
       "      <td>sapphire</td>\n",
       "    </tr>\n",
       "    <tr>\n",
       "      <th>2</th>\n",
       "      <td>2018-12-02 17:44:02 UTC</td>\n",
       "      <td>1925626951238681511</td>\n",
       "      <td>1835566849434059453</td>\n",
       "      <td>1</td>\n",
       "      <td>1.806829e+18</td>\n",
       "      <td>jewelry.pendant</td>\n",
       "      <td>0.0</td>\n",
       "      <td>88.90</td>\n",
       "      <td>1.515916e+18</td>\n",
       "      <td>f</td>\n",
       "      <td>red</td>\n",
       "      <td>gold</td>\n",
       "      <td>diamond</td>\n",
       "    </tr>\n",
       "    <tr>\n",
       "      <th>3</th>\n",
       "      <td>2018-12-02 21:30:19 UTC</td>\n",
       "      <td>1925740842841014667</td>\n",
       "      <td>1873936840742928865</td>\n",
       "      <td>1</td>\n",
       "      <td>1.806829e+18</td>\n",
       "      <td>jewelry.necklace</td>\n",
       "      <td>0.0</td>\n",
       "      <td>417.67</td>\n",
       "      <td>1.515916e+18</td>\n",
       "      <td>NaN</td>\n",
       "      <td>red</td>\n",
       "      <td>gold</td>\n",
       "      <td>amethyst</td>\n",
       "    </tr>\n",
       "    <tr>\n",
       "      <th>4</th>\n",
       "      <td>2018-12-02 22:09:34 UTC</td>\n",
       "      <td>1925760595336888995</td>\n",
       "      <td>1835566854827934449</td>\n",
       "      <td>1</td>\n",
       "      <td>1.806829e+18</td>\n",
       "      <td>jewelry.earring</td>\n",
       "      <td>1.0</td>\n",
       "      <td>102.27</td>\n",
       "      <td>1.515916e+18</td>\n",
       "      <td>NaN</td>\n",
       "      <td>red</td>\n",
       "      <td>gold</td>\n",
       "      <td>NaN</td>\n",
       "    </tr>\n",
       "  </tbody>\n",
       "</table>\n",
       "</div>"
      ],
      "text/plain": [
       "   2018-12-01 11:40:29 UTC  1924719191579951782  1842195256808833386  1  \\\n",
       "0  2018-12-01 17:38:31 UTC  1924899396621697920  1806829193678291446  1   \n",
       "1  2018-12-02 13:53:42 UTC  1925511016616034733  1842214461889315556  1   \n",
       "2  2018-12-02 17:44:02 UTC  1925626951238681511  1835566849434059453  1   \n",
       "3  2018-12-02 21:30:19 UTC  1925740842841014667  1873936840742928865  1   \n",
       "4  2018-12-02 22:09:34 UTC  1925760595336888995  1835566854827934449  1   \n",
       "\n",
       "   1806829201890738522   jewelry.earring    0  561.51  1515915625207851155  \\\n",
       "0         1.806829e+18               NaN  NaN  212.14         1.515916e+18   \n",
       "1         1.806829e+18   jewelry.pendant  1.0   54.66         1.515916e+18   \n",
       "2         1.806829e+18   jewelry.pendant  0.0   88.90         1.515916e+18   \n",
       "3         1.806829e+18  jewelry.necklace  0.0  417.67         1.515916e+18   \n",
       "4         1.806829e+18   jewelry.earring  1.0  102.27         1.515916e+18   \n",
       "\n",
       "  Unnamed: 9     red  gold   diamond  \n",
       "0        NaN  yellow  gold       NaN  \n",
       "1          f   white  gold  sapphire  \n",
       "2          f     red  gold   diamond  \n",
       "3        NaN     red  gold  amethyst  \n",
       "4        NaN     red  gold       NaN  "
      ]
     },
     "execution_count": 5,
     "metadata": {},
     "output_type": "execute_result"
    }
   ],
   "source": [
    "data_set.head()"
   ]
  },
  {
   "cell_type": "code",
   "execution_count": 6,
   "id": "db6527b5-e13d-4b5a-83ec-d5427793dcb1",
   "metadata": {},
   "outputs": [
    {
     "data": {
      "text/plain": [
       "pandas.core.frame.DataFrame"
      ]
     },
     "execution_count": 6,
     "metadata": {},
     "output_type": "execute_result"
    }
   ],
   "source": [
    "type(data_set)"
   ]
  },
  {
   "cell_type": "code",
   "execution_count": 7,
   "id": "c073c837-c629-49cb-9263-19e848a51102",
   "metadata": {},
   "outputs": [
    {
     "data": {
      "text/plain": [
       "(95910, 13)"
      ]
     },
     "execution_count": 7,
     "metadata": {},
     "output_type": "execute_result"
    }
   ],
   "source": [
    "data_set.shape"
   ]
  },
  {
   "cell_type": "code",
   "execution_count": 8,
   "id": "75982e32-d312-4d14-8d9e-de854c59ae37",
   "metadata": {},
   "outputs": [],
   "source": [
    "# Set the columns for the data (df) for better readability using the provided dictionary\n",
    "data_set.columns = [\n",
    "    \"Order_DateTime\",\n",
    "    \"Order_ID\",\n",
    "    \"Product_ID\",\n",
    "    \"SKU_Quantity\",\n",
    "    \"Category_ID\",\n",
    "    \"Category_Alias\",\n",
    "    \"Brand_ID\",\n",
    "    \"Price_in_USD\",\n",
    "    \"User_ID\",\n",
    "    \"Product_Gender\",\n",
    "    \"Main_Color\",\n",
    "    \"Main_Metal\",\n",
    "    \"Main_Gem\"]"
   ]
  },
  {
   "cell_type": "code",
   "execution_count": 9,
   "id": "eb87a18c-0a11-43bd-a0ca-812e7dc31ca9",
   "metadata": {},
   "outputs": [
    {
     "data": {
      "text/html": [
       "<div>\n",
       "<style scoped>\n",
       "    .dataframe tbody tr th:only-of-type {\n",
       "        vertical-align: middle;\n",
       "    }\n",
       "\n",
       "    .dataframe tbody tr th {\n",
       "        vertical-align: top;\n",
       "    }\n",
       "\n",
       "    .dataframe thead th {\n",
       "        text-align: right;\n",
       "    }\n",
       "</style>\n",
       "<table border=\"1\" class=\"dataframe\">\n",
       "  <thead>\n",
       "    <tr style=\"text-align: right;\">\n",
       "      <th></th>\n",
       "      <th>Order_DateTime</th>\n",
       "      <th>Order_ID</th>\n",
       "      <th>Product_ID</th>\n",
       "      <th>SKU_Quantity</th>\n",
       "      <th>Category_ID</th>\n",
       "      <th>Category_Alias</th>\n",
       "      <th>Brand_ID</th>\n",
       "      <th>Price_in_USD</th>\n",
       "      <th>User_ID</th>\n",
       "      <th>Product_Gender</th>\n",
       "      <th>Main_Color</th>\n",
       "      <th>Main_Metal</th>\n",
       "      <th>Main_Gem</th>\n",
       "    </tr>\n",
       "  </thead>\n",
       "  <tbody>\n",
       "    <tr>\n",
       "      <th>0</th>\n",
       "      <td>2018-12-01 17:38:31 UTC</td>\n",
       "      <td>1924899396621697920</td>\n",
       "      <td>1806829193678291446</td>\n",
       "      <td>1</td>\n",
       "      <td>1.806829e+18</td>\n",
       "      <td>NaN</td>\n",
       "      <td>NaN</td>\n",
       "      <td>212.14</td>\n",
       "      <td>1.515916e+18</td>\n",
       "      <td>NaN</td>\n",
       "      <td>yellow</td>\n",
       "      <td>gold</td>\n",
       "      <td>NaN</td>\n",
       "    </tr>\n",
       "    <tr>\n",
       "      <th>1</th>\n",
       "      <td>2018-12-02 13:53:42 UTC</td>\n",
       "      <td>1925511016616034733</td>\n",
       "      <td>1842214461889315556</td>\n",
       "      <td>1</td>\n",
       "      <td>1.806829e+18</td>\n",
       "      <td>jewelry.pendant</td>\n",
       "      <td>1.0</td>\n",
       "      <td>54.66</td>\n",
       "      <td>1.515916e+18</td>\n",
       "      <td>f</td>\n",
       "      <td>white</td>\n",
       "      <td>gold</td>\n",
       "      <td>sapphire</td>\n",
       "    </tr>\n",
       "    <tr>\n",
       "      <th>2</th>\n",
       "      <td>2018-12-02 17:44:02 UTC</td>\n",
       "      <td>1925626951238681511</td>\n",
       "      <td>1835566849434059453</td>\n",
       "      <td>1</td>\n",
       "      <td>1.806829e+18</td>\n",
       "      <td>jewelry.pendant</td>\n",
       "      <td>0.0</td>\n",
       "      <td>88.90</td>\n",
       "      <td>1.515916e+18</td>\n",
       "      <td>f</td>\n",
       "      <td>red</td>\n",
       "      <td>gold</td>\n",
       "      <td>diamond</td>\n",
       "    </tr>\n",
       "    <tr>\n",
       "      <th>3</th>\n",
       "      <td>2018-12-02 21:30:19 UTC</td>\n",
       "      <td>1925740842841014667</td>\n",
       "      <td>1873936840742928865</td>\n",
       "      <td>1</td>\n",
       "      <td>1.806829e+18</td>\n",
       "      <td>jewelry.necklace</td>\n",
       "      <td>0.0</td>\n",
       "      <td>417.67</td>\n",
       "      <td>1.515916e+18</td>\n",
       "      <td>NaN</td>\n",
       "      <td>red</td>\n",
       "      <td>gold</td>\n",
       "      <td>amethyst</td>\n",
       "    </tr>\n",
       "    <tr>\n",
       "      <th>4</th>\n",
       "      <td>2018-12-02 22:09:34 UTC</td>\n",
       "      <td>1925760595336888995</td>\n",
       "      <td>1835566854827934449</td>\n",
       "      <td>1</td>\n",
       "      <td>1.806829e+18</td>\n",
       "      <td>jewelry.earring</td>\n",
       "      <td>1.0</td>\n",
       "      <td>102.27</td>\n",
       "      <td>1.515916e+18</td>\n",
       "      <td>NaN</td>\n",
       "      <td>red</td>\n",
       "      <td>gold</td>\n",
       "      <td>NaN</td>\n",
       "    </tr>\n",
       "  </tbody>\n",
       "</table>\n",
       "</div>"
      ],
      "text/plain": [
       "            Order_DateTime             Order_ID           Product_ID  \\\n",
       "0  2018-12-01 17:38:31 UTC  1924899396621697920  1806829193678291446   \n",
       "1  2018-12-02 13:53:42 UTC  1925511016616034733  1842214461889315556   \n",
       "2  2018-12-02 17:44:02 UTC  1925626951238681511  1835566849434059453   \n",
       "3  2018-12-02 21:30:19 UTC  1925740842841014667  1873936840742928865   \n",
       "4  2018-12-02 22:09:34 UTC  1925760595336888995  1835566854827934449   \n",
       "\n",
       "   SKU_Quantity   Category_ID    Category_Alias  Brand_ID  Price_in_USD  \\\n",
       "0             1  1.806829e+18               NaN       NaN        212.14   \n",
       "1             1  1.806829e+18   jewelry.pendant       1.0         54.66   \n",
       "2             1  1.806829e+18   jewelry.pendant       0.0         88.90   \n",
       "3             1  1.806829e+18  jewelry.necklace       0.0        417.67   \n",
       "4             1  1.806829e+18   jewelry.earring       1.0        102.27   \n",
       "\n",
       "        User_ID Product_Gender Main_Color Main_Metal  Main_Gem  \n",
       "0  1.515916e+18            NaN     yellow       gold       NaN  \n",
       "1  1.515916e+18              f      white       gold  sapphire  \n",
       "2  1.515916e+18              f        red       gold   diamond  \n",
       "3  1.515916e+18            NaN        red       gold  amethyst  \n",
       "4  1.515916e+18            NaN        red       gold       NaN  "
      ]
     },
     "execution_count": 9,
     "metadata": {},
     "output_type": "execute_result"
    }
   ],
   "source": [
    "data_set.head()"
   ]
  },
  {
   "cell_type": "code",
   "execution_count": 69,
   "id": "fe18e3e1-1b2c-4990-a0e2-cc4cdff20235",
   "metadata": {},
   "outputs": [
    {
     "data": {
      "text/plain": [
       "Order_DateTime        0\n",
       "Order_ID              0\n",
       "Product_ID            0\n",
       "SKU_Quantity          0\n",
       "Category_ID        5352\n",
       "Category_Alias     9933\n",
       "Brand_ID           4785\n",
       "Price_in_USD       5352\n",
       "User_ID            5352\n",
       "Product_Gender    48167\n",
       "Main_Color         7660\n",
       "Main_Metal         5462\n",
       "Main_Gem          34058\n",
       "dtype: int64"
      ]
     },
     "execution_count": 69,
     "metadata": {},
     "output_type": "execute_result"
    }
   ],
   "source": [
    "# check for and count missing values\n",
    "data_set.isnull().sum()\n",
    "# data_set.isnull().value_counts()"
   ]
  },
  {
   "cell_type": "code",
   "execution_count": 12,
   "id": "a99afc6f-865d-49fa-a234-a334915e849f",
   "metadata": {},
   "outputs": [
    {
     "data": {
      "text/plain": [
       "Order_DateTime    74504\n",
       "Order_ID          74759\n",
       "Product_ID         9613\n",
       "SKU_Quantity          1\n",
       "Category_ID          25\n",
       "Category_Alias      218\n",
       "Brand_ID           2537\n",
       "Price_in_USD       3166\n",
       "User_ID           31079\n",
       "Product_Gender        2\n",
       "Main_Color            5\n",
       "Main_Metal            3\n",
       "Main_Gem             30\n",
       "dtype: int64"
      ]
     },
     "execution_count": 12,
     "metadata": {},
     "output_type": "execute_result"
    }
   ],
   "source": [
    "# When exploring the data, it is good to check its FEATURE CARDINALITY\n",
    "data_set.nunique()"
   ]
  },
  {
   "cell_type": "code",
   "execution_count": 13,
   "id": "abf0e84d-44da-45a5-b044-b956ff2dab11",
   "metadata": {},
   "outputs": [
    {
     "data": {
      "text/html": [
       "<div>\n",
       "<style scoped>\n",
       "    .dataframe tbody tr th:only-of-type {\n",
       "        vertical-align: middle;\n",
       "    }\n",
       "\n",
       "    .dataframe tbody tr th {\n",
       "        vertical-align: top;\n",
       "    }\n",
       "\n",
       "    .dataframe thead th {\n",
       "        text-align: right;\n",
       "    }\n",
       "</style>\n",
       "<table border=\"1\" class=\"dataframe\">\n",
       "  <thead>\n",
       "    <tr style=\"text-align: right;\">\n",
       "      <th></th>\n",
       "      <th>Order_ID</th>\n",
       "      <th>Product_ID</th>\n",
       "      <th>SKU_Quantity</th>\n",
       "      <th>Category_ID</th>\n",
       "      <th>Brand_ID</th>\n",
       "      <th>Price_in_USD</th>\n",
       "      <th>User_ID</th>\n",
       "    </tr>\n",
       "  </thead>\n",
       "  <tbody>\n",
       "    <tr>\n",
       "      <th>count</th>\n",
       "      <td>9.591000e+04</td>\n",
       "      <td>9.591000e+04</td>\n",
       "      <td>95910.0</td>\n",
       "      <td>9.055800e+04</td>\n",
       "      <td>9.112500e+04</td>\n",
       "      <td>90558.000000</td>\n",
       "      <td>9.055800e+04</td>\n",
       "    </tr>\n",
       "    <tr>\n",
       "      <th>mean</th>\n",
       "      <td>2.485191e+18</td>\n",
       "      <td>1.815970e+18</td>\n",
       "      <td>1.0</td>\n",
       "      <td>1.805947e+18</td>\n",
       "      <td>8.891036e+16</td>\n",
       "      <td>362.213017</td>\n",
       "      <td>1.512644e+18</td>\n",
       "    </tr>\n",
       "    <tr>\n",
       "      <th>std</th>\n",
       "      <td>1.934750e+17</td>\n",
       "      <td>2.136814e+17</td>\n",
       "      <td>0.0</td>\n",
       "      <td>2.083954e+16</td>\n",
       "      <td>3.559651e+17</td>\n",
       "      <td>444.157665</td>\n",
       "      <td>2.374776e+16</td>\n",
       "    </tr>\n",
       "    <tr>\n",
       "      <th>min</th>\n",
       "      <td>1.924899e+18</td>\n",
       "      <td>1.313551e+18</td>\n",
       "      <td>1.0</td>\n",
       "      <td>1.313678e+18</td>\n",
       "      <td>0.000000e+00</td>\n",
       "      <td>0.990000</td>\n",
       "      <td>1.313554e+18</td>\n",
       "    </tr>\n",
       "    <tr>\n",
       "      <th>25%</th>\n",
       "      <td>2.379732e+18</td>\n",
       "      <td>1.515966e+18</td>\n",
       "      <td>1.0</td>\n",
       "      <td>1.806829e+18</td>\n",
       "      <td>0.000000e+00</td>\n",
       "      <td>145.620000</td>\n",
       "      <td>1.515916e+18</td>\n",
       "    </tr>\n",
       "    <tr>\n",
       "      <th>50%</th>\n",
       "      <td>2.524282e+18</td>\n",
       "      <td>1.956664e+18</td>\n",
       "      <td>1.0</td>\n",
       "      <td>1.806829e+18</td>\n",
       "      <td>1.000000e+00</td>\n",
       "      <td>258.770000</td>\n",
       "      <td>1.515916e+18</td>\n",
       "    </tr>\n",
       "    <tr>\n",
       "      <th>75%</th>\n",
       "      <td>2.644347e+18</td>\n",
       "      <td>1.956664e+18</td>\n",
       "      <td>1.0</td>\n",
       "      <td>1.806829e+18</td>\n",
       "      <td>1.000000e+00</td>\n",
       "      <td>431.370000</td>\n",
       "      <td>1.515916e+18</td>\n",
       "    </tr>\n",
       "    <tr>\n",
       "      <th>max</th>\n",
       "      <td>2.719022e+18</td>\n",
       "      <td>2.541962e+18</td>\n",
       "      <td>1.0</td>\n",
       "      <td>1.806829e+18</td>\n",
       "      <td>1.550613e+18</td>\n",
       "      <td>34448.600000</td>\n",
       "      <td>1.554297e+18</td>\n",
       "    </tr>\n",
       "  </tbody>\n",
       "</table>\n",
       "</div>"
      ],
      "text/plain": [
       "           Order_ID    Product_ID  SKU_Quantity   Category_ID      Brand_ID  \\\n",
       "count  9.591000e+04  9.591000e+04       95910.0  9.055800e+04  9.112500e+04   \n",
       "mean   2.485191e+18  1.815970e+18           1.0  1.805947e+18  8.891036e+16   \n",
       "std    1.934750e+17  2.136814e+17           0.0  2.083954e+16  3.559651e+17   \n",
       "min    1.924899e+18  1.313551e+18           1.0  1.313678e+18  0.000000e+00   \n",
       "25%    2.379732e+18  1.515966e+18           1.0  1.806829e+18  0.000000e+00   \n",
       "50%    2.524282e+18  1.956664e+18           1.0  1.806829e+18  1.000000e+00   \n",
       "75%    2.644347e+18  1.956664e+18           1.0  1.806829e+18  1.000000e+00   \n",
       "max    2.719022e+18  2.541962e+18           1.0  1.806829e+18  1.550613e+18   \n",
       "\n",
       "       Price_in_USD       User_ID  \n",
       "count  90558.000000  9.055800e+04  \n",
       "mean     362.213017  1.512644e+18  \n",
       "std      444.157665  2.374776e+16  \n",
       "min        0.990000  1.313554e+18  \n",
       "25%      145.620000  1.515916e+18  \n",
       "50%      258.770000  1.515916e+18  \n",
       "75%      431.370000  1.515916e+18  \n",
       "max    34448.600000  1.554297e+18  "
      ]
     },
     "execution_count": 13,
     "metadata": {},
     "output_type": "execute_result"
    }
   ],
   "source": [
    "# Get a statistical summary of the data\n",
    "data_set.describe()"
   ]
  },
  {
   "cell_type": "code",
   "execution_count": 16,
   "id": "596c4a60-0594-472a-a885-5238a5b57db3",
   "metadata": {},
   "outputs": [
    {
     "name": "stdout",
     "output_type": "stream",
     "text": [
      "<class 'pandas.core.frame.DataFrame'>\n",
      "RangeIndex: 95910 entries, 0 to 95909\n",
      "Data columns (total 13 columns):\n",
      " #   Column          Non-Null Count  Dtype  \n",
      "---  ------          --------------  -----  \n",
      " 0   Order_DateTime  95910 non-null  object \n",
      " 1   Order_ID        95910 non-null  int64  \n",
      " 2   Product_ID      95910 non-null  int64  \n",
      " 3   SKU_Quantity    95910 non-null  int64  \n",
      " 4   Category_ID     90558 non-null  float64\n",
      " 5   Category_Alias  85977 non-null  object \n",
      " 6   Brand_ID        91125 non-null  float64\n",
      " 7   Price_in_USD    90558 non-null  float64\n",
      " 8   User_ID         90558 non-null  float64\n",
      " 9   Product_Gender  47743 non-null  object \n",
      " 10  Main_Color      88250 non-null  object \n",
      " 11  Main_Metal      90448 non-null  object \n",
      " 12  Main_Gem        61852 non-null  object \n",
      "dtypes: float64(4), int64(3), object(6)\n",
      "memory usage: 9.5+ MB\n"
     ]
    }
   ],
   "source": [
    "# also\n",
    "data_set.info()"
   ]
  },
  {
   "cell_type": "code",
   "execution_count": 17,
   "id": "90de89b1-aa22-40dc-bc93-5109c2278c6f",
   "metadata": {},
   "outputs": [
    {
     "data": {
      "text/plain": [
       "2589"
      ]
     },
     "execution_count": 17,
     "metadata": {},
     "output_type": "execute_result"
    }
   ],
   "source": [
    "# Check duplicate values\n",
    "duplicate_entries = len(data_set.loc[data_set.duplicated()])\n",
    "duplicate_entries"
   ]
  },
  {
   "cell_type": "code",
   "execution_count": 18,
   "id": "861fab5c-21bb-4f7c-98ac-643429ee95ce",
   "metadata": {},
   "outputs": [
    {
     "data": {
      "text/plain": [
       "['SKU_Quantity']"
      ]
     },
     "execution_count": 18,
     "metadata": {},
     "output_type": "execute_result"
    }
   ],
   "source": [
    "# Invarian features: Features with cadinality of 1\n",
    "invariant_feature = data_set.nunique()[data_set.nunique() == 1].index.tolist()\n",
    "invariant_feature"
   ]
  },
  {
   "cell_type": "code",
   "execution_count": 19,
   "id": "d9fbfdd7",
   "metadata": {},
   "outputs": [
    {
     "data": {
      "text/plain": [
       "18.95906072625981"
      ]
     },
     "execution_count": 19,
     "metadata": {},
     "output_type": "execute_result"
    }
   ],
   "source": [
    "# Check for label distribution\n",
    "label_distribution = data_set[\"Price_in_USD\"].skew()\n",
    "label_distribution"
   ]
  },
  {
   "cell_type": "code",
   "execution_count": 20,
   "id": "95600d31",
   "metadata": {},
   "outputs": [
    {
     "data": {
      "image/png": "[encoded data removed]",
      "text/plain": [
       "<Figure size 2500x500 with 1 Axes>"
      ]
     },
     "metadata": {},
     "output_type": "display_data"
    }
   ],
   "source": [
    "# The price (the label feature) in the data has a high skew.\n",
    "# Let's visualize it\n",
    "plt.figure(figsize = (25, 5))\n",
    "sns.kdeplot(data = data_set, x = \"Price_in_USD\") # Kernel Density Estimate (KDE) Plot\n",
    "plt.xlabel(\"Price in US Dollars\")\n",
    "plt.ylabel(\"Price Frequency\")\n",
    "plt.tight_layout()\n",
    "plt.show(); plt.close()"
   ]
  },
  {
   "cell_type": "code",
   "execution_count": 21,
   "id": "c120bf6d",
   "metadata": {},
   "outputs": [
    {
     "data": {
      "text/plain": [
       "1054.8979068506155"
      ]
     },
     "execution_count": 21,
     "metadata": {},
     "output_type": "execute_result"
    }
   ],
   "source": [
    "# Price kurtosis\n",
    "data_set[\"Price_in_USD\"].kurtosis()"
   ]
  },
  {
   "cell_type": "code",
   "execution_count": 71,
   "id": "d7257e0e",
   "metadata": {},
   "outputs": [
    {
     "data": {
      "text/plain": [
       "<AxesSubplot:xlabel='Price_in_USD', ylabel='Density'>"
      ]
     },
     "execution_count": 71,
     "metadata": {},
     "output_type": "execute_result"
    },
    {
     "data": {
      "image/png": "[encoded data removed]",
      "text/plain": [
       "<Figure size 640x480 with 1 Axes>"
      ]
     },
     "metadata": {},
     "output_type": "display_data"
    }
   ],
   "source": [
    "sns.kdeplot(data_set['Price_in_USD'], fill=True)"
   ]
  },
  {
   "cell_type": "code",
   "execution_count": 74,
   "id": "f0f3cf60",
   "metadata": {},
   "outputs": [
    {
     "data": {
      "text/plain": [
       "count    90558.000000\n",
       "mean       362.213017\n",
       "std        444.157665\n",
       "min          0.990000\n",
       "25%        145.620000\n",
       "50%        258.770000\n",
       "75%        431.370000\n",
       "max      34448.600000\n",
       "Name: Price_in_USD, dtype: float64"
      ]
     },
     "execution_count": 74,
     "metadata": {},
     "output_type": "execute_result"
    }
   ],
   "source": [
    "data_set['Price_in_USD'].describe()"
   ]
  },
  {
   "cell_type": "code",
   "execution_count": 22,
   "id": "d15c872d",
   "metadata": {},
   "outputs": [
    {
     "data": {
      "text/plain": [
       "f    47379\n",
       "m      364\n",
       "Name: Product_Gender, dtype: int64"
      ]
     },
     "execution_count": 22,
     "metadata": {},
     "output_type": "execute_result"
    }
   ],
   "source": [
    "# Target gender analysis\n",
    "data_set[\"Product_Gender\"].value_counts()"
   ]
  },
  {
   "cell_type": "code",
   "execution_count": 23,
   "id": "7bbad5bf",
   "metadata": {},
   "outputs": [
    {
     "data": {
      "text/plain": [
       "f    0.992376\n",
       "m    0.007624\n",
       "Name: Product_Gender, dtype: float64"
      ]
     },
     "execution_count": 23,
     "metadata": {},
     "output_type": "execute_result"
    }
   ],
   "source": [
    "# In percentage\n",
    "data_set[\"Product_Gender\"].value_counts(normalize = True)"
   ]
  },
  {
   "cell_type": "code",
   "execution_count": 24,
   "id": "6fe5c242",
   "metadata": {},
   "outputs": [
    {
     "data": {
      "image/png": "[encoded data removed]",
      "text/plain": [
       "<Figure size 800x500 with 1 Axes>"
      ]
     },
     "metadata": {},
     "output_type": "display_data"
    }
   ],
   "source": [
    "# Visualize gender distribution\n",
    "plt.figure(figsize = (8, 5))\n",
    "sns.countplot(data = data_set, x = \"Product_Gender\")\n",
    "plt.xlabel(\"Gender Typer\")\n",
    "plt.ylabel(\"Quantity\")\n",
    "plt.show(); plt.close()"
   ]
  },
  {
   "cell_type": "code",
   "execution_count": 27,
   "id": "2be42c3c",
   "metadata": {},
   "outputs": [
    {
     "data": {
      "text/plain": [
       "25"
      ]
     },
     "execution_count": 27,
     "metadata": {},
     "output_type": "execute_result"
    }
   ],
   "source": [
    "# Jewelry Category analysis: We have 2 features pointing to categories: ID and ALIAS\n",
    "data_set[\"Category_ID\"].nunique()"
   ]
  },
  {
   "cell_type": "code",
   "execution_count": 28,
   "id": "cfb8f039",
   "metadata": {},
   "outputs": [
    {
     "data": {
      "text/plain": [
       "array([1.80682920e+18, 1.80682920e+18, 1.80682920e+18, 1.80682920e+18,\n",
       "       1.80682920e+18, 1.80682920e+18, 1.80682920e+18, 1.80682920e+18,\n",
       "       1.80682920e+18,            nan, 1.80682920e+18, 1.31367763e+18,\n",
       "       1.31367763e+18, 1.31367763e+18, 1.80682920e+18, 1.80682920e+18,\n",
       "       1.80682920e+18, 1.31367763e+18, 1.31367763e+18, 1.31367763e+18,\n",
       "       1.31367763e+18, 1.31367763e+18, 1.31367763e+18, 1.31367763e+18,\n",
       "       1.31367763e+18, 1.31367763e+18])"
      ]
     },
     "execution_count": 28,
     "metadata": {},
     "output_type": "execute_result"
    }
   ],
   "source": [
    "data_set[\"Category_ID\"].unique()"
   ]
  },
  {
   "cell_type": "code",
   "execution_count": 82,
   "id": "af512ea0",
   "metadata": {},
   "outputs": [
    {
     "data": {
      "text/plain": [
       "218"
      ]
     },
     "execution_count": 82,
     "metadata": {},
     "output_type": "execute_result"
    }
   ],
   "source": [
    "data_set[\"Category_Alias\"].nunique()"
   ]
  },
  {
   "cell_type": "code",
   "execution_count": 29,
   "id": "57337333",
   "metadata": {},
   "outputs": [
    {
     "data": {
      "text/plain": [
       "array([nan, 'jewelry.pendant', 'jewelry.necklace', 'jewelry.earring',\n",
       "       'jewelry.ring', 'jewelry.brooch', 'jewelry.bracelet',\n",
       "       'electronics.clocks', 'jewelry.souvenir', '230.12', '202.36',\n",
       "       '1098.03', '321.78', '1128.62', '81.27', '34.25', '582.16',\n",
       "       '227.37', '234.22', '150.55', '131.82', '2123.15', '109.45',\n",
       "       '49.22', '472.47', '205.38', '2746.44', '51.08', '231.12', '76.97',\n",
       "       '3054.73', '184.90', '380.10', '357.49', '15.47', '135.33',\n",
       "       '719.75', '93.01', '177.95', 'jewelry.stud', '102.10', '595.75',\n",
       "       '469.56', '427.07', '53.62', '77.53', '1469.18', '355.27',\n",
       "       '184.89', '154.66', '300.58', '83.73', '271.19', '3294.21',\n",
       "       '278.04', '3626.26', '126.03', '283.52', '114.38', '89.04', '8.22',\n",
       "       '124.88', '89.73', '171.23', '136.93', '19.04', '158.77', '187.10',\n",
       "       '151.92', '1845.89', '87.23', '248.58', '596.48', '208.88',\n",
       "       '193.11', '169.84', '1447.68', '45.07', '136.85', '282.05',\n",
       "       '61.51', '210.21', '137.12', '147.81', '419.45', '825.27',\n",
       "       '300.16', '541.78', '308.74', '766.85', '410.82', '101.23', '2.88',\n",
       "       '1356.16', '13.42', '35.21', '134.79', '626.58', '13.70', '108.53',\n",
       "       '119.01', '7.40', '4.79', '153.97', '482.47', '427.36', '289.18',\n",
       "       '25.48', '1858.49', '21.70', '11.77', '198.89', '17.51', '574.66',\n",
       "       '1319.93', '393.05', '358.22', '2282.19', '114.93', '371.23',\n",
       "       '63.56', '88.77', '133.70', '117.81', '166.03', '130.41', '195.75',\n",
       "       '104.79', '228.59', '1686.93', '65.89', '242.19', '252.47',\n",
       "       '210.41', '363.42', '149.04', '157.95', '176.30', '160.96',\n",
       "       '316.30', '258.77', '268.36', '838.90', '250.96', '832.01',\n",
       "       '312.33', '318.71', '323.60', '205.34', '608.22', '343.84',\n",
       "       '598.22', '508.08', '245.67', '338.36', '75.21', '573.81',\n",
       "       '691.51', '476.68', '247.68', '286.71', '863.67', '236.58',\n",
       "       '644.66', '40.82', '1376.99', '1.23', '621.23', '3454.79', '65.62',\n",
       "       '59.73', '571.30', '70.96', '271.26', '958.84', '527.26', '271.16',\n",
       "       '284.66', '261.64', '493.01', '35.48', '446.16', '526.41',\n",
       "       '2517.08', '331.51', '312.88', '148.63', '451.21', '369.82',\n",
       "       '537.40', '231.51', '316.34', '451.10', '283.49', '787.67',\n",
       "       '131.92', '495.48', '5.48', '186.03', '484.49', '331.23', '133.85',\n",
       "       '323.70', '2635.07', '297.22', '0.00', '259.58', '108.33',\n",
       "       '4876.49', '308.08', '190.27', '916.44', '132.53', '1829.37',\n",
       "       '2208.90', '75.76', '278.01', '662.30', '253.77'], dtype=object)"
      ]
     },
     "execution_count": 29,
     "metadata": {},
     "output_type": "execute_result"
    }
   ],
   "source": [
    "# From the above, we need to look deeper into the data.\n",
    "# It doesn't look like the 'Category ID' (25) and 'Category ALIAS' (218) are pointing to the same data\n",
    "data_set[\"Category_Alias\"].unique()"
   ]
  },
  {
   "cell_type": "code",
   "execution_count": 87,
   "id": "647bfebf",
   "metadata": {},
   "outputs": [
    {
     "name": "stdout",
     "output_type": "stream",
     "text": [
      "['jewelry.pendant', 'jewelry.necklace', 'jewelry.earring', 'jewelry.ring', 'jewelry.brooch', 'jewelry.bracelet', 'jewelry.souvenir', 'jewelry.stud'] \n",
      "\n",
      " 8 unique categories.\n"
     ]
    }
   ],
   "source": [
    "# Lets extract the actual categories by eliminating the corrupted ones\n",
    "categories = data_set[\"Category_Alias\"].unique().tolist()\n",
    "categories = [c for c in categories if isinstance(c, str) and \"jewelry\" in c]\n",
    "print(categories, '\\n\\n', len(categories), 'unique categories.')"
   ]
  },
  {
   "cell_type": "code",
   "execution_count": null,
   "id": "79179125",
   "metadata": {},
   "outputs": [],
   "source": [
    "# Percentage of missing values in fields of the original data set\n",
    "data_set.isnull().sum() * 100 / len(data_set)"
   ]
  },
  {
   "cell_type": "code",
   "execution_count": 89,
   "id": "63a58c65",
   "metadata": {},
   "outputs": [
    {
     "data": {
      "text/plain": [
       "(80458, 13)"
      ]
     },
     "execution_count": 89,
     "metadata": {},
     "output_type": "execute_result"
    }
   ],
   "source": [
    "# Remove the corruptedcategories\n",
    "data_set = data_set.loc[data_set[\"Category_Alias\"].isin(categories)]\n",
    "data_set.shape"
   ]
  },
  {
   "cell_type": "code",
   "execution_count": null,
   "id": "2683d065",
   "metadata": {},
   "outputs": [],
   "source": [
    "# The trimed data set represents 83.89% of the original data"
   ]
  },
  {
   "cell_type": "code",
   "execution_count": 90,
   "id": "5c24b252",
   "metadata": {},
   "outputs": [
    {
     "data": {
      "text/plain": [
       "16"
      ]
     },
     "execution_count": 90,
     "metadata": {},
     "output_type": "execute_result"
    }
   ],
   "source": [
    "data_set[\"Category_ID\"].nunique()"
   ]
  },
  {
   "cell_type": "code",
   "execution_count": 91,
   "id": "a01e6e95",
   "metadata": {},
   "outputs": [
    {
     "data": {
      "text/plain": [
       "array([1.80682920e+18, 1.80682920e+18, 1.80682920e+18, 1.80682920e+18,\n",
       "       1.80682920e+18, 1.80682920e+18, 1.80682920e+18, 1.31367763e+18,\n",
       "       1.31367763e+18, 1.80682920e+18, 1.31367763e+18, 1.31367763e+18,\n",
       "       1.31367763e+18, 1.31367763e+18, 1.31367763e+18, 1.31367763e+18])"
      ]
     },
     "execution_count": 91,
     "metadata": {},
     "output_type": "execute_result"
    }
   ],
   "source": [
    "data_set[\"Category_ID\"].unique()"
   ]
  },
  {
   "cell_type": "code",
   "execution_count": null,
   "id": "e1d8ce09",
   "metadata": {},
   "outputs": [],
   "source": [
    "# After triming, unique category alias and category ID are still not the same.\n",
    "# The data integrity needs to be proved. A better, cleaner data set may be the way out."
   ]
  },
  {
   "cell_type": "code",
   "execution_count": 94,
   "id": "f2110f1e",
   "metadata": {},
   "outputs": [
    {
     "data": {
      "text/plain": [
       "Order_DateTime     0.000000\n",
       "Order_ID           0.000000\n",
       "Product_ID         0.000000\n",
       "SKU_Quantity       0.000000\n",
       "Category_ID        0.000000\n",
       "Category_Alias     0.000000\n",
       "Brand_ID           4.309081\n",
       "Price_in_USD       0.000000\n",
       "User_ID            0.000000\n",
       "Product_Gender    44.842029\n",
       "Main_Color         2.656044\n",
       "Main_Metal         0.110617\n",
       "Main_Gem          24.232519\n",
       "dtype: float64"
      ]
     },
     "execution_count": 94,
     "metadata": {},
     "output_type": "execute_result"
    }
   ],
   "source": [
    "# Percentage of missing values in fields of the trimed data set\n",
    "data_set.isnull().sum() * 100 / len(data_set)"
   ]
  },
  {
   "cell_type": "code",
   "execution_count": null,
   "id": "af94b33b",
   "metadata": {},
   "outputs": [],
   "source": [
    "# The missing values reduced. It may mean that majority of the missing values are due to the Category data corruption"
   ]
  },
  {
   "cell_type": "code",
   "execution_count": 35,
   "id": "73a0ce64",
   "metadata": {},
   "outputs": [
    {
     "data": {
      "image/png": "[encoded data removed]",
      "text/plain": [
       "<Figure size 600x400 with 1 Axes>"
      ]
     },
     "metadata": {},
     "output_type": "display_data"
    }
   ],
   "source": [
    "# Jewelry category distribution visualization\n",
    "subdata = data_set[\"Category_Alias\"].value_counts()\n",
    "jewelry_categories, counts = subdata.index.tolist(), subdata.values.tolist()\n",
    "plt.figure(figsize = (6, 4))\n",
    "plt.pie(x = counts, labels = jewelry_categories)\n",
    "plt.show(); plt.close()"
   ]
  },
  {
   "cell_type": "code",
   "execution_count": 36,
   "id": "5afcc155",
   "metadata": {},
   "outputs": [
    {
     "data": {
      "image/png": "[encoded data removed]",
      "text/plain": [
       "<Figure size 1200x400 with 1 Axes>"
      ]
     },
     "metadata": {},
     "output_type": "display_data"
    },
    {
     "data": {
      "text/plain": [
       "(None, <function matplotlib.pyplot.close(fig=None)>)"
      ]
     },
     "execution_count": 36,
     "metadata": {},
     "output_type": "execute_result"
    }
   ],
   "source": [
    "# Category count plot\n",
    "plt.figure(figsize = (12, 4))\n",
    "sns.countplot(data = data_set, x = \"Category_Alias\")\n",
    "plt.xlabel(\"Jewelry Categories\")\n",
    "plt.ylabel(\"Categories Frequency\")\n",
    "plt.show(), plt.close"
   ]
  },
  {
   "cell_type": "code",
   "execution_count": 37,
   "id": "23f380e5",
   "metadata": {},
   "outputs": [
    {
     "data": {
      "image/png": "[encoded data removed]",
      "text/plain": [
       "<Figure size 1200x600 with 1 Axes>"
      ]
     },
     "metadata": {},
     "output_type": "display_data"
    }
   ],
   "source": [
    "# Category representation with respect to gender\n",
    "plt.figure(figsize = (12, 6))\n",
    "sns.countplot(data = data_set, x = \"Category_Alias\", hue = \"Product_Gender\")\n",
    "plt.xlabel(\"Jewelry Categories by Gender\")\n",
    "plt.ylabel(\"Frequency\")\n",
    "plt.show(); plt.close()"
   ]
  },
  {
   "cell_type": "code",
   "execution_count": 95,
   "id": "b56bfad0",
   "metadata": {},
   "outputs": [],
   "source": [
    "# DateTime analysis - see if price varies with month of the year\n",
    "# Get YearOfOrder an OrderMonth from the DateTime column\n",
    "\n",
    "# Ensure the column is parsed as datetime\n",
    "data_set['Order_DateTime'] = pd.to_datetime(data_set['Order_DateTime'], utc=True)\n",
    "\n",
    "# Create new columns for year and month\n",
    "data_set['Year'] = data_set['Order_DateTime'].dt.year\n",
    "data_set['Month'] = data_set['Order_DateTime'].dt.month"
   ]
  },
  {
   "cell_type": "code",
   "execution_count": 98,
   "id": "2596c8c7",
   "metadata": {},
   "outputs": [
    {
     "data": {
      "text/plain": [
       "Index(['Order_DateTime', 'Order_ID', 'Product_ID', 'SKU_Quantity',\n",
       "       'Category_ID', 'Category_Alias', 'Brand_ID', 'Price_in_USD', 'User_ID',\n",
       "       'Product_Gender', 'Main_Color', 'Main_Metal', 'Main_Gem', 'Year',\n",
       "       'Month'],\n",
       "      dtype='object')"
      ]
     },
     "execution_count": 98,
     "metadata": {},
     "output_type": "execute_result"
    }
   ],
   "source": [
    "data_set.columns"
   ]
  },
  {
   "cell_type": "code",
   "execution_count": 99,
   "id": "ea3e58ee",
   "metadata": {},
   "outputs": [
    {
     "data": {
      "text/plain": [
       "12"
      ]
     },
     "execution_count": 99,
     "metadata": {},
     "output_type": "execute_result"
    }
   ],
   "source": [
    "data_set[\"Month\"].nunique()"
   ]
  },
  {
   "cell_type": "code",
   "execution_count": 100,
   "id": "31b6eff0",
   "metadata": {},
   "outputs": [
    {
     "data": {
      "text/plain": [
       "array([12,  1,  2,  3,  4,  5,  6,  7,  8,  9, 10, 11], dtype=int64)"
      ]
     },
     "execution_count": 100,
     "metadata": {},
     "output_type": "execute_result"
    }
   ],
   "source": [
    "data_set[\"Month\"].unique()"
   ]
  },
  {
   "cell_type": "code",
   "execution_count": 101,
   "id": "84268bf6",
   "metadata": {},
   "outputs": [
    {
     "data": {
      "text/plain": [
       "4"
      ]
     },
     "execution_count": 101,
     "metadata": {},
     "output_type": "execute_result"
    }
   ],
   "source": [
    "data_set[\"Year\"].nunique()"
   ]
  },
  {
   "cell_type": "code",
   "execution_count": 102,
   "id": "bdfebe0b",
   "metadata": {},
   "outputs": [
    {
     "data": {
      "text/plain": [
       "array([2018, 2019, 2020, 2021], dtype=int64)"
      ]
     },
     "execution_count": 102,
     "metadata": {},
     "output_type": "execute_result"
    }
   ],
   "source": [
    "data_set[\"Year\"].unique()"
   ]
  },
  {
   "cell_type": "code",
   "execution_count": 103,
   "id": "6b395b31",
   "metadata": {},
   "outputs": [
    {
     "data": {
      "image/png": "[encoded data removed]",
      "text/plain": [
       "<Figure size 1200x400 with 1 Axes>"
      ]
     },
     "metadata": {},
     "output_type": "display_data"
    },
    {
     "data": {
      "text/plain": [
       "(None, <function matplotlib.pyplot.close(fig=None)>)"
      ]
     },
     "execution_count": 103,
     "metadata": {},
     "output_type": "execute_result"
    }
   ],
   "source": [
    "# Per year record count plot\n",
    "plt.figure(figsize = (12, 4))\n",
    "sns.countplot(data = data_set, x = \"Year\")\n",
    "plt.xlabel(\"Year of Order\")\n",
    "plt.ylabel(\"Year Frequency\")\n",
    "plt.show(), plt.close"
   ]
  },
  {
   "cell_type": "code",
   "execution_count": 104,
   "id": "e30e64c8",
   "metadata": {},
   "outputs": [
    {
     "data": {
      "image/png": "[encoded data removed]",
      "text/plain": [
       "<Figure size 1200x400 with 1 Axes>"
      ]
     },
     "metadata": {},
     "output_type": "display_data"
    },
    {
     "data": {
      "text/plain": [
       "(None, <function matplotlib.pyplot.close(fig=None)>)"
      ]
     },
     "execution_count": 104,
     "metadata": {},
     "output_type": "execute_result"
    }
   ],
   "source": [
    "# Per month record count plot\n",
    "plt.figure(figsize = (12, 4))\n",
    "sns.countplot(data = data_set, x = \"Month\")\n",
    "plt.xlabel(\"Order Month\")\n",
    "plt.ylabel(\"Moth Frequency\")\n",
    "plt.show(), plt.close"
   ]
  },
  {
   "cell_type": "code",
   "execution_count": 106,
   "id": "15b60a35",
   "metadata": {},
   "outputs": [
    {
     "data": {
      "image/png": "[encoded data removed]",
      "text/plain": [
       "<Figure size 1200x500 with 1 Axes>"
      ]
     },
     "metadata": {},
     "output_type": "display_data"
    }
   ],
   "source": [
    "# Month variation with respect to years\n",
    "plt.figure(figsize = (12, 5))\n",
    "sns.countplot(data = data_set, x = \"Month\", hue = \"Year\")\n",
    "plt.xlabel(\"Order month wrt year\")\n",
    "plt.ylabel(\"Frequency\")\n",
    "plt.show(); plt.close()"
   ]
  },
  {
   "cell_type": "code",
   "execution_count": 125,
   "id": "265bab50",
   "metadata": {},
   "outputs": [
    {
     "data": {
      "text/plain": [
       "384.45175301036153"
      ]
     },
     "execution_count": 125,
     "metadata": {},
     "output_type": "execute_result"
    }
   ],
   "source": [
    "data_set[data_set[\"Month\"] == 11][\"Price_in_USD\"].mean()"
   ]
  },
  {
   "cell_type": "code",
   "execution_count": 127,
   "id": "e285cfac",
   "metadata": {},
   "outputs": [
    {
     "data": {
      "text/plain": [
       "{12: 318.14,\n",
       " 1: 323.61,\n",
       " 2: 322.6,\n",
       " 3: 327.89,\n",
       " 4: 341.75,\n",
       " 5: 328.57,\n",
       " 6: 339.08,\n",
       " 7: 359.12,\n",
       " 8: 390.96,\n",
       " 9: 380.75,\n",
       " 10: 363.21,\n",
       " 11: 384.45}"
      ]
     },
     "execution_count": 127,
     "metadata": {},
     "output_type": "execute_result"
    }
   ],
   "source": [
    "# Average price per month\n",
    "mean_Monthly_price = {}\n",
    "for m in data_set[\"Month\"].unique():\n",
    "    average = round(data_set[data_set[\"Month\"] == m][\"Price_in_USD\"].mean(), 2)\n",
    "    mean_Monthly_price[m] = average\n",
    "    \n",
    "sorted_items = sorted(mean_Monthly_price.items())\n",
    "months = [item[0] for item in sorted_items]\n",
    "prices = [item[1] for item in sorted_items]\n",
    "\n",
    "# Plotting\n",
    "plt.figure(figsize=(10, 6))\n",
    "plt.bar(months, prices, color='skyblue')\n",
    "plt.xlabel(\"Month\")\n",
    "plt.ylabel(\"Average Price in USD\")\n",
    "plt.title(\"Average Price per Month\")\n",
    "plt.xticks(months)  # Ensure all months are labeled\n",
    "plt.grid(axis='y', linestyle='--', alpha=0.7)\n",
    "plt.tight_layout()\n",
    "plt.show()\n"
   ]
  },
  {
   "cell_type": "code",
   "execution_count": 109,
   "id": "d39f966b",
   "metadata": {},
   "outputs": [
    {
     "name": "stdout",
     "output_type": "stream",
     "text": [
      "<class 'pandas.core.frame.DataFrame'>\n",
      "Int64Index: 80458 entries, 1 to 95909\n",
      "Data columns (total 15 columns):\n",
      " #   Column          Non-Null Count  Dtype              \n",
      "---  ------          --------------  -----              \n",
      " 0   Order_DateTime  80458 non-null  datetime64[ns, UTC]\n",
      " 1   Order_ID        80458 non-null  int64              \n",
      " 2   Product_ID      80458 non-null  int64              \n",
      " 3   SKU_Quantity    80458 non-null  int64              \n",
      " 4   Category_ID     80458 non-null  float64            \n",
      " 5   Category_Alias  80458 non-null  object             \n",
      " 6   Brand_ID        76991 non-null  float64            \n",
      " 7   Price_in_USD    80458 non-null  float64            \n",
      " 8   User_ID         80458 non-null  float64            \n",
      " 9   Product_Gender  44379 non-null  object             \n",
      " 10  Main_Color      78321 non-null  object             \n",
      " 11  Main_Metal      80369 non-null  object             \n",
      " 12  Main_Gem        60961 non-null  object             \n",
      " 13  Year            80458 non-null  int64              \n",
      " 14  Month           80458 non-null  int64              \n",
      "dtypes: datetime64[ns, UTC](1), float64(4), int64(5), object(5)\n",
      "memory usage: 9.8+ MB\n"
     ]
    }
   ],
   "source": [
    "data_set.info()"
   ]
  },
  {
   "cell_type": "code",
   "execution_count": 111,
   "id": "7e3e2909",
   "metadata": {},
   "outputs": [],
   "source": [
    "# Let us drop the original DateTime record (year and month are the needed feature) and SKU_Quantity (Cadinality of 1)\n",
    "data_set = data_set.drop([\"Order_DateTime\", \"SKU_Quantity\"], axis = 1)"
   ]
  },
  {
   "cell_type": "code",
   "execution_count": 112,
   "id": "f06b859e",
   "metadata": {},
   "outputs": [
    {
     "name": "stdout",
     "output_type": "stream",
     "text": [
      "<class 'pandas.core.frame.DataFrame'>\n",
      "Int64Index: 80458 entries, 1 to 95909\n",
      "Data columns (total 13 columns):\n",
      " #   Column          Non-Null Count  Dtype  \n",
      "---  ------          --------------  -----  \n",
      " 0   Order_ID        80458 non-null  int64  \n",
      " 1   Product_ID      80458 non-null  int64  \n",
      " 2   Category_ID     80458 non-null  float64\n",
      " 3   Category_Alias  80458 non-null  object \n",
      " 4   Brand_ID        76991 non-null  float64\n",
      " 5   Price_in_USD    80458 non-null  float64\n",
      " 6   User_ID         80458 non-null  float64\n",
      " 7   Product_Gender  44379 non-null  object \n",
      " 8   Main_Color      78321 non-null  object \n",
      " 9   Main_Metal      80369 non-null  object \n",
      " 10  Main_Gem        60961 non-null  object \n",
      " 11  Year            80458 non-null  int64  \n",
      " 12  Month           80458 non-null  int64  \n",
      "dtypes: float64(4), int64(4), object(5)\n",
      "memory usage: 8.6+ MB\n"
     ]
    }
   ],
   "source": [
    "data_set.info()"
   ]
  },
  {
   "cell_type": "code",
   "execution_count": 114,
   "id": "f157bd51",
   "metadata": {},
   "outputs": [],
   "source": [
    "# Drop Order ID, Category ID (use Alias), User ID\n",
    "data_set = data_set.drop([\"Order_ID\", \"Category_ID\", \"User_ID\"], axis = 1)"
   ]
  },
  {
   "cell_type": "code",
   "execution_count": 115,
   "id": "e3b4abf3",
   "metadata": {},
   "outputs": [
    {
     "name": "stdout",
     "output_type": "stream",
     "text": [
      "<class 'pandas.core.frame.DataFrame'>\n",
      "Int64Index: 80458 entries, 1 to 95909\n",
      "Data columns (total 10 columns):\n",
      " #   Column          Non-Null Count  Dtype  \n",
      "---  ------          --------------  -----  \n",
      " 0   Product_ID      80458 non-null  int64  \n",
      " 1   Category_Alias  80458 non-null  object \n",
      " 2   Brand_ID        76991 non-null  float64\n",
      " 3   Price_in_USD    80458 non-null  float64\n",
      " 4   Product_Gender  44379 non-null  object \n",
      " 5   Main_Color      78321 non-null  object \n",
      " 6   Main_Metal      80369 non-null  object \n",
      " 7   Main_Gem        60961 non-null  object \n",
      " 8   Year            80458 non-null  int64  \n",
      " 9   Month           80458 non-null  int64  \n",
      "dtypes: float64(2), int64(3), object(5)\n",
      "memory usage: 6.8+ MB\n"
     ]
    }
   ],
   "source": [
    "data_set.info()"
   ]
  },
  {
   "cell_type": "code",
   "execution_count": 116,
   "id": "00ddc167",
   "metadata": {},
   "outputs": [
    {
     "data": {
      "text/plain": [
       "6"
      ]
     },
     "execution_count": 116,
     "metadata": {},
     "output_type": "execute_result"
    }
   ],
   "source": [
    "data_set[\"Brand_ID\"].nunique()"
   ]
  },
  {
   "cell_type": "code",
   "execution_count": 117,
   "id": "a36d19b1",
   "metadata": {},
   "outputs": [
    {
     "data": {
      "text/plain": [
       "array([ 1.,  0.,  2.,  4., nan,  5.,  3.])"
      ]
     },
     "execution_count": 117,
     "metadata": {},
     "output_type": "execute_result"
    }
   ],
   "source": [
    "data_set[\"Brand_ID\"].unique()"
   ]
  },
  {
   "cell_type": "code",
   "execution_count": 38,
   "id": "1fa55873",
   "metadata": {},
   "outputs": [],
   "source": [
    "# Encoding strings as numerical features\n",
    "# coded_trimed = trimed # preserve the trimed for now\n",
    "data_set = data_set.copy()"
   ]
  },
  {
   "cell_type": "code",
   "execution_count": 39,
   "id": "7043381d",
   "metadata": {},
   "outputs": [],
   "source": [
    "# coded_trimed[\"Category_Alias\"] = coded_trimed[\"Category_Alias\"].fillna(\"Unknown\")\n",
    "encoded, category_code = pd.factorize(data_set[\"Category_Alias\"]) # for categories\n",
    "data_set.loc[:, \"Category_Alias\"] = encoded\n",
    "\n",
    "encoded, category_code = pd.factorize(data_set[\"Product_Gender\"]) # for genders\n",
    "data_set.loc[:, \"Product_Gender\"] = encoded\n",
    "\n",
    "encoded, category_code = pd.factorize(data_set[\"Main_Gem\"]) # for gem\n",
    "data_set.loc[:, \"Main_Gem\"] = encoded\n",
    "\n",
    "encoded, category_code = pd.factorize(data_set[\"Main_Metal\"]) # for metal\n",
    "data_set.loc[:, \"Main_Metal\"] = encoded\n",
    "\n",
    "encoded, category_code = pd.factorize(data_set[\"Main_Color\"]) # for color\n",
    "data_set.loc[:, \"Main_Color\"] = encoded"
   ]
  },
  {
   "cell_type": "code",
   "execution_count": 40,
   "id": "779b4dc3",
   "metadata": {},
   "outputs": [
    {
     "name": "stdout",
     "output_type": "stream",
     "text": [
      "<class 'pandas.core.frame.DataFrame'>\n",
      "Int64Index: 80458 entries, 1 to 95909\n",
      "Data columns (total 13 columns):\n",
      " #   Column          Non-Null Count  Dtype  \n",
      "---  ------          --------------  -----  \n",
      " 0   Order_DateTime  80458 non-null  object \n",
      " 1   Order_ID        80458 non-null  int64  \n",
      " 2   Product_ID      80458 non-null  int64  \n",
      " 3   SKU_Quantity    80458 non-null  int64  \n",
      " 4   Category_ID     80458 non-null  float64\n",
      " 5   Category_Alias  80458 non-null  int64  \n",
      " 6   Brand_ID        76991 non-null  float64\n",
      " 7   Price_in_USD    80458 non-null  float64\n",
      " 8   User_ID         80458 non-null  float64\n",
      " 9   Product_Gender  80458 non-null  int64  \n",
      " 10  Main_Color      80458 non-null  int64  \n",
      " 11  Main_Metal      80458 non-null  int64  \n",
      " 12  Main_Gem        80458 non-null  int64  \n",
      "dtypes: float64(4), int64(8), object(1)\n",
      "memory usage: 8.6+ MB\n"
     ]
    }
   ],
   "source": [
    "data_set.info()"
   ]
  },
  {
   "cell_type": "code",
   "execution_count": 41,
   "id": "e2b243ce",
   "metadata": {},
   "outputs": [
    {
     "data": {
      "text/html": [
       "<div>\n",
       "<style scoped>\n",
       "    .dataframe tbody tr th:only-of-type {\n",
       "        vertical-align: middle;\n",
       "    }\n",
       "\n",
       "    .dataframe tbody tr th {\n",
       "        vertical-align: top;\n",
       "    }\n",
       "\n",
       "    .dataframe thead th {\n",
       "        text-align: right;\n",
       "    }\n",
       "</style>\n",
       "<table border=\"1\" class=\"dataframe\">\n",
       "  <thead>\n",
       "    <tr style=\"text-align: right;\">\n",
       "      <th></th>\n",
       "      <th>SKU_Quantity</th>\n",
       "      <th>Category_ID</th>\n",
       "      <th>Category_Alias</th>\n",
       "      <th>Brand_ID</th>\n",
       "      <th>Price_in_USD</th>\n",
       "      <th>Product_Gender</th>\n",
       "      <th>Main_Color</th>\n",
       "      <th>Main_Metal</th>\n",
       "      <th>Main_Gem</th>\n",
       "    </tr>\n",
       "  </thead>\n",
       "  <tbody>\n",
       "    <tr>\n",
       "      <th>SKU_Quantity</th>\n",
       "      <td>NaN</td>\n",
       "      <td>NaN</td>\n",
       "      <td>NaN</td>\n",
       "      <td>NaN</td>\n",
       "      <td>NaN</td>\n",
       "      <td>NaN</td>\n",
       "      <td>NaN</td>\n",
       "      <td>NaN</td>\n",
       "      <td>NaN</td>\n",
       "    </tr>\n",
       "    <tr>\n",
       "      <th>Category_ID</th>\n",
       "      <td>NaN</td>\n",
       "      <td>1.000000</td>\n",
       "      <td>-0.886212</td>\n",
       "      <td>0.111328</td>\n",
       "      <td>-0.296495</td>\n",
       "      <td>0.106286</td>\n",
       "      <td>0.003396</td>\n",
       "      <td>0.157834</td>\n",
       "      <td>0.050483</td>\n",
       "    </tr>\n",
       "    <tr>\n",
       "      <th>Category_Alias</th>\n",
       "      <td>NaN</td>\n",
       "      <td>-0.886212</td>\n",
       "      <td>1.000000</td>\n",
       "      <td>-0.111680</td>\n",
       "      <td>0.267257</td>\n",
       "      <td>-0.124101</td>\n",
       "      <td>-0.059402</td>\n",
       "      <td>0.105056</td>\n",
       "      <td>-0.082944</td>\n",
       "    </tr>\n",
       "    <tr>\n",
       "      <th>Brand_ID</th>\n",
       "      <td>NaN</td>\n",
       "      <td>0.111328</td>\n",
       "      <td>-0.111680</td>\n",
       "      <td>1.000000</td>\n",
       "      <td>-0.018428</td>\n",
       "      <td>0.623701</td>\n",
       "      <td>0.100816</td>\n",
       "      <td>0.003835</td>\n",
       "      <td>0.076277</td>\n",
       "    </tr>\n",
       "    <tr>\n",
       "      <th>Price_in_USD</th>\n",
       "      <td>NaN</td>\n",
       "      <td>-0.296495</td>\n",
       "      <td>0.267257</td>\n",
       "      <td>-0.018428</td>\n",
       "      <td>1.000000</td>\n",
       "      <td>0.049532</td>\n",
       "      <td>0.013177</td>\n",
       "      <td>-0.173050</td>\n",
       "      <td>-0.006630</td>\n",
       "    </tr>\n",
       "    <tr>\n",
       "      <th>Product_Gender</th>\n",
       "      <td>NaN</td>\n",
       "      <td>0.106286</td>\n",
       "      <td>-0.124101</td>\n",
       "      <td>0.623701</td>\n",
       "      <td>0.049532</td>\n",
       "      <td>1.000000</td>\n",
       "      <td>0.056950</td>\n",
       "      <td>-0.046436</td>\n",
       "      <td>0.166125</td>\n",
       "    </tr>\n",
       "    <tr>\n",
       "      <th>Main_Color</th>\n",
       "      <td>NaN</td>\n",
       "      <td>0.003396</td>\n",
       "      <td>-0.059402</td>\n",
       "      <td>0.100816</td>\n",
       "      <td>0.013177</td>\n",
       "      <td>0.056950</td>\n",
       "      <td>1.000000</td>\n",
       "      <td>-0.238080</td>\n",
       "      <td>0.136232</td>\n",
       "    </tr>\n",
       "    <tr>\n",
       "      <th>Main_Metal</th>\n",
       "      <td>NaN</td>\n",
       "      <td>0.157834</td>\n",
       "      <td>0.105056</td>\n",
       "      <td>0.003835</td>\n",
       "      <td>-0.173050</td>\n",
       "      <td>-0.046436</td>\n",
       "      <td>-0.238080</td>\n",
       "      <td>1.000000</td>\n",
       "      <td>-0.055603</td>\n",
       "    </tr>\n",
       "    <tr>\n",
       "      <th>Main_Gem</th>\n",
       "      <td>NaN</td>\n",
       "      <td>0.050483</td>\n",
       "      <td>-0.082944</td>\n",
       "      <td>0.076277</td>\n",
       "      <td>-0.006630</td>\n",
       "      <td>0.166125</td>\n",
       "      <td>0.136232</td>\n",
       "      <td>-0.055603</td>\n",
       "      <td>1.000000</td>\n",
       "    </tr>\n",
       "  </tbody>\n",
       "</table>\n",
       "</div>"
      ],
      "text/plain": [
       "                SKU_Quantity  Category_ID  Category_Alias  Brand_ID  \\\n",
       "SKU_Quantity             NaN          NaN             NaN       NaN   \n",
       "Category_ID              NaN     1.000000       -0.886212  0.111328   \n",
       "Category_Alias           NaN    -0.886212        1.000000 -0.111680   \n",
       "Brand_ID                 NaN     0.111328       -0.111680  1.000000   \n",
       "Price_in_USD             NaN    -0.296495        0.267257 -0.018428   \n",
       "Product_Gender           NaN     0.106286       -0.124101  0.623701   \n",
       "Main_Color               NaN     0.003396       -0.059402  0.100816   \n",
       "Main_Metal               NaN     0.157834        0.105056  0.003835   \n",
       "Main_Gem                 NaN     0.050483       -0.082944  0.076277   \n",
       "\n",
       "                Price_in_USD  Product_Gender  Main_Color  Main_Metal  Main_Gem  \n",
       "SKU_Quantity             NaN             NaN         NaN         NaN       NaN  \n",
       "Category_ID        -0.296495        0.106286    0.003396    0.157834  0.050483  \n",
       "Category_Alias      0.267257       -0.124101   -0.059402    0.105056 -0.082944  \n",
       "Brand_ID           -0.018428        0.623701    0.100816    0.003835  0.076277  \n",
       "Price_in_USD        1.000000        0.049532    0.013177   -0.173050 -0.006630  \n",
       "Product_Gender      0.049532        1.000000    0.056950   -0.046436  0.166125  \n",
       "Main_Color          0.013177        0.056950    1.000000   -0.238080  0.136232  \n",
       "Main_Metal         -0.173050       -0.046436   -0.238080    1.000000 -0.055603  \n",
       "Main_Gem           -0.006630        0.166125    0.136232   -0.055603  1.000000  "
      ]
     },
     "execution_count": 41,
     "metadata": {},
     "output_type": "execute_result"
    }
   ],
   "source": [
    "# Correlation metrix\n",
    "correlations = coded_trimed.drop(labels = [\"Order_DateTime\", \"Product_ID\", \"Order_ID\", \"User_ID\"], axis = 1).corr(method = \"spearman\")\n",
    "correlations"
   ]
  },
  {
   "cell_type": "code",
   "execution_count": 42,
   "id": "41ab198b",
   "metadata": {},
   "outputs": [
    {
     "data": {
      "image/png": "[encoded data removed]",
      "text/plain": [
       "<Figure size 1000x1000 with 2 Axes>"
      ]
     },
     "metadata": {},
     "output_type": "display_data"
    }
   ],
   "source": [
    "plt.figure(figsize = (10, 10))\n",
    "sns.heatmap(correlations, annot = True, center = 0.3)\n",
    "plt.show(); plt.close()"
   ]
  },
  {
   "cell_type": "code",
   "execution_count": 43,
   "id": "9340546f",
   "metadata": {},
   "outputs": [
    {
     "data": {
      "text/plain": [
       "{'SKU_Quantity': [],\n",
       " 'Category_ID': [],\n",
       " 'Category_Alias': ['Price_in_USD'],\n",
       " 'Brand_ID': ['Product_Gender'],\n",
       " 'Price_in_USD': ['Category_Alias'],\n",
       " 'Product_Gender': ['Brand_ID'],\n",
       " 'Main_Color': [],\n",
       " 'Main_Metal': [],\n",
       " 'Main_Gem': []}"
      ]
     },
     "execution_count": 43,
     "metadata": {},
     "output_type": "execute_result"
    }
   ],
   "source": [
    "# Set the correlation limits and see features that fall the set limits\n",
    "upper = 1\n",
    "lower = 0.2\n",
    "correlated_colums = {\n",
    "    column: correlations[(correlations[column] > lower) & (upper > correlations[column])].index.tolist()\n",
    "    for column in correlations.columns\n",
    "}\n",
    "correlated_colums"
   ]
  },
  {
   "cell_type": "code",
   "execution_count": 44,
   "id": "7325e0ae",
   "metadata": {},
   "outputs": [],
   "source": [
    "# NOTE: Only 'Category_Alias' correlates with the targeted feature (price)"
   ]
  },
  {
   "cell_type": "code",
   "execution_count": 45,
   "id": "df99e017",
   "metadata": {},
   "outputs": [],
   "source": [
    "# DATA PREPARATION\n"
   ]
  },
  {
   "cell_type": "code",
   "execution_count": 46,
   "id": "139662ab",
   "metadata": {},
   "outputs": [],
   "source": [
    "# Columns to be Eliminate\n",
    "columns_to_eliminate = [\"Product_ID\", \"Order_ID\", \"User_ID\", \"SKU_Quantity\", \"Category_ID\"]"
   ]
  },
  {
   "cell_type": "code",
   "execution_count": 47,
   "id": "e2695a01",
   "metadata": {},
   "outputs": [
    {
     "data": {
      "text/plain": [
       "(80458, 13)"
      ]
     },
     "execution_count": 47,
     "metadata": {},
     "output_type": "execute_result"
    }
   ],
   "source": [
    "coded_trimed.shape"
   ]
  },
  {
   "cell_type": "code",
   "execution_count": 48,
   "id": "af3c66e1",
   "metadata": {},
   "outputs": [
    {
     "data": {
      "text/plain": [
       "(80458, 8)"
      ]
     },
     "execution_count": 48,
     "metadata": {},
     "output_type": "execute_result"
    }
   ],
   "source": [
    "coded_trimed.drop(labels = columns_to_eliminate, axis = 1, inplace = True)\n",
    "coded_trimed.shape"
   ]
  },
  {
   "cell_type": "code",
   "execution_count": 49,
   "id": "96874140",
   "metadata": {},
   "outputs": [
    {
     "data": {
      "text/plain": [
       "(80458, 7)"
      ]
     },
     "execution_count": 49,
     "metadata": {},
     "output_type": "execute_result"
    }
   ],
   "source": [
    "coded_trimed.drop(labels = \"Order_DateTime\", axis = 1, inplace = True)\n",
    "coded_trimed.shape"
   ]
  },
  {
   "cell_type": "code",
   "execution_count": 50,
   "id": "962f9ec4",
   "metadata": {},
   "outputs": [],
   "source": [
    "# For data spliting, import\n",
    "from sklearn.model_selection import train_test_split"
   ]
  },
  {
   "cell_type": "code",
   "execution_count": 51,
   "id": "259320de",
   "metadata": {},
   "outputs": [],
   "source": [
    "# Separate features from labels\n",
    "x, y = coded_trimed.drop(labels = [\"Price_in_USD\"], axis = 1), coded_trimed[\"Price_in_USD\"]"
   ]
  },
  {
   "cell_type": "code",
   "execution_count": 54,
   "id": "4653b806",
   "metadata": {},
   "outputs": [],
   "source": [
    "x_train, x_test, y_train, y_test = train_test_split(x, y, test_size = 0.1)"
   ]
  },
  {
   "cell_type": "code",
   "execution_count": 68,
   "id": "dac2324f",
   "metadata": {},
   "outputs": [
    {
     "data": {
      "text/plain": [
       "5367     209.81\n",
       "4263     520.41\n",
       "74324     83.42\n",
       "25979    629.22\n",
       "30423     77.95\n",
       "Name: Price_in_USD, dtype: float64"
      ]
     },
     "execution_count": 68,
     "metadata": {},
     "output_type": "execute_result"
    }
   ],
   "source": [
    "y_train.head()"
   ]
  },
  {
   "cell_type": "code",
   "execution_count": null,
   "id": "88bf6008",
   "metadata": {},
   "outputs": [],
   "source": [
    "# DATA MODELING"
   ]
  },
  {
   "cell_type": "code",
   "execution_count": 55,
   "id": "68646854",
   "metadata": {
    "scrolled": true
   },
   "outputs": [
    {
     "name": "stdout",
     "output_type": "stream",
     "text": [
      "Requirement already satisfied: catboost in c:\\users\\testimoni\\anaconda3\\lib\\site-packages (1.2.8)\n",
      "Requirement already satisfied: graphviz in c:\\users\\testimoni\\anaconda3\\lib\\site-packages (from catboost) (0.20.3)\n",
      "Requirement already satisfied: scipy in c:\\users\\testimoni\\anaconda3\\lib\\site-packages (from catboost) (1.9.1)\n",
      "Requirement already satisfied: numpy<3.0,>=1.16.0 in c:\\users\\testimoni\\anaconda3\\lib\\site-packages (from catboost) (1.21.5)\n",
      "Requirement already satisfied: pandas>=0.24 in c:\\users\\testimoni\\anaconda3\\lib\\site-packages (from catboost) (1.4.4)\n",
      "Requirement already satisfied: matplotlib in c:\\users\\testimoni\\anaconda3\\lib\\site-packages (from catboost) (3.5.2)\n",
      "Requirement already satisfied: plotly in c:\\users\\testimoni\\anaconda3\\lib\\site-packages (from catboost) (5.9.0)\n",
      "Requirement already satisfied: six in c:\\users\\testimoni\\anaconda3\\lib\\site-packages (from catboost) (1.16.0)\n",
      "Requirement already satisfied: pytz>=2020.1 in c:\\users\\testimoni\\anaconda3\\lib\\site-packages (from pandas>=0.24->catboost) (2022.1)\n",
      "Requirement already satisfied: python-dateutil>=2.8.1 in c:\\users\\testimoni\\anaconda3\\lib\\site-packages (from pandas>=0.24->catboost) (2.8.2)\n",
      "Requirement already satisfied: packaging>=20.0 in c:\\users\\testimoni\\anaconda3\\lib\\site-packages (from matplotlib->catboost) (21.3)\n",
      "Requirement already satisfied: fonttools>=4.22.0 in c:\\users\\testimoni\\anaconda3\\lib\\site-packages (from matplotlib->catboost) (4.25.0)\n",
      "Requirement already satisfied: pyparsing>=2.2.1 in c:\\users\\testimoni\\anaconda3\\lib\\site-packages (from matplotlib->catboost) (3.0.9)\n",
      "Requirement already satisfied: kiwisolver>=1.0.1 in c:\\users\\testimoni\\anaconda3\\lib\\site-packages (from matplotlib->catboost) (1.4.2)\n",
      "Requirement already satisfied: pillow>=6.2.0 in c:\\users\\testimoni\\anaconda3\\lib\\site-packages (from matplotlib->catboost) (9.2.0)\n",
      "Requirement already satisfied: cycler>=0.10 in c:\\users\\testimoni\\anaconda3\\lib\\site-packages (from matplotlib->catboost) (0.11.0)\n",
      "Requirement already satisfied: tenacity>=6.2.0 in c:\\users\\testimoni\\anaconda3\\lib\\site-packages (from plotly->catboost) (8.0.1)\n"
     ]
    }
   ],
   "source": [
    "!pip install catboost"
   ]
  },
  {
   "cell_type": "code",
   "execution_count": 56,
   "id": "fea2e23d",
   "metadata": {},
   "outputs": [],
   "source": [
    "# To encode our categorical features, we\n",
    "from sklearn.preprocessing import OrdinalEncoder, LabelEncoder, OneHotEncoder\n",
    "from sklearn.compose import TransformedTargetRegressor, ColumnTransformer\n",
    "from sklearn.impute import SimpleImputer\n",
    "\n",
    "from sklearn.linear_model import LinearRegression\n",
    "from sklearn.ensemble import AdaBoostRegressor, ExtraTreesRegressor\n",
    "from catboost import CatBoostRegressor"
   ]
  },
  {
   "cell_type": "code",
   "execution_count": 57,
   "id": "5d31027b",
   "metadata": {},
   "outputs": [],
   "source": [
    "from sklearn.pipeline import Pipeline"
   ]
  },
  {
   "cell_type": "code",
   "execution_count": 58,
   "id": "3196cf08",
   "metadata": {},
   "outputs": [],
   "source": [
    "# Building the pipeline\n",
    "def generate_pipeline(model, column_indices, categorical_indices, fill_missing = True, one_hot = True, label_encode = False):\n",
    "    # fix missing values\n",
    "    first_transformer = ColumnTransformer(\n",
    "    transformer = [\n",
    "        (\"imputer\", SimpleImputer(strategy = \"most_frequent\"), column_indices)\n",
    "    ],\n",
    "        remainder = \"passthrough\",\n",
    "        sparse_threshold = 0\n",
    "    )\n",
    "    # one hot encode\n",
    "    second_transformer = ColumnTransformer(\n",
    "    transformer = [\n",
    "        (\"one_hot\", OneHotEncoder(), categorical_indices)\n",
    "    ],\n",
    "        remainder = \"passthrough\",\n",
    "        sparse_threshold = 0\n",
    "    )\n",
    "    # label encode\n",
    "    third_transformer = ColumnTransformer(\n",
    "    transformers = [\n",
    "        (\"ordinal\", OrdinalEncoder(), categorical_indices)\n",
    "    ],\n",
    "        remainder = \"passthrough\",\n",
    "        sparse_threshold = 0\n",
    "    )\n",
    "    \n",
    "    steps = []\n",
    "    if fill_missing:\n",
    "        step.append((\"first\", first_transformer))\n",
    "    if label_encode:\n",
    "        step.append((\"third\", third_transformer))\n",
    "    if one_hot:\n",
    "        step.append((\"second\", second_transformer))\n",
    "        \n",
    "    steps.append((\"model\", model))\n",
    "    \n",
    "    model_pipe = Pipeline(steps = steps)\n",
    "    \n",
    "    return model_pipe"
   ]
  },
  {
   "cell_type": "code",
   "execution_count": 60,
   "id": "81f968ae",
   "metadata": {},
   "outputs": [
    {
     "data": {
      "text/html": [
       "<div>\n",
       "<style scoped>\n",
       "    .dataframe tbody tr th:only-of-type {\n",
       "        vertical-align: middle;\n",
       "    }\n",
       "\n",
       "    .dataframe tbody tr th {\n",
       "        vertical-align: top;\n",
       "    }\n",
       "\n",
       "    .dataframe thead th {\n",
       "        text-align: right;\n",
       "    }\n",
       "</style>\n",
       "<table border=\"1\" class=\"dataframe\">\n",
       "  <thead>\n",
       "    <tr style=\"text-align: right;\">\n",
       "      <th></th>\n",
       "      <th>Category_Alias</th>\n",
       "      <th>Brand_ID</th>\n",
       "      <th>Product_Gender</th>\n",
       "      <th>Main_Color</th>\n",
       "      <th>Main_Metal</th>\n",
       "      <th>Main_Gem</th>\n",
       "    </tr>\n",
       "  </thead>\n",
       "  <tbody>\n",
       "    <tr>\n",
       "      <th>1</th>\n",
       "      <td>0</td>\n",
       "      <td>1.0</td>\n",
       "      <td>0</td>\n",
       "      <td>0</td>\n",
       "      <td>0</td>\n",
       "      <td>0</td>\n",
       "    </tr>\n",
       "    <tr>\n",
       "      <th>2</th>\n",
       "      <td>0</td>\n",
       "      <td>0.0</td>\n",
       "      <td>0</td>\n",
       "      <td>1</td>\n",
       "      <td>0</td>\n",
       "      <td>1</td>\n",
       "    </tr>\n",
       "    <tr>\n",
       "      <th>3</th>\n",
       "      <td>1</td>\n",
       "      <td>0.0</td>\n",
       "      <td>-1</td>\n",
       "      <td>1</td>\n",
       "      <td>0</td>\n",
       "      <td>2</td>\n",
       "    </tr>\n",
       "    <tr>\n",
       "      <th>4</th>\n",
       "      <td>2</td>\n",
       "      <td>1.0</td>\n",
       "      <td>-1</td>\n",
       "      <td>1</td>\n",
       "      <td>0</td>\n",
       "      <td>-1</td>\n",
       "    </tr>\n",
       "    <tr>\n",
       "      <th>5</th>\n",
       "      <td>2</td>\n",
       "      <td>0.0</td>\n",
       "      <td>-1</td>\n",
       "      <td>1</td>\n",
       "      <td>0</td>\n",
       "      <td>1</td>\n",
       "    </tr>\n",
       "  </tbody>\n",
       "</table>\n",
       "</div>"
      ],
      "text/plain": [
       "   Category_Alias  Brand_ID  Product_Gender  Main_Color  Main_Metal  Main_Gem\n",
       "1               0       1.0               0           0           0         0\n",
       "2               0       0.0               0           1           0         1\n",
       "3               1       0.0              -1           1           0         2\n",
       "4               2       1.0              -1           1           0        -1\n",
       "5               2       0.0              -1           1           0         1"
      ]
     },
     "execution_count": 60,
     "metadata": {},
     "output_type": "execute_result"
    }
   ],
   "source": [
    "x.head()"
   ]
  },
  {
   "cell_type": "code",
   "execution_count": 61,
   "id": "b248bcad",
   "metadata": {},
   "outputs": [],
   "source": [
    "# Determining the indices\n",
    "columns = x.columns.tolist()\n",
    "\n",
    "column_indices = [columns.index(c) for c in columns]\n",
    "categorical_features = [c for c in columns if c not in [\"Brand_ID\"]]\n",
    "categorical_indices = [columns.index(c) for c in categorical_features]"
   ]
  },
  {
   "cell_type": "code",
   "execution_count": 65,
   "id": "58cfa8b9",
   "metadata": {},
   "outputs": [
    {
     "data": {
      "text/plain": [
       "[0, 2, 3, 4, 5]"
      ]
     },
     "execution_count": 65,
     "metadata": {},
     "output_type": "execute_result"
    }
   ],
   "source": [
    "categorical_indices"
   ]
  },
  {
   "cell_type": "code",
   "execution_count": null,
   "id": "ce7e8ad4",
   "metadata": {},
   "outputs": [],
   "source": [
    "# Catboost pipeline 06:10 of DataModelingII"
   ]
  },
  {
   "cell_type": "code",
   "execution_count": null,
   "id": "d8e5de32",
   "metadata": {},
   "outputs": [],
   "source": [
    "# Linear Regression (LR) pipeline 06:32"
   ]
  },
  {
   "cell_type": "code",
   "execution_count": null,
   "id": "619d422b",
   "metadata": {},
   "outputs": [],
   "source": [
    "# Adaboost pipiline"
   ]
  },
  {
   "cell_type": "code",
   "execution_count": null,
   "id": "b3864ba2",
   "metadata": {},
   "outputs": [],
   "source": [
    "# ExtraTree pipeline\n"
   ]
  }
 ],
 "metadata": {
  "kernelspec": {
   "display_name": "Python 3 (ipykernel)",
   "language": "python",
   "name": "python3"
  },
  "language_info": {
   "codemirror_mode": {
    "name": "ipython",
    "version": 3
   },
   "file_extension": ".py",
   "mimetype": "text/x-python",
   "name": "python",
   "nbconvert_exporter": "python",
   "pygments_lexer": "ipython3",
   "version": "3.9.13"
  }
 },
 "nbformat": 4,
 "nbformat_minor": 5
}
